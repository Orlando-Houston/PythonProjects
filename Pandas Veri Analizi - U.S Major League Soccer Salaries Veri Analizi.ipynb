{
 "cells": [
  {
   "cell_type": "code",
   "execution_count": null,
   "id": "announced-scout",
   "metadata": {},
   "outputs": [],
   "source": [
    "# pandasi dahil et"
   ]
  },
  {
   "cell_type": "code",
   "execution_count": null,
   "id": "smoking-hotel",
   "metadata": {},
   "outputs": [],
   "source": [
    "#veri setini oku"
   ]
  },
  {
   "cell_type": "code",
   "execution_count": null,
   "id": "freelance-sauce",
   "metadata": {},
   "outputs": [],
   "source": [
    "# ilk onu oku"
   ]
  },
  {
   "cell_type": "code",
   "execution_count": null,
   "id": "intermediate-dealing",
   "metadata": {},
   "outputs": [],
   "source": [
    "#kactane veri oldugunu bul"
   ]
  },
  {
   "cell_type": "code",
   "execution_count": null,
   "id": "african-indianapolis",
   "metadata": {},
   "outputs": [],
   "source": [
    "# tum maaslarin ortlamasini bul"
   ]
  },
  {
   "cell_type": "code",
   "execution_count": null,
   "id": "environmental-cruise",
   "metadata": {},
   "outputs": [],
   "source": [
    "# En yuksek maas"
   ]
  },
  {
   "cell_type": "code",
   "execution_count": null,
   "id": "terminal-brief",
   "metadata": {},
   "outputs": [],
   "source": [
    "# En yuksek tazminat alan oyuncunun soy ismi"
   ]
  },
  {
   "cell_type": "code",
   "execution_count": null,
   "id": "better-buffer",
   "metadata": {},
   "outputs": [],
   "source": [
    "# Gonzales Piresin oynadigi mevki"
   ]
  },
  {
   "cell_type": "code",
   "execution_count": null,
   "id": "applicable-marathon",
   "metadata": {},
   "outputs": [],
   "source": [
    "# mevkilere gore gruplayarak her mevkinin ortamaa maasini bulun"
   ]
  },
  {
   "cell_type": "code",
   "execution_count": null,
   "id": "vulnerable-paper",
   "metadata": {},
   "outputs": [],
   "source": [
    "# kac farkli mevki var"
   ]
  },
  {
   "cell_type": "code",
   "execution_count": null,
   "id": "german-papua",
   "metadata": {},
   "outputs": [],
   "source": [
    "# her mevkide kac oyuncu var"
   ]
  },
  {
   "cell_type": "code",
   "execution_count": null,
   "id": "decent-delay",
   "metadata": {},
   "outputs": [],
   "source": [
    "# Her takimda kac oyuncu var"
   ]
  },
  {
   "cell_type": "code",
   "execution_count": null,
   "id": "typical-mixture",
   "metadata": {},
   "outputs": [],
   "source": [
    "# Soyadlarinin icinde son gecen oyunculari bulun"
   ]
  },
  {
   "cell_type": "code",
   "execution_count": null,
   "id": "portable-surgeon",
   "metadata": {},
   "outputs": [],
   "source": []
  },
  {
   "cell_type": "code",
   "execution_count": null,
   "id": "funky-height",
   "metadata": {},
   "outputs": [],
   "source": []
  }
 ],
 "metadata": {
  "kernelspec": {
   "display_name": "Python 3",
   "language": "python",
   "name": "python3"
  },
  "language_info": {
   "codemirror_mode": {
    "name": "ipython",
    "version": 3
   },
   "file_extension": ".py",
   "mimetype": "text/x-python",
   "name": "python",
   "nbconvert_exporter": "python",
   "pygments_lexer": "ipython3",
   "version": "3.9.1"
  }
 },
 "nbformat": 4,
 "nbformat_minor": 5
}
