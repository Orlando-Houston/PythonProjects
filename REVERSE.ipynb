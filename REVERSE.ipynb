{
 "cells": [
  {
   "cell_type": "code",
   "execution_count": 2,
   "metadata": {},
   "outputs": [
    {
     "name": "stdout",
     "output_type": "stream",
     "text": [
      "python\n",
      "nohtyp\n"
     ]
    }
   ],
   "source": [
    "#using slicing\n",
    "string = 'python'\n",
    "rev_str= string[::-1]\n",
    "print(string)\n",
    "print(rev_str)"
   ]
  },
  {
   "cell_type": "code",
   "execution_count": 3,
   "metadata": {},
   "outputs": [
    {
     "name": "stdout",
     "output_type": "stream",
     "text": [
      "nohtyp\n"
     ]
    }
   ],
   "source": [
    "#using reversed function\n",
    "string ='python'\n",
    "rev = reversed(string)\n",
    "rev_str =''.join(rev)\n",
    "print(rev_str)"
   ]
  },
  {
   "cell_type": "code",
   "execution_count": 4,
   "metadata": {},
   "outputs": [
    {
     "name": "stdout",
     "output_type": "stream",
     "text": [
      "nohtyp\n"
     ]
    }
   ],
   "source": [
    "#using recursion\n",
    "def reverse(string):\n",
    "    if len(string)==0:\n",
    "        return string\n",
    "    else:\n",
    "        return reverse(string[1:])+string[0]\n",
    "    \n",
    "string=\"python\"\n",
    "print(reverse(string))"
   ]
  },
  {
   "cell_type": "code",
   "execution_count": 5,
   "metadata": {},
   "outputs": [
    {
     "name": "stdout",
     "output_type": "stream",
     "text": [
      "nohtyp\n"
     ]
    }
   ],
   "source": [
    "# using for loop\n",
    "string ='python'\n",
    "\n",
    "rev_st=\"\"\n",
    "for s in string:\n",
    "    rev_st=s+rev_st\n",
    "print(rev_st)"
   ]
  },
  {
   "cell_type": "code",
   "execution_count": 6,
   "metadata": {},
   "outputs": [
    {
     "name": "stdout",
     "output_type": "stream",
     "text": [
      "nohtyp\n"
     ]
    }
   ],
   "source": [
    "# using while loop\n",
    "string =\"python\"\n",
    "rev_s =\"\"\n",
    "length =len(string)-1\n",
    "while length>=0:\n",
    "    rev_s +=string[length]\n",
    "    length -=1\n",
    "    \n",
    "print(rev_s)"
   ]
  },
  {
   "cell_type": "code",
   "execution_count": 10,
   "metadata": {},
   "outputs": [
    {
     "name": "stdout",
     "output_type": "stream",
     "text": [
      "nohtyp\n"
     ]
    }
   ],
   "source": [
    "# Using stack\n",
    "def createStack():\n",
    "    stack=[]\n",
    "    return stack\n",
    "\n",
    "def push(stack,item):\n",
    "    stack.append(item)\n",
    "def pop(stack):\n",
    "    return stack.pop()\n",
    "def reverse(str):\n",
    "    n=len(str)\n",
    "    stack = createStack()\n",
    "    for i in range(0,n):\n",
    "        push(stack, str[i])\n",
    "    str = \"\"\n",
    "    for i in range(0,n):\n",
    "        str +=pop(stack)\n",
    "    return str\n",
    "str = \"python\"\n",
    "print(reverse(str))"
   ]
  },
  {
   "cell_type": "code",
   "execution_count": null,
   "metadata": {},
   "outputs": [],
   "source": []
  }
 ],
 "metadata": {
  "kernelspec": {
   "display_name": "Python 3",
   "language": "python",
   "name": "python3"
  },
  "language_info": {
   "codemirror_mode": {
    "name": "ipython",
    "version": 3
   },
   "file_extension": ".py",
   "mimetype": "text/x-python",
   "name": "python",
   "nbconvert_exporter": "python",
   "pygments_lexer": "ipython3",
   "version": "3.8.5"
  }
 },
 "nbformat": 4,
 "nbformat_minor": 4
}
