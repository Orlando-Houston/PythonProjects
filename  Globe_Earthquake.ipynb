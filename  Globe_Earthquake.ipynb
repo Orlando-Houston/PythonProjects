{
 "cells": [
  {
   "cell_type": "markdown",
   "metadata": {},
   "source": [
    "Import the Topography Data\n",
    "Firstly, importing the values of latitude, longitude, and topography from the downloaded NetCDF file using the Etopo function.\n",
    "Input: longitude (lon_area) and latitude (lat_area) based on the selected area, and resolution.\n",
    "Output: mesh shape longitude (lon), latitude (lat) within the selected area, and topography (topo) based on resolution.\n",
    "* resolution has to be in degree unit and the highest resolution will be 0.0167 degree"
   ]
  },
  {
   "cell_type": "code",
   "execution_count": 72,
   "metadata": {},
   "outputs": [],
   "source": [
    "import os"
   ]
  },
  {
   "cell_type": "code",
   "execution_count": 73,
   "metadata": {},
   "outputs": [],
   "source": [
    "import numpy as np"
   ]
  },
  {
   "cell_type": "code",
   "execution_count": 74,
   "metadata": {},
   "outputs": [],
   "source": [
    "import import_ipynb \n",
    "from netCDF4 import Dataset"
   ]
  },
  {
   "cell_type": "code",
   "execution_count": 75,
   "metadata": {},
   "outputs": [],
   "source": [
    "def Etopo(lon_area, lat_area, resolution):\n",
    "  ### Input\n",
    "  # resolution: resolution of topography for both of longitude and latitude [deg]\n",
    "  # (Original resolution is 0.0167 deg)\n",
    "  # lon_area and lat_area: the region of the map which you want like [100, 130], [20, 25]\n",
    "  ###\n",
    "  ### Output\n",
    "  # Mesh type longitude, latitude, and topography data\n",
    "  ###\n",
    "  \n",
    "  # Read NetCDF data\n",
    "  data = Dataset(\"ETOPO1_Ice_g_gdal.grd\", \"r\")\n",
    "  \n",
    "  # Get data\n",
    "  lon_range = data.variables['x_range'][:]\n",
    "  lat_range = data.variables['y_range'][:]\n",
    "  topo_range = data.variables['z_range'][:]\n",
    "  spacing = data.variables['spacing'][:]\n",
    "  dimension = data.variables['dimension'][:]\n",
    "  z = data.variables['z'][:]\n",
    "  lon_num = dimension[0]\n",
    "  lat_num = dimension[1]\n",
    "  \n",
    "  # Prepare array\n",
    "  lon_input = np.zeros(lon_num); lat_input = np.zeros(lat_num)\n",
    "  for i in range(lon_num):\n",
    "    lon_input[i] = lon_range[0] + i * spacing[0]\n",
    "  for i in range(lat_num):\n",
    "    lat_input[i] = lat_range[0] + i * spacing[1]\n",
    "\n",
    "  # Create 2D array\n",
    "  lon, lat = np.meshgrid(lon_input, lat_input)\n",
    "  \n",
    "  # Convert 2D array from 1D array for z value\n",
    "  topo = np.reshape(z, (lat_num, lon_num))\n",
    "  \n",
    "  # Skip the data for resolution\n",
    "  if ((resolution < spacing[0]) | (resolution < spacing[1])):\n",
    "    print('Set the highest resolution')\n",
    "  else:\n",
    "    skip = int(resolution/spacing[0])\n",
    "    lon = lon[::skip,::skip]\n",
    "    lat = lat[::skip,::skip]\n",
    "    topo = topo[::skip,::skip]\n",
    "    \n",
    "  topo = topo[::-1]\n",
    "  \n",
    "  # Select the range of map\n",
    "  range1 = np.where((lon>=lon_area[0]) & (lon<=lon_area[1]))\n",
    "  lon = lon[range1]; lat = lat[range1]; topo = topo[range1]\n",
    "  range2 = np.where((lat>=lat_area[0]) & (lat<=lat_area[1]))\n",
    "  lon = lon[range2]; lat = lat[range2]; topo = topo[range2]\n",
    "  \n",
    "  # Convert 2D again\n",
    "  lon_num = len(np.unique(lon))\n",
    "  lat_num = len(np.unique(lat))\n",
    "  lon = np.reshape(lon, (lat_num, lon_num))\n",
    "  lat = np.reshape(lat, (lat_num, lon_num))\n",
    "  topo = np.reshape(topo, (lat_num, lon_num))\n",
    "  \n",
    "  return lon, lat, topo\n"
   ]
  },
  {
   "cell_type": "markdown",
   "metadata": {},
   "source": [
    "1–2. Converting to the spherical coordinates\n",
    "To make the spherical plot using the imported longitude (lon) and latitude (lat) data, we convert these data into the spherical coordinates. The idea is not complicated. Just converting from the orthogonal coordinate to the spherical coordinate using the basic math functional form."
   ]
  },
  {
   "cell_type": "code",
   "execution_count": 76,
   "metadata": {},
   "outputs": [],
   "source": [
    "def degree2radians(degree):\n",
    "  # convert degrees to radians\n",
    "  return degree*np.pi/180\n",
    "  \n",
    "def mapping_map_to_sphere(lon, lat, radius=1):\n",
    "  # this function maps the points of coords (lon, lat) to points onto the sphere of radius radius\n",
    "  lon=np.array(lon, dtype=np.float64)\n",
    "  lat=np.array(lat, dtype=np.float64)\n",
    "  lon=degree2radians(lon)\n",
    "  lat=degree2radians(lat)\n",
    "  xs=radius*np.cos(lon)*np.cos(lat)\n",
    "  ys=radius*np.sin(lon)*np.cos(lat)\n",
    "  zs=radius*np.sin(lat)\n",
    "  return xs, ys, zs"
   ]
  },
  {
   "cell_type": "markdown",
   "metadata": {},
   "source": [
    "1–3. Plot the Interactive Globe using Plotly\n",
    "Here we plot the interactive Globe using the data of latitude, longitude described as the spherical coordinated, and topography.\n",
    "Firstly, we call the Etopo function defined in Step. 1 to read the array of longitude (lon_topo), latitude (lat_topo), and topography (topo) covering the whole globe. If the resolution is too high, the size of data becomes huge due to the 3-dimensional data. Here we adopt 0.8 degrees as the value of resolution.\n"
   ]
  },
  {
   "cell_type": "code",
   "execution_count": 77,
   "metadata": {},
   "outputs": [],
   "source": [
    "# Import topography data\n",
    "# Select the area you want\n",
    "resolution = 0.8\n",
    "lon_area = [-180., 180.]\n",
    "lat_area = [-90., 90.]\n",
    "# Get mesh-shape topography data\n",
    "lon_topo, lat_topo, topo = Etopo(lon_area, lat_area, resolution)"
   ]
  },
  {
   "cell_type": "markdown",
   "metadata": {},
   "source": [
    "And then, converting to the spherical coordinates using the created function of mapping_map_to_sphere"
   ]
  },
  {
   "cell_type": "code",
   "execution_count": 78,
   "metadata": {},
   "outputs": [],
   "source": [
    "\n",
    "xs , ys , zs  =  mapping_map_to_sphere ( lon_topo , lat_topo )"
   ]
  },
  {
   "cell_type": "markdown",
   "metadata": {},
   "source": [
    "We also need to define the color scale of the topography we plot. The color scale in this example is defined as follows:"
   ]
  },
  {
   "cell_type": "code",
   "execution_count": 79,
   "metadata": {},
   "outputs": [],
   "source": [
    "Ctopo = [[0, 'rgb(0, 0, 70)'],[0.2, 'rgb(0,90,150)'], \n",
    "          [0.4, 'rgb(150,180,230)'], [0.5, 'rgb(210,230,250)'],\n",
    "          [0.50001, 'rgb(0,120,0)'], [0.57, 'rgb(220,180,130)'], \n",
    "          [0.65, 'rgb(120,100,0)'], [0.75, 'rgb(80,70,0)'], \n",
    "          [0.9, 'rgb(200,200,200)'], [1.0, 'rgb(255,255,255)']]\n",
    "cmin = -8000\n",
    "cmax = 8000"
   ]
  },
  {
   "cell_type": "markdown",
   "metadata": {},
   "source": [
    "We prepare the plot using Plotly as follows:"
   ]
  },
  {
   "cell_type": "code",
   "execution_count": 80,
   "metadata": {},
   "outputs": [],
   "source": [
    "topo_sphere=dict(type='surface',\n",
    "  x=xs,\n",
    "  y=ys,\n",
    "  z=zs,\n",
    "  colorscale=Ctopo,\n",
    "  surfacecolor=topo,\n",
    "  cmin=cmin,\n",
    "  cmax=cmax)"
   ]
  },
  {
   "cell_type": "markdown",
   "metadata": {},
   "source": [
    "To make our plot more brilliant, the axes are removed as follows:"
   ]
  },
  {
   "cell_type": "code",
   "execution_count": 81,
   "metadata": {},
   "outputs": [],
   "source": [
    "noaxis=dict(showbackground=False,\n",
    "  showgrid=False,\n",
    "  showline=False,\n",
    "  showticklabels=False,\n",
    "  ticks='',\n",
    "  title='',\n",
    "  zeroline=False)"
   ]
  },
  {
   "cell_type": "markdown",
   "metadata": {},
   "source": [
    "Figure title (‘3D spherical topography map’), font (‘Courier New’), and its associated settings are described here.\n",
    "Note that, black and white are selected as the background and font color, respectively, to make our globe being in the universe:\n"
   ]
  },
  {
   "cell_type": "code",
   "execution_count": 82,
   "metadata": {},
   "outputs": [],
   "source": [
    "import plotly.graph_objs as go\n",
    "\n",
    "titlecolor = 'white'\n",
    "bgcolor = 'black'\n",
    "\n",
    "layout = go.Layout(\n",
    "  autosize=False, width=1200, height=800,\n",
    "  title = '3D spherical topography map',\n",
    "  titlefont = dict(family='Courier New', color=titlecolor),\n",
    "  showlegend = False,\n",
    "  scene = dict(\n",
    "    xaxis = noaxis,\n",
    "    yaxis = noaxis,\n",
    "    zaxis = noaxis,\n",
    "    aspectmode='manual',\n",
    "    aspectratio=go.layout.scene.Aspectratio(\n",
    "      x=1, y=1, z=1)),\n",
    "  paper_bgcolor = bgcolor,\n",
    "  plot_bgcolor = bgcolor)"
   ]
  },
  {
   "cell_type": "markdown",
   "metadata": {},
   "source": [
    "Finally, we create the plot and export as an HTML file.\n",
    "Once you create the HTML file, you can check your plot using the Web browser (Google Chrome, Safari, …) in the local environment."
   ]
  },
  {
   "cell_type": "code",
   "execution_count": null,
   "metadata": {},
   "outputs": [],
   "source": [
    "from plotly.offline import plot\n",
    "\n",
    "plot_data=[topo_sphere]\n",
    "fig = go.Figure(data=plot_data, layout=layout)\n",
    "plot(fig, validate = False, filename='SphericalTopography.html',\n",
    "   auto_open=True)"
   ]
  },
  {
   "cell_type": "code",
   "execution_count": null,
   "metadata": {},
   "outputs": [],
   "source": [
    "pwd\n"
   ]
  },
  {
   "cell_type": "markdown",
   "metadata": {},
   "source": [
    "In the above plot, the topography data was displayed as the color without any three-dimensional shapes. Here we create those shapes by converting xs, ys, and zs. The following code describes how to create and make the figure just like what we did in the previous plot:"
   ]
  },
  {
   "cell_type": "code",
   "execution_count": 84,
   "metadata": {},
   "outputs": [
    {
     "ename": "NameError",
     "evalue": "name 'outpath' is not defined",
     "output_type": "error",
     "traceback": [
      "\u001b[1;31m---------------------------------------------------------------------------\u001b[0m",
      "\u001b[1;31mNameError\u001b[0m                                 Traceback (most recent call last)",
      "\u001b[1;32m<ipython-input-84-72c2d844bd3b>\u001b[0m in \u001b[0;36m<module>\u001b[1;34m\u001b[0m\n\u001b[0;32m     21\u001b[0m \u001b[1;33m\u001b[0m\u001b[0m\n\u001b[0;32m     22\u001b[0m \u001b[0mfig\u001b[0m\u001b[1;33m.\u001b[0m\u001b[0mupdate_layout\u001b[0m\u001b[1;33m(\u001b[0m\u001b[0mtitle_text\u001b[0m \u001b[1;33m=\u001b[0m \u001b[1;34m'3D spherical topography map'\u001b[0m\u001b[1;33m)\u001b[0m\u001b[1;33m\u001b[0m\u001b[1;33m\u001b[0m\u001b[0m\n\u001b[1;32m---> 23\u001b[1;33m \u001b[0mos\u001b[0m\u001b[1;33m.\u001b[0m\u001b[0mchdir\u001b[0m\u001b[1;33m(\u001b[0m\u001b[0moutpath\u001b[0m\u001b[1;33m)\u001b[0m\u001b[1;33m\u001b[0m\u001b[1;33m\u001b[0m\u001b[0m\n\u001b[0m\u001b[0;32m     24\u001b[0m plot(fig, validate = False, filename='3DSphericalTopography.html',\n\u001b[0;32m     25\u001b[0m     auto_open=True)\n",
      "\u001b[1;31mNameError\u001b[0m: name 'outpath' is not defined"
     ]
    }
   ],
   "source": [
    "ratio_topo = 1.0 + topo*1e-5\n",
    "xs_3d = xs*ratio_topo\n",
    "ys_3d = ys*ratio_topo\n",
    "zs_3d = zs*ratio_topo\n",
    "\n",
    "topo_sphere_3d=dict(type='surface',\n",
    "    x=xs_3d,\n",
    "    y=ys_3d,\n",
    "    z=zs_3d,\n",
    "    colorscale=Ctopo,\n",
    "    surfacecolor=topo,\n",
    "    opacity=1.,\n",
    "    cmin=cmin,\n",
    "    cmax=cmax,\n",
    "    showscale=False,\n",
    "    hoverinfo='skip'\n",
    "    )\n",
    "\n",
    "plot_data_3DST=[topo_sphere_3d]\n",
    "fig = go.Figure(data=plot_data_3DST, layout=layout)\n",
    "\n",
    "fig.update_layout(title_text = '3D spherical topography map')\n",
    "os.chdir(outpath)\n",
    "plot(fig, validate = False, filename='3DSphericalTopography.html',\n",
    "    auto_open=True)\n"
   ]
  },
  {
   "cell_type": "code",
   "execution_count": 85,
   "metadata": {},
   "outputs": [
    {
     "data": {
      "text/plain": [
       "'C:\\\\Users\\\\aozde'"
      ]
     },
     "execution_count": 85,
     "metadata": {},
     "output_type": "execute_result"
    }
   ],
   "source": [
    "os.getcwd()\n"
   ]
  },
  {
   "cell_type": "markdown",
   "metadata": {},
   "source": [
    "2. Plot the Global Earthquake Distribution on the Interactive Globe\n",
    "3 steps for achievement\n",
    "2–1. Prepare the earthquake data\n",
    "2–2. Prepare plate boundary plot and convert coordinates\n",
    "2–3. Plot the earthquake distribution on the interactive globe created above\n",
    "2–1. Prepare the earthquake data\n",
    "Download the earthquake data\n",
    "In this post, we download the earthquake data from the U.S. Geological Survey (USGS) website. This earthquake catalog data includes the dates, location parameters (longitude, latitude, and depth), magnitudes that describe the size of the earthquake, and so on. You can select the earthquake by filtering these parameters. I would recommend downloading only for larger magnitude events (e.g. M > 5) due to the huge numbers of earthquakes you have to handle (For a given frequency of magnitude 4.0 or larger events there will be 10 times as many magnitude 3.0 or larger quakes and 100 times as many magnitude 2.0 or larger quakes ! — Gutenberg-Richter law)\n",
    "In this post, I downloaded the catalog based on the following options:\n",
    "M > 5\n",
    "Date between 2000/1/1 to 2020/8/31\n",
    "Worldwide region\n"
   ]
  },
  {
   "cell_type": "markdown",
   "metadata": {},
   "source": [
    "Import the earthquake data\n",
    "Here we import the earthquake data downloaded above using pandas. And then create NumPy arrays for five parameters we will use (date, longitude, latitude, depth, magnitude). Three location parameters (longitude, latitude, and depth) are used as the x, y, and z, and magnitude is used for the plot size. For the plot color, we create two cases using depth, and Timefrom_RefYears (years since 2000) which is calculated using np.datetime64 and np.timedelta64 function."
   ]
  },
  {
   "cell_type": "code",
   "execution_count": null,
   "metadata": {},
   "outputs": [],
   "source": [
    "import pandas as pd\n",
    "import glob\n",
    "\n",
    "###############----For input----###############\n",
    "file_list = glob.glob(\"data/query*.csv\")\n",
    "for i in range(len(file_list)):\n",
    "    eachdata = pd.read_csv(file_list[i])\n",
    "    if (i == 0):\n",
    "        data = eachdata\n",
    "    else:\n",
    "        data = pd.concat([data, eachdata])\n",
    "\n",
    "# Data selection\n",
    "data = data[data.mag >= 5]        \n",
    "\n",
    "# Change format to datetime for event date\n",
    "data['np_DateTime']=pd.to_datetime(data['time'].str[:-2],format='%Y-%m-%dT%H:%M:%S')\n",
    "\n",
    "date = np.array(data['np_DateTime'])\n",
    "evlon = np.array(data['longitude'])\n",
    "evlat = np.array(data['latitude'])\n",
    "evDepth = np.array(data['depth'])\n",
    "evMag = np.array(data['mag'])\n",
    "\n",
    "# Calculate time difference\n",
    "RefTime = np.datetime64(\"2000-01-01T00:00:00.000000000\")\n",
    "Timefrom_RefTime = (date - RefTime)\n",
    "# For years\n",
    "Timefrom_RefYears = Timefrom_RefTime.astype('timedelta64[Y]')\n",
    "Timefrom_RefYears = Timefrom_RefYears / np.timedelta64(1, 'Y')\n"
   ]
  },
  {
   "cell_type": "markdown",
   "metadata": {},
   "source": [
    "Convert the earthquake location to the spherical coordinates and create a color bar\n",
    "Here we convert earthquake longitude and latitude to the spherical coordinates as described in 1–2, and create a color bar used for depth and Timefrom_RefYears. For a color bar, we adopt matplotlib color bar and convert to Plotly format.\n"
   ]
  },
  {
   "cell_type": "code",
   "execution_count": null,
   "metadata": {},
   "outputs": [],
   "source": [
    "# Convert to spherical coordinates\n",
    "xs_ev_org, ys_ev_org, zs_ev_org = mapping_map_to_sphere(evlon, evlat)\n",
    "\n",
    "#Create color bar in Matplotlib\n",
    "import matplotlib\n",
    "from matplotlib import cm\n",
    "\n",
    "def matplotlib_to_plotly(cmap, pl_entries):\n",
    "    h = 1.0/(pl_entries-1)\n",
    "    pl_colorscale = []\n",
    "    \n",
    "    for k in range(pl_entries):\n",
    "        C = list(map(np.uint8, np.array(cmap(k*h)[:3])*255))\n",
    "        pl_colorscale.append([k*h, 'rgb'+str((C[0], C[1], C[2]))])\n",
    "        \n",
    "    return pl_colorscale\n",
    "\n",
    "def MlibCscale_to_Plotly(cbar):\n",
    "    cmap = matplotlib.cm.get_cmap(cbar)\n",
    "    rgb = []\n",
    "    norm = matplotlib.colors.Normalize(vmin=0, vmax=255)\n",
    "\n",
    "    for i in range(0, 255):\n",
    "        k = matplotlib.colors.colorConverter.to_rgb(cmap(norm(i)))\n",
    "        rgb.append(k)\n",
    "\n",
    "    Cscale = matplotlib_to_plotly(cmap, 255)\n",
    "    \n",
    "    return Cscale\n",
    "\n",
    "cbar = 'jet_r'\n",
    "Cscale_EQ = MlibCscale_to_Plotly(cbar)\n"
   ]
  },
  {
   "cell_type": "markdown",
   "metadata": {},
   "source": [
    "Create the earthquake distribution plot\n",
    "Firstly, we slightly change the location parameters using depth to create a three-dimensional effect for the earthquake plot. Although earthquakes occur under the ground (of course!), we plot the earthquake distribution above the interactive globe to make them visible."
   ]
  },
  {
   "cell_type": "code",
   "execution_count": null,
   "metadata": {},
   "outputs": [],
   "source": [
    "# Create three-dimensional effect\n",
    "ratio = 1. - evDepth*2e-4\n",
    "xs_ev = xs_ev_org*ratio\n",
    "ys_ev = ys_ev_org*ratio\n",
    "zs_ev = zs_ev_org*ratio\n",
    "\n",
    "ratio = 1.15 - evDepth*2e-4\n",
    "xs_ev_up = xs_ev_org*ratio\n",
    "ys_ev_up = ys_ev_org*ratio\n",
    "zs_ev_up = zs_ev_org*ratio"
   ]
  },
  {
   "cell_type": "markdown",
   "metadata": {},
   "source": [
    "2–2. Prepare the plate boundary plot and convert coordinates\n",
    "In this post, we will plot the earthquake distribution on the interactive globe created in Step 1. However, in order to make an earthquake distribution more clear, we also plot this distribution on just a simple plate boundaries map. In this step, we prepare that plate boundary map. This procedure is already clearly explained in these posts:"
   ]
  },
  {
   "cell_type": "code",
   "execution_count": null,
   "metadata": {},
   "outputs": [],
   "source": [
    "# Draw coast line\n",
    "# Reference: https://plot.ly/~Dreamshot/9152\n",
    "\n",
    "# Make shortcut to Basemap object, \n",
    "# not specifying projection type for this example\n",
    "from mpl_toolkits.basemap import Basemap\n",
    "m = Basemap(resolution='i') \n",
    "\n",
    "# Functions converting coastline/country polygons to lon/lat traces\n",
    "def polygons_to_traces(poly_paths, N_poly):\n",
    "    ''' \n",
    "    pos arg 1. (poly_paths): paths to polygons\n",
    "    pos arg 2. (N_poly): number of polygon to convert\n",
    "    '''\n",
    "    # init. plotting list\n",
    "    lons=[]\n",
    "    lats=[]\n",
    "\n",
    "    for i_poly in range(N_poly):\n",
    "        poly_path = poly_paths[i_poly]\n",
    "        \n",
    "        # get the Basemap coordinates of each segment\n",
    "        coords_cc = np.array(\n",
    "            [(vertex[0],vertex[1]) \n",
    "             for (vertex,code) in poly_path.iter_segments(simplify=False)]\n",
    "        )\n",
    "        \n",
    "        # convert coordinates to lon/lat by 'inverting' the Basemap projection\n",
    "        lon_cc, lat_cc = m(coords_cc[:,0],coords_cc[:,1], inverse=True)\n",
    "    \n",
    "        \n",
    "        lats.extend(lat_cc.tolist()+[None]) \n",
    "        lons.extend(lon_cc.tolist()+[None])\n",
    "        \n",
    "    return lons, lats\n",
    "\n",
    "# Function generating coastline lon/lat \n",
    "def get_coastline_traces():\n",
    "    poly_paths = m.drawcoastlines().get_paths() # coastline polygon paths\n",
    "    N_poly = 91  # use only the 91st biggest coastlines (i.e. no rivers)\n",
    "    cc_lons, cc_lats= polygons_to_traces(poly_paths, N_poly)\n",
    "    return cc_lons, cc_lats\n",
    "\n",
    "# Function generating country lon/lat \n",
    "def get_country_traces():\n",
    "    poly_paths = m.drawcountries().get_paths() # country polygon paths\n",
    "    N_poly = len(poly_paths)  # use all countries\n",
    "    country_lons, country_lats= polygons_to_traces(poly_paths, N_poly)\n",
    "    return country_lons, country_lats\n",
    "  \n",
    "# Get list of of coastline, country, and state lon/lat \n",
    "cc_lons, cc_lats=get_coastline_traces()\n",
    "country_lons, country_lats=get_country_traces()\n",
    "\n",
    "#concatenate the lon/lat for coastlines and country boundaries:\n",
    "lons=cc_lons+[None]+country_lons\n",
    "lats=cc_lats+[None]+country_lats\n",
    "\n",
    "xs_bd, ys_bd, zs_bd = mapping_map_to_sphere(lons, lats, radius=1.01)# here the radius is slightly greater than 1 \n",
    "                                                         #to ensure lines visibility; otherwise (with radius=1)\n",
    "                                                         # some lines are hidden by contours colors\n",
    "        \n",
    "boundaries=dict(type='scatter3d',\n",
    "               x=xs_bd,\n",
    "               y=ys_bd,\n",
    "               z=zs_bd,\n",
    "               mode='lines',\n",
    "               line=dict(color='gray', width=4)\n",
    "              )"
   ]
  },
  {
   "cell_type": "markdown",
   "metadata": {},
   "source": [
    "2–3. Plot the earthquake distribution on the interactive globe and the plate boundary plot created above\n",
    "Using these new location parameters, we make the three different ways of Plotly function as follows:\n",
    "3D earthquake distribution on the interactive globe with the color of depth\n",
    "3D earthquake distribution on the interactive globe with the color of years since 2000\n",
    "3D earthquake distribution on the plate boundary plot\n",
    "3D earthquake distribution on the interactive globe with the color of depth\n",
    "The color describes earthquake depths ranging from 0 (red) to 700 km (blue)\n"
   ]
  },
  {
   "cell_type": "code",
   "execution_count": null,
   "metadata": {},
   "outputs": [],
   "source": [
    "depmax = 700.\n",
    "depmin = 0.\n",
    "depbin = 50.\n",
    "\n",
    "cmin = depmin\n",
    "cmax = depmax\n",
    "cbin = depbin\n",
    "\n",
    "seis_3D_depth_up = go.Scatter3d(x = xs_ev_up,\n",
    "                      y = ys_ev_up,\n",
    "                      z = zs_ev_up,\n",
    "                      mode='markers',\n",
    "                      name='measured',\n",
    "                      marker = dict(\n",
    "                          size = 1.*evMag,\n",
    "                          cmax = cmax,\n",
    "                          cmin = cmin,\n",
    "                          colorbar = dict(\n",
    "                              title = 'Source Depth',\n",
    "                              titleside = 'right',\n",
    "                              titlefont = dict(size = 16, \n",
    "                                               color = titlecolor, \n",
    "                                               family='Courier New'),\n",
    "                              tickmode = 'array',\n",
    "                              ticks = 'outside',\n",
    "                              ticktext = list(np.arange(cmin,cmax+cbin,cbin)),\n",
    "                              tickvals = list(np.arange(cmin,cmax+cbin,cbin)),\n",
    "                              tickcolor = titlecolor,\n",
    "                              tickfont = dict(size=14, color = titlecolor,\n",
    "                                             family='Courier New')\n",
    "                          ),\n",
    "                          ### choose color option\n",
    "                          color = evDepth,\n",
    "                          ### choose color option\n",
    "                          colorscale = Cscale_EQ,\n",
    "                          showscale = True,\n",
    "                          opacity=1.),\n",
    "                      hoverinfo='skip'\n",
    "                      )\n"
   ]
  },
  {
   "cell_type": "markdown",
   "metadata": {},
   "source": [
    "3D earthquake distribution on the interactive globe with the color of years since 2000\n",
    "The color describes how many years passed since 2000 from 0 year (red) to 20 years (blue)\n"
   ]
  },
  {
   "cell_type": "code",
   "execution_count": null,
   "metadata": {},
   "outputs": [],
   "source": [
    "# Plot events in 3D with color of years since 2020\n",
    "cmin = 0\n",
    "cmax = 20\n",
    "cbin = 1\n",
    "seis_3D_time_up = go.Scatter3d(x = xs_ev_up,\n",
    "                      y = ys_ev_up,\n",
    "                      z = zs_ev_up,\n",
    "                      mode='markers',\n",
    "                      name='measured',\n",
    "                      marker = dict(\n",
    "                          size = 1.*evMag,\n",
    "                          cmax = cmax,\n",
    "                          cmin = cmin,\n",
    "                          colorbar = dict(\n",
    "                              title = 'Years since 2000',\n",
    "                              titleside = 'right',\n",
    "                              titlefont = dict(size = 16, \n",
    "                                               color = titlecolor,\n",
    "                                               family='Courier New'),\n",
    "                              tickmode = 'array',\n",
    "                              ticks = 'outside',\n",
    "                              ticktext = list(np.arange(cmin,cmax+cbin,cbin)),\n",
    "                              tickvals = list(np.arange(cmin,cmax+cbin,cbin)),\n",
    "                              tickcolor = titlecolor,\n",
    "                              tickfont = dict(size=14, color = titlecolor,\n",
    "                                             family='Courier New')\n",
    "                          ),\n",
    "                          ### choose color option\n",
    "                          color = Timefrom_RefYears,\n",
    "                          ### choose color option\n",
    "                          colorscale = Cscale_EQ,\n",
    "                          showscale = True,\n",
    "                          opacity=1.),\n",
    "                      hoverinfo='skip'\n",
    "                      )"
   ]
  },
  {
   "cell_type": "markdown",
   "metadata": {},
   "source": [
    "3D earthquake distribution on the plate boundary plot without interactive globe\n",
    "Firstly, we create an inner black sphere to hide inside of the globe:"
   ]
  },
  {
   "cell_type": "code",
   "execution_count": null,
   "metadata": {},
   "outputs": [],
   "source": [
    "ratio_k = 0.85\n",
    "xs_k = xs * ratio_k\n",
    "ys_k = ys * ratio_k\n",
    "zs_k = zs * ratio_k\n",
    "\n",
    "black_sphere=dict(type='surface',\n",
    "    x=xs_k,\n",
    "    y=ys_k,\n",
    "    z=zs_k,\n",
    "    colorscale=Cblack,\n",
    "    surfacecolor=zs_k,\n",
    "    opacity=1.,\n",
    "    showscale=False,\n",
    "    hoverinfo='skip'\n",
    "    )"
   ]
  },
  {
   "cell_type": "code",
   "execution_count": null,
   "metadata": {},
   "outputs": [],
   "source": [
    "Then create the 3D plot using the plate boundary data we prepared at 2.2:"
   ]
  },
  {
   "cell_type": "code",
   "execution_count": null,
   "metadata": {},
   "outputs": [],
   "source": [
    "seis_3D_depth = go.Scatter3d(x = xs_ev,\n",
    "                      y = ys_ev,\n",
    "                      z = zs_ev,\n",
    "                      mode='markers',\n",
    "                      name='measured',\n",
    "                      marker = dict(\n",
    "                          size = 1.*evMag,\n",
    "                          cmax = cmax,\n",
    "                          cmin = cmin,\n",
    "                          colorbar = dict(\n",
    "                              title = 'Source Depth',\n",
    "                              titleside = 'right',\n",
    "                              titlefont = dict(size = 16, \n",
    "                                               color = titlecolor,\n",
    "                                               family='Courier New'),\n",
    "                              tickmode = 'array',\n",
    "                              ticks = 'outside',\n",
    "                              ticktext = list(np.arange(cmin,cmax+cbin,cbin)),\n",
    "                              tickvals = list(np.arange(cmin,cmax+cbin,cbin)),\n",
    "                              tickcolor = titlecolor,\n",
    "                              tickfont = dict(size=14, color = titlecolor,\n",
    "                                             family='Courier New')\n",
    "                          ),\n",
    "                          ### choose color option\n",
    "                          color = evDepth,\n",
    "                          ### choose color option\n",
    "                          colorscale = Cscale_EQ,\n",
    "                          showscale = True,\n",
    "                          opacity=1.),\n",
    "                      hoverinfo='skip'\n",
    "                      )\n"
   ]
  },
  {
   "cell_type": "code",
   "execution_count": null,
   "metadata": {},
   "outputs": [],
   "source": []
  }
 ],
 "metadata": {
  "kernelspec": {
   "display_name": "Python 3",
   "language": "python",
   "name": "python3"
  },
  "language_info": {
   "codemirror_mode": {
    "name": "ipython",
    "version": 3
   },
   "file_extension": ".py",
   "mimetype": "text/x-python",
   "name": "python",
   "nbconvert_exporter": "python",
   "pygments_lexer": "ipython3",
   "version": "3.8.5"
  }
 },
 "nbformat": 4,
 "nbformat_minor": 4
}
