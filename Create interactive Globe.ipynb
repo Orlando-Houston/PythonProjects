{
 "cells": [
  {
   "cell_type": "code",
   "execution_count": 6,
   "id": "handmade-clearance",
   "metadata": {},
   "outputs": [],
   "source": [
    "import numpy as np\n"
   ]
  },
  {
   "cell_type": "code",
   "execution_count": 7,
   "id": "joint-going",
   "metadata": {},
   "outputs": [
    {
     "ename": "ModuleNotFoundError",
     "evalue": "No module named 'netCDF4'",
     "output_type": "error",
     "traceback": [
      "\u001b[1;31m---------------------------------------------------------------------------\u001b[0m",
      "\u001b[1;31mModuleNotFoundError\u001b[0m                       Traceback (most recent call last)",
      "\u001b[1;32m<ipython-input-7-0a92aca04109>\u001b[0m in \u001b[0;36m<module>\u001b[1;34m\u001b[0m\n\u001b[1;32m----> 1\u001b[1;33m \u001b[1;32mfrom\u001b[0m \u001b[0mnetCDF4\u001b[0m \u001b[1;32mimport\u001b[0m \u001b[0mDataset\u001b[0m\u001b[1;33m\u001b[0m\u001b[1;33m\u001b[0m\u001b[0m\n\u001b[0m",
      "\u001b[1;31mModuleNotFoundError\u001b[0m: No module named 'netCDF4'"
     ]
    }
   ],
   "source": [
    "from netCDF4 import Dataset"
   ]
  },
  {
   "cell_type": "code",
   "execution_count": 8,
   "id": "norwegian-chest",
   "metadata": {},
   "outputs": [
    {
     "ename": "IndentationError",
     "evalue": "expected an indented block (<ipython-input-8-c69574a809c2>, line 1)",
     "output_type": "error",
     "traceback": [
      "\u001b[1;36m  File \u001b[1;32m\"<ipython-input-8-c69574a809c2>\"\u001b[1;36m, line \u001b[1;32m1\u001b[0m\n\u001b[1;33m    def Etopo(lon_area, lat_area, resolution):\u001b[0m\n\u001b[1;37m                                              ^\u001b[0m\n\u001b[1;31mIndentationError\u001b[0m\u001b[1;31m:\u001b[0m expected an indented block\n"
     ]
    }
   ],
   "source": [
    "def Etopo(lon_area, lat_area, resolution):"
   ]
  },
  {
   "cell_type": "code",
   "execution_count": 9,
   "id": "aerial-stability",
   "metadata": {},
   "outputs": [
    {
     "ename": "NameError",
     "evalue": "name 'Dataset' is not defined",
     "output_type": "error",
     "traceback": [
      "\u001b[1;31m---------------------------------------------------------------------------\u001b[0m",
      "\u001b[1;31mNameError\u001b[0m                                 Traceback (most recent call last)",
      "\u001b[1;32m<ipython-input-9-acd965cc84da>\u001b[0m in \u001b[0;36m<module>\u001b[1;34m\u001b[0m\n\u001b[1;32m----> 1\u001b[1;33m \u001b[0mdata\u001b[0m \u001b[1;33m=\u001b[0m \u001b[0mDataset\u001b[0m\u001b[1;33m(\u001b[0m\u001b[1;34m\"ETOPO1_Ice_g_gdal.grd\"\u001b[0m\u001b[1;33m,\u001b[0m \u001b[1;34m\"r\"\u001b[0m\u001b[1;33m)\u001b[0m\u001b[1;33m\u001b[0m\u001b[1;33m\u001b[0m\u001b[0m\n\u001b[0m",
      "\u001b[1;31mNameError\u001b[0m: name 'Dataset' is not defined"
     ]
    }
   ],
   "source": [
    "data = Dataset(\"ETOPO1_Ice_g_gdal.grd\", \"r\")"
   ]
  },
  {
   "cell_type": "code",
   "execution_count": 10,
   "id": "charitable-appointment",
   "metadata": {},
   "outputs": [
    {
     "ename": "IndentationError",
     "evalue": "unexpected indent (<ipython-input-10-df2431020ec6>, line 2)",
     "output_type": "error",
     "traceback": [
      "\u001b[1;36m  File \u001b[1;32m\"<ipython-input-10-df2431020ec6>\"\u001b[1;36m, line \u001b[1;32m2\u001b[0m\n\u001b[1;33m    lat_range = data.variables['y_range'][:]\u001b[0m\n\u001b[1;37m    ^\u001b[0m\n\u001b[1;31mIndentationError\u001b[0m\u001b[1;31m:\u001b[0m unexpected indent\n"
     ]
    }
   ],
   "source": [
    "lon_range = data.variables['x_range'][:]\n",
    "  lat_range = data.variables['y_range'][:]\n",
    "  topo_range = data.variables['z_range'][:]\n",
    "  spacing = data.variables['spacing'][:]\n",
    "  dimension = data.variables['dimension'][:]\n",
    "  z = data.variables['z'][:]\n",
    "  lon_num = dimension[0]\n",
    "  lat_num = dimension[1]"
   ]
  },
  {
   "cell_type": "code",
   "execution_count": 11,
   "id": "competent-headquarters",
   "metadata": {},
   "outputs": [
    {
     "ename": "IndentationError",
     "evalue": "unexpected indent (<ipython-input-11-7d73f1a5e575>, line 2)",
     "output_type": "error",
     "traceback": [
      "\u001b[1;36m  File \u001b[1;32m\"<ipython-input-11-7d73f1a5e575>\"\u001b[1;36m, line \u001b[1;32m2\u001b[0m\n\u001b[1;33m    lon_input = np.zeros(lon_num); lat_input = np.zeros(lat_num)\u001b[0m\n\u001b[1;37m    ^\u001b[0m\n\u001b[1;31mIndentationError\u001b[0m\u001b[1;31m:\u001b[0m unexpected indent\n"
     ]
    }
   ],
   "source": [
    " # Prepare array\n",
    "  lon_input = np.zeros(lon_num); lat_input = np.zeros(lat_num)\n",
    "  for i in range(lon_num):\n",
    "    lon_input[i] = lon_range[0] + i * spacing[0]\n",
    "  for i in range(lat_num):\n",
    "    lat_input[i] = lat_range[0] + i * spacing[1]\n"
   ]
  },
  {
   "cell_type": "code",
   "execution_count": 12,
   "id": "specific-fundamental",
   "metadata": {},
   "outputs": [
    {
     "ename": "IndentationError",
     "evalue": "unexpected indent (<ipython-input-12-aa912e4da7dc>, line 2)",
     "output_type": "error",
     "traceback": [
      "\u001b[1;36m  File \u001b[1;32m\"<ipython-input-12-aa912e4da7dc>\"\u001b[1;36m, line \u001b[1;32m2\u001b[0m\n\u001b[1;33m    lon, lat = np.meshgrid(lon_input, lat_input)\u001b[0m\n\u001b[1;37m    ^\u001b[0m\n\u001b[1;31mIndentationError\u001b[0m\u001b[1;31m:\u001b[0m unexpected indent\n"
     ]
    }
   ],
   "source": [
    " # Create 2D array\n",
    "  lon, lat = np.meshgrid(lon_input, lat_input)\n",
    "  \n",
    "  # Convert 2D array from 1D array for z value\n",
    "  topo = np.reshape(z, (lat_num, lon_num))"
   ]
  },
  {
   "cell_type": "code",
   "execution_count": 13,
   "id": "great-probe",
   "metadata": {},
   "outputs": [
    {
     "ename": "IndentationError",
     "evalue": "unexpected indent (<ipython-input-13-c072ad5182ca>, line 2)",
     "output_type": "error",
     "traceback": [
      "\u001b[1;36m  File \u001b[1;32m\"<ipython-input-13-c072ad5182ca>\"\u001b[1;36m, line \u001b[1;32m2\u001b[0m\n\u001b[1;33m    if ((resolution < spacing[0]) | (resolution < spacing[1])):\u001b[0m\n\u001b[1;37m    ^\u001b[0m\n\u001b[1;31mIndentationError\u001b[0m\u001b[1;31m:\u001b[0m unexpected indent\n"
     ]
    }
   ],
   "source": [
    "# Skip the data for resolution\n",
    "  if ((resolution < spacing[0]) | (resolution < spacing[1])):\n",
    "    print('Set the highest resolution')\n",
    "  else:\n",
    "    skip = int(resolution/spacing[0])\n",
    "    lon = lon[::skip,::skip]\n",
    "    lat = lat[::skip,::skip]\n",
    "    topo = topo[::skip,::skip]\n",
    "    \n",
    "  topo = topo[::-1]"
   ]
  },
  {
   "cell_type": "code",
   "execution_count": 14,
   "id": "wireless-fossil",
   "metadata": {},
   "outputs": [
    {
     "ename": "IndentationError",
     "evalue": "unexpected indent (<ipython-input-14-16f68fbeca5d>, line 2)",
     "output_type": "error",
     "traceback": [
      "\u001b[1;36m  File \u001b[1;32m\"<ipython-input-14-16f68fbeca5d>\"\u001b[1;36m, line \u001b[1;32m2\u001b[0m\n\u001b[1;33m    range1 = np.where((lon>=lon_area[0]) & (lon<=lon_area[1]))\u001b[0m\n\u001b[1;37m    ^\u001b[0m\n\u001b[1;31mIndentationError\u001b[0m\u001b[1;31m:\u001b[0m unexpected indent\n"
     ]
    }
   ],
   "source": [
    " # Select the range of map\n",
    "  range1 = np.where((lon>=lon_area[0]) & (lon<=lon_area[1]))\n",
    "  lon = lon[range1]; lat = lat[range1]; topo = topo[range1]\n",
    "  range2 = np.where((lat>=lat_area[0]) & (lat<=lat_area[1]))\n",
    "  lon = lon[range2]; lat = lat[range2]; topo = topo[range2]"
   ]
  },
  {
   "cell_type": "code",
   "execution_count": 15,
   "id": "charged-teddy",
   "metadata": {},
   "outputs": [
    {
     "ename": "NameError",
     "evalue": "name 'lon' is not defined",
     "output_type": "error",
     "traceback": [
      "\u001b[1;31m---------------------------------------------------------------------------\u001b[0m",
      "\u001b[1;31mNameError\u001b[0m                                 Traceback (most recent call last)",
      "\u001b[1;32m<ipython-input-15-95e04536d3cf>\u001b[0m in \u001b[0;36m<module>\u001b[1;34m\u001b[0m\n\u001b[0;32m      1\u001b[0m \u001b[1;31m# Convert 2D again\u001b[0m\u001b[1;33m\u001b[0m\u001b[1;33m\u001b[0m\u001b[1;33m\u001b[0m\u001b[0m\n\u001b[1;32m----> 2\u001b[1;33m \u001b[0mlon_num\u001b[0m \u001b[1;33m=\u001b[0m \u001b[0mlen\u001b[0m\u001b[1;33m(\u001b[0m\u001b[0mnp\u001b[0m\u001b[1;33m.\u001b[0m\u001b[0munique\u001b[0m\u001b[1;33m(\u001b[0m\u001b[0mlon\u001b[0m\u001b[1;33m)\u001b[0m\u001b[1;33m)\u001b[0m\u001b[1;33m\u001b[0m\u001b[1;33m\u001b[0m\u001b[0m\n\u001b[0m\u001b[0;32m      3\u001b[0m \u001b[0mlat_num\u001b[0m \u001b[1;33m=\u001b[0m \u001b[0mlen\u001b[0m\u001b[1;33m(\u001b[0m\u001b[0mnp\u001b[0m\u001b[1;33m.\u001b[0m\u001b[0munique\u001b[0m\u001b[1;33m(\u001b[0m\u001b[0mlat\u001b[0m\u001b[1;33m)\u001b[0m\u001b[1;33m)\u001b[0m\u001b[1;33m\u001b[0m\u001b[1;33m\u001b[0m\u001b[0m\n\u001b[0;32m      4\u001b[0m \u001b[0mlon\u001b[0m \u001b[1;33m=\u001b[0m \u001b[0mnp\u001b[0m\u001b[1;33m.\u001b[0m\u001b[0mreshape\u001b[0m\u001b[1;33m(\u001b[0m\u001b[0mlon\u001b[0m\u001b[1;33m,\u001b[0m \u001b[1;33m(\u001b[0m\u001b[0mlat_num\u001b[0m\u001b[1;33m,\u001b[0m \u001b[0mlon_num\u001b[0m\u001b[1;33m)\u001b[0m\u001b[1;33m)\u001b[0m\u001b[1;33m\u001b[0m\u001b[1;33m\u001b[0m\u001b[0m\n\u001b[0;32m      5\u001b[0m \u001b[0mlat\u001b[0m \u001b[1;33m=\u001b[0m \u001b[0mnp\u001b[0m\u001b[1;33m.\u001b[0m\u001b[0mreshape\u001b[0m\u001b[1;33m(\u001b[0m\u001b[0mlat\u001b[0m\u001b[1;33m,\u001b[0m \u001b[1;33m(\u001b[0m\u001b[0mlat_num\u001b[0m\u001b[1;33m,\u001b[0m \u001b[0mlon_num\u001b[0m\u001b[1;33m)\u001b[0m\u001b[1;33m)\u001b[0m\u001b[1;33m\u001b[0m\u001b[1;33m\u001b[0m\u001b[0m\n",
      "\u001b[1;31mNameError\u001b[0m: name 'lon' is not defined"
     ]
    }
   ],
   "source": [
    "  # Convert 2D again\n",
    "  lon_num = len(np.unique(lon))\n",
    "  lat_num = len(np.unique(lat))\n",
    "  lon = np.reshape(lon, (lat_num, lon_num))\n",
    "  lat = np.reshape(lat, (lat_num, lon_num))\n",
    "  topo = np.reshape(topo, (lat_num, lon_num))\n",
    "  \n",
    "  return lon, lat, topo"
   ]
  },
  {
   "cell_type": "code",
   "execution_count": 16,
   "id": "worldwide-royal",
   "metadata": {},
   "outputs": [],
   "source": [
    "def degree2radians(degree):\n",
    "  # convert degrees to radians\n",
    "  return degree*np.pi/180\n",
    "  \n",
    "def mapping_map_to_sphere(lon, lat, radius=1):\n",
    "  # this function maps the points of coords (lon, lat) to points onto the sphere of radius radius\n",
    "  lon=np.array(lon, dtype=np.float64)\n",
    "  lat=np.array(lat, dtype=np.float64)\n",
    "  lon=degree2radians(lon)\n",
    "  lat=degree2radians(lat)\n",
    "  xs=radius*np.cos(lon)*np.cos(lat)\n",
    "  ys=radius*np.sin(lon)*np.cos(lat)\n",
    "  zs=radius*np.sin(lat)\n",
    "  return xs, ys, zs"
   ]
  },
  {
   "cell_type": "code",
   "execution_count": 17,
   "id": "governing-truth",
   "metadata": {},
   "outputs": [
    {
     "ename": "NameError",
     "evalue": "name 'Etopo' is not defined",
     "output_type": "error",
     "traceback": [
      "\u001b[1;31m---------------------------------------------------------------------------\u001b[0m",
      "\u001b[1;31mNameError\u001b[0m                                 Traceback (most recent call last)",
      "\u001b[1;32m<ipython-input-17-48a6c2a28f2d>\u001b[0m in \u001b[0;36m<module>\u001b[1;34m\u001b[0m\n\u001b[0;32m      5\u001b[0m \u001b[0mlat_area\u001b[0m \u001b[1;33m=\u001b[0m \u001b[1;33m[\u001b[0m\u001b[1;33m-\u001b[0m\u001b[1;36m90.\u001b[0m\u001b[1;33m,\u001b[0m \u001b[1;36m90.\u001b[0m\u001b[1;33m]\u001b[0m\u001b[1;33m\u001b[0m\u001b[1;33m\u001b[0m\u001b[0m\n\u001b[0;32m      6\u001b[0m \u001b[1;31m# Get mesh-shape topography data\u001b[0m\u001b[1;33m\u001b[0m\u001b[1;33m\u001b[0m\u001b[1;33m\u001b[0m\u001b[0m\n\u001b[1;32m----> 7\u001b[1;33m \u001b[0mlon_topo\u001b[0m\u001b[1;33m,\u001b[0m \u001b[0mlat_topo\u001b[0m\u001b[1;33m,\u001b[0m \u001b[0mtopo\u001b[0m \u001b[1;33m=\u001b[0m \u001b[0mEtopo\u001b[0m\u001b[1;33m(\u001b[0m\u001b[0mlon_area\u001b[0m\u001b[1;33m,\u001b[0m \u001b[0mlat_area\u001b[0m\u001b[1;33m,\u001b[0m \u001b[0mresolution\u001b[0m\u001b[1;33m)\u001b[0m\u001b[1;33m\u001b[0m\u001b[1;33m\u001b[0m\u001b[0m\n\u001b[0m",
      "\u001b[1;31mNameError\u001b[0m: name 'Etopo' is not defined"
     ]
    }
   ],
   "source": [
    "# Import topography data\n",
    "# Select the area you want\n",
    "resolution = 0.8\n",
    "lon_area = [-180., 180.]\n",
    "lat_area = [-90., 90.]\n",
    "# Get mesh-shape topography data\n",
    "lon_topo, lat_topo, topo = Etopo(lon_area, lat_area, resolution)"
   ]
  },
  {
   "cell_type": "code",
   "execution_count": 18,
   "id": "aggregate-tension",
   "metadata": {},
   "outputs": [
    {
     "ename": "NameError",
     "evalue": "name 'lon_topo' is not defined",
     "output_type": "error",
     "traceback": [
      "\u001b[1;31m---------------------------------------------------------------------------\u001b[0m",
      "\u001b[1;31mNameError\u001b[0m                                 Traceback (most recent call last)",
      "\u001b[1;32m<ipython-input-18-aedff57ed4f2>\u001b[0m in \u001b[0;36m<module>\u001b[1;34m\u001b[0m\n\u001b[1;32m----> 1\u001b[1;33m \u001b[0mxs\u001b[0m\u001b[1;33m,\u001b[0m \u001b[0mys\u001b[0m\u001b[1;33m,\u001b[0m \u001b[0mzs\u001b[0m \u001b[1;33m=\u001b[0m \u001b[0mmapping_map_to_sphere\u001b[0m\u001b[1;33m(\u001b[0m\u001b[0mlon_topo\u001b[0m\u001b[1;33m,\u001b[0m \u001b[0mlat_topo\u001b[0m\u001b[1;33m)\u001b[0m\u001b[1;33m\u001b[0m\u001b[1;33m\u001b[0m\u001b[0m\n\u001b[0m",
      "\u001b[1;31mNameError\u001b[0m: name 'lon_topo' is not defined"
     ]
    }
   ],
   "source": [
    "xs, ys, zs = mapping_map_to_sphere(lon_topo, lat_topo)"
   ]
  },
  {
   "cell_type": "code",
   "execution_count": 19,
   "id": "automatic-offer",
   "metadata": {},
   "outputs": [],
   "source": [
    "Ctopo = [[0, 'rgb(0, 0, 70)'],[0.2, 'rgb(0,90,150)'], \n",
    "          [0.4, 'rgb(150,180,230)'], [0.5, 'rgb(210,230,250)'],\n",
    "          [0.50001, 'rgb(0,120,0)'], [0.57, 'rgb(220,180,130)'], \n",
    "          [0.65, 'rgb(120,100,0)'], [0.75, 'rgb(80,70,0)'], \n",
    "          [0.9, 'rgb(200,200,200)'], [1.0, 'rgb(255,255,255)']]\n",
    "cmin = -8000\n",
    "cmax = 8000"
   ]
  },
  {
   "cell_type": "code",
   "execution_count": 20,
   "id": "mediterranean-bernard",
   "metadata": {},
   "outputs": [
    {
     "ename": "NameError",
     "evalue": "name 'xs' is not defined",
     "output_type": "error",
     "traceback": [
      "\u001b[1;31m---------------------------------------------------------------------------\u001b[0m",
      "\u001b[1;31mNameError\u001b[0m                                 Traceback (most recent call last)",
      "\u001b[1;32m<ipython-input-20-c74e98f1bc37>\u001b[0m in \u001b[0;36m<module>\u001b[1;34m\u001b[0m\n\u001b[0;32m      1\u001b[0m topo_sphere=dict(type='surface',\n\u001b[1;32m----> 2\u001b[1;33m   \u001b[0mx\u001b[0m\u001b[1;33m=\u001b[0m\u001b[0mxs\u001b[0m\u001b[1;33m,\u001b[0m\u001b[1;33m\u001b[0m\u001b[1;33m\u001b[0m\u001b[0m\n\u001b[0m\u001b[0;32m      3\u001b[0m   \u001b[0my\u001b[0m\u001b[1;33m=\u001b[0m\u001b[0mys\u001b[0m\u001b[1;33m,\u001b[0m\u001b[1;33m\u001b[0m\u001b[1;33m\u001b[0m\u001b[0m\n\u001b[0;32m      4\u001b[0m   \u001b[0mz\u001b[0m\u001b[1;33m=\u001b[0m\u001b[0mzs\u001b[0m\u001b[1;33m,\u001b[0m\u001b[1;33m\u001b[0m\u001b[1;33m\u001b[0m\u001b[0m\n\u001b[0;32m      5\u001b[0m   \u001b[0mcolorscale\u001b[0m\u001b[1;33m=\u001b[0m\u001b[0mCtopo\u001b[0m\u001b[1;33m,\u001b[0m\u001b[1;33m\u001b[0m\u001b[1;33m\u001b[0m\u001b[0m\n",
      "\u001b[1;31mNameError\u001b[0m: name 'xs' is not defined"
     ]
    }
   ],
   "source": [
    "topo_sphere=dict(type='surface',\n",
    "  x=xs,\n",
    "  y=ys,\n",
    "  z=zs,\n",
    "  colorscale=Ctopo,\n",
    "  surfacecolor=topo,\n",
    "  cmin=cmin,\n",
    "  cmax=cmax)"
   ]
  },
  {
   "cell_type": "code",
   "execution_count": 21,
   "id": "legislative-sweet",
   "metadata": {},
   "outputs": [],
   "source": [
    "noaxis=dict(showbackground=False,\n",
    "  showgrid=False,\n",
    "  showline=False,\n",
    "  showticklabels=False,\n",
    "  ticks='',\n",
    "  title='',\n",
    "  zeroline=False)"
   ]
  },
  {
   "cell_type": "code",
   "execution_count": 22,
   "id": "attended-happening",
   "metadata": {},
   "outputs": [],
   "source": [
    "import plotly.graph_objs as go"
   ]
  },
  {
   "cell_type": "code",
   "execution_count": 23,
   "id": "cleared-bulgaria",
   "metadata": {},
   "outputs": [],
   "source": [
    "titlecolor = 'white'\n",
    "bgcolor = 'black'\n",
    "\n",
    "layout = go.Layout(\n",
    "  autosize=False, width=1200, height=800,\n",
    "  title = '3D spherical topography map',\n",
    "  titlefont = dict(family='Courier New', color=titlecolor),\n",
    "  showlegend = False,\n",
    "  scene = dict(\n",
    "    xaxis = noaxis,\n",
    "    yaxis = noaxis,\n",
    "    zaxis = noaxis,\n",
    "    aspectmode='manual',\n",
    "    aspectratio=go.layout.scene.Aspectratio(\n",
    "      x=1, y=1, z=1)),\n",
    "  paper_bgcolor = bgcolor,\n",
    "  plot_bgcolor = bgcolor)"
   ]
  },
  {
   "cell_type": "code",
   "execution_count": 24,
   "id": "distinct-pilot",
   "metadata": {},
   "outputs": [],
   "source": [
    "from plotly.offline import plot"
   ]
  },
  {
   "cell_type": "code",
   "execution_count": 25,
   "id": "fifteen-package",
   "metadata": {},
   "outputs": [
    {
     "ename": "NameError",
     "evalue": "name 'topo_sphere' is not defined",
     "output_type": "error",
     "traceback": [
      "\u001b[1;31m---------------------------------------------------------------------------\u001b[0m",
      "\u001b[1;31mNameError\u001b[0m                                 Traceback (most recent call last)",
      "\u001b[1;32m<ipython-input-25-8a42791373df>\u001b[0m in \u001b[0;36m<module>\u001b[1;34m\u001b[0m\n\u001b[1;32m----> 1\u001b[1;33m \u001b[0mplot_data\u001b[0m\u001b[1;33m=\u001b[0m\u001b[1;33m[\u001b[0m\u001b[0mtopo_sphere\u001b[0m\u001b[1;33m]\u001b[0m\u001b[1;33m\u001b[0m\u001b[1;33m\u001b[0m\u001b[0m\n\u001b[0m\u001b[0;32m      2\u001b[0m \u001b[0mfig\u001b[0m \u001b[1;33m=\u001b[0m \u001b[0mgo\u001b[0m\u001b[1;33m.\u001b[0m\u001b[0mFigure\u001b[0m\u001b[1;33m(\u001b[0m\u001b[0mdata\u001b[0m\u001b[1;33m=\u001b[0m\u001b[0mplot_data\u001b[0m\u001b[1;33m,\u001b[0m \u001b[0mlayout\u001b[0m\u001b[1;33m=\u001b[0m\u001b[0mlayout\u001b[0m\u001b[1;33m)\u001b[0m\u001b[1;33m\u001b[0m\u001b[1;33m\u001b[0m\u001b[0m\n\u001b[0;32m      3\u001b[0m plot(fig, validate = False, filename='SphericalTopography.html',\n\u001b[0;32m      4\u001b[0m    auto_open=True)\n",
      "\u001b[1;31mNameError\u001b[0m: name 'topo_sphere' is not defined"
     ]
    }
   ],
   "source": [
    "plot_data=[topo_sphere]\n",
    "fig = go.Figure(data=plot_data, layout=layout)\n",
    "plot(fig, validate = False, filename='SphericalTopography.html',\n",
    "   auto_open=True)"
   ]
  },
  {
   "cell_type": "code",
   "execution_count": 26,
   "id": "atlantic-drinking",
   "metadata": {},
   "outputs": [
    {
     "ename": "NameError",
     "evalue": "name 'topo' is not defined",
     "output_type": "error",
     "traceback": [
      "\u001b[1;31m---------------------------------------------------------------------------\u001b[0m",
      "\u001b[1;31mNameError\u001b[0m                                 Traceback (most recent call last)",
      "\u001b[1;32m<ipython-input-26-72c2d844bd3b>\u001b[0m in \u001b[0;36m<module>\u001b[1;34m\u001b[0m\n\u001b[1;32m----> 1\u001b[1;33m \u001b[0mratio_topo\u001b[0m \u001b[1;33m=\u001b[0m \u001b[1;36m1.0\u001b[0m \u001b[1;33m+\u001b[0m \u001b[0mtopo\u001b[0m\u001b[1;33m*\u001b[0m\u001b[1;36m1e-5\u001b[0m\u001b[1;33m\u001b[0m\u001b[1;33m\u001b[0m\u001b[0m\n\u001b[0m\u001b[0;32m      2\u001b[0m \u001b[0mxs_3d\u001b[0m \u001b[1;33m=\u001b[0m \u001b[0mxs\u001b[0m\u001b[1;33m*\u001b[0m\u001b[0mratio_topo\u001b[0m\u001b[1;33m\u001b[0m\u001b[1;33m\u001b[0m\u001b[0m\n\u001b[0;32m      3\u001b[0m \u001b[0mys_3d\u001b[0m \u001b[1;33m=\u001b[0m \u001b[0mys\u001b[0m\u001b[1;33m*\u001b[0m\u001b[0mratio_topo\u001b[0m\u001b[1;33m\u001b[0m\u001b[1;33m\u001b[0m\u001b[0m\n\u001b[0;32m      4\u001b[0m \u001b[0mzs_3d\u001b[0m \u001b[1;33m=\u001b[0m \u001b[0mzs\u001b[0m\u001b[1;33m*\u001b[0m\u001b[0mratio_topo\u001b[0m\u001b[1;33m\u001b[0m\u001b[1;33m\u001b[0m\u001b[0m\n\u001b[0;32m      5\u001b[0m \u001b[1;33m\u001b[0m\u001b[0m\n",
      "\u001b[1;31mNameError\u001b[0m: name 'topo' is not defined"
     ]
    }
   ],
   "source": [
    "ratio_topo = 1.0 + topo*1e-5\n",
    "xs_3d = xs*ratio_topo\n",
    "ys_3d = ys*ratio_topo\n",
    "zs_3d = zs*ratio_topo\n",
    "\n",
    "topo_sphere_3d=dict(type='surface',\n",
    "    x=xs_3d,\n",
    "    y=ys_3d,\n",
    "    z=zs_3d,\n",
    "    colorscale=Ctopo,\n",
    "    surfacecolor=topo,\n",
    "    opacity=1.,\n",
    "    cmin=cmin,\n",
    "    cmax=cmax,\n",
    "    showscale=False,\n",
    "    hoverinfo='skip'\n",
    "    )\n",
    "\n",
    "plot_data_3DST=[topo_sphere_3d]\n",
    "fig = go.Figure(data=plot_data_3DST, layout=layout)\n",
    "\n",
    "fig.update_layout(title_text = '3D spherical topography map')\n",
    "os.chdir(outpath)\n",
    "plot(fig, validate = False, filename='3DSphericalTopography.html',\n",
    "    auto_open=True)\n"
   ]
  },
  {
   "cell_type": "code",
   "execution_count": 28,
   "id": "peripheral-worker",
   "metadata": {},
   "outputs": [],
   "source": [
    "import pandas as pd\n"
   ]
  },
  {
   "cell_type": "code",
   "execution_count": 29,
   "id": "english-roman",
   "metadata": {},
   "outputs": [],
   "source": [
    "import glob"
   ]
  },
  {
   "cell_type": "code",
   "execution_count": 30,
   "id": "diagnostic-savannah",
   "metadata": {},
   "outputs": [
    {
     "ename": "NameError",
     "evalue": "name 'data' is not defined",
     "output_type": "error",
     "traceback": [
      "\u001b[1;31m---------------------------------------------------------------------------\u001b[0m",
      "\u001b[1;31mNameError\u001b[0m                                 Traceback (most recent call last)",
      "\u001b[1;32m<ipython-input-30-4e719cd4efc7>\u001b[0m in \u001b[0;36m<module>\u001b[1;34m\u001b[0m\n\u001b[0;32m      8\u001b[0m \u001b[1;33m\u001b[0m\u001b[0m\n\u001b[0;32m      9\u001b[0m \u001b[1;31m# Data selection\u001b[0m\u001b[1;33m\u001b[0m\u001b[1;33m\u001b[0m\u001b[1;33m\u001b[0m\u001b[0m\n\u001b[1;32m---> 10\u001b[1;33m \u001b[0mdata\u001b[0m \u001b[1;33m=\u001b[0m \u001b[0mdata\u001b[0m\u001b[1;33m[\u001b[0m\u001b[0mdata\u001b[0m\u001b[1;33m.\u001b[0m\u001b[0mmag\u001b[0m \u001b[1;33m>=\u001b[0m \u001b[1;36m5\u001b[0m\u001b[1;33m]\u001b[0m\u001b[1;33m\u001b[0m\u001b[1;33m\u001b[0m\u001b[0m\n\u001b[0m\u001b[0;32m     11\u001b[0m \u001b[1;33m\u001b[0m\u001b[0m\n\u001b[0;32m     12\u001b[0m \u001b[1;31m# Change format to datetime for event date\u001b[0m\u001b[1;33m\u001b[0m\u001b[1;33m\u001b[0m\u001b[1;33m\u001b[0m\u001b[0m\n",
      "\u001b[1;31mNameError\u001b[0m: name 'data' is not defined"
     ]
    }
   ],
   "source": [
    "file_list = glob.glob(\"data/query*.csv\")\n",
    "for i in range(len(file_list)):\n",
    "    eachdata = pd.read_csv(file_list[i])\n",
    "    if (i == 0):\n",
    "        data = eachdata\n",
    "    else:\n",
    "        data = pd.concat([data, eachdata])\n",
    "\n",
    "# Data selection\n",
    "data = data[data.mag >= 5]        \n",
    "\n",
    "# Change format to datetime for event date\n",
    "data['np_DateTime']=pd.to_datetime(data['time'].str[:-2],format='%Y-%m-%dT%H:%M:%S')\n",
    "\n",
    "date = np.array(data['np_DateTime'])\n",
    "evlon = np.array(data['longitude'])\n",
    "evlat = np.array(data['latitude'])\n",
    "evDepth = np.array(data['depth'])\n",
    "evMag = np.array(data['mag'])\n",
    "\n",
    "# Calculate time difference\n",
    "RefTime = np.datetime64(\"2000-01-01T00:00:00.000000000\")\n",
    "Timefrom_RefTime = (date - RefTime)\n",
    "# For years\n",
    "Timefrom_RefYears = Timefrom_RefTime.astype('timedelta64[Y]')\n",
    "Timefrom_RefYears = Timefrom_RefYears / np.timedelta64(1, 'Y')"
   ]
  },
  {
   "cell_type": "code",
   "execution_count": 31,
   "id": "molecular-situation",
   "metadata": {},
   "outputs": [
    {
     "ename": "NameError",
     "evalue": "name 'evlon' is not defined",
     "output_type": "error",
     "traceback": [
      "\u001b[1;31m---------------------------------------------------------------------------\u001b[0m",
      "\u001b[1;31mNameError\u001b[0m                                 Traceback (most recent call last)",
      "\u001b[1;32m<ipython-input-31-0d1e25fe1f18>\u001b[0m in \u001b[0;36m<module>\u001b[1;34m\u001b[0m\n\u001b[0;32m      1\u001b[0m \u001b[1;31m# Convert to spherical coordinates\u001b[0m\u001b[1;33m\u001b[0m\u001b[1;33m\u001b[0m\u001b[1;33m\u001b[0m\u001b[0m\n\u001b[1;32m----> 2\u001b[1;33m \u001b[0mxs_ev_org\u001b[0m\u001b[1;33m,\u001b[0m \u001b[0mys_ev_org\u001b[0m\u001b[1;33m,\u001b[0m \u001b[0mzs_ev_org\u001b[0m \u001b[1;33m=\u001b[0m \u001b[0mmapping_map_to_sphere\u001b[0m\u001b[1;33m(\u001b[0m\u001b[0mevlon\u001b[0m\u001b[1;33m,\u001b[0m \u001b[0mevlat\u001b[0m\u001b[1;33m)\u001b[0m\u001b[1;33m\u001b[0m\u001b[1;33m\u001b[0m\u001b[0m\n\u001b[0m\u001b[0;32m      3\u001b[0m \u001b[1;33m\u001b[0m\u001b[0m\n\u001b[0;32m      4\u001b[0m \u001b[1;31m#Create color bar in Matplotlib\u001b[0m\u001b[1;33m\u001b[0m\u001b[1;33m\u001b[0m\u001b[1;33m\u001b[0m\u001b[0m\n\u001b[0;32m      5\u001b[0m \u001b[1;32mimport\u001b[0m \u001b[0mmatplotlib\u001b[0m\u001b[1;33m\u001b[0m\u001b[1;33m\u001b[0m\u001b[0m\n",
      "\u001b[1;31mNameError\u001b[0m: name 'evlon' is not defined"
     ]
    }
   ],
   "source": [
    "# Convert to spherical coordinates\n",
    "xs_ev_org, ys_ev_org, zs_ev_org = mapping_map_to_sphere(evlon, evlat)\n",
    "\n",
    "#Create color bar in Matplotlib\n",
    "import matplotlib\n",
    "from matplotlib import cm\n",
    "\n",
    "def matplotlib_to_plotly(cmap, pl_entries):\n",
    "    h = 1.0/(pl_entries-1)\n",
    "    pl_colorscale = []\n",
    "    \n",
    "    for k in range(pl_entries):\n",
    "        C = list(map(np.uint8, np.array(cmap(k*h)[:3])*255))\n",
    "        pl_colorscale.append([k*h, 'rgb'+str((C[0], C[1], C[2]))])\n",
    "        \n",
    "    return pl_colorscale\n",
    "\n",
    "def MlibCscale_to_Plotly(cbar):\n",
    "    cmap = matplotlib.cm.get_cmap(cbar)\n",
    "    rgb = []\n",
    "    norm = matplotlib.colors.Normalize(vmin=0, vmax=255)\n",
    "\n",
    "    for i in range(0, 255):\n",
    "        k = matplotlib.colors.colorConverter.to_rgb(cmap(norm(i)))\n",
    "        rgb.append(k)\n",
    "\n",
    "    Cscale = matplotlib_to_plotly(cmap, 255)\n",
    "    \n",
    "    return Cscale\n",
    "\n",
    "cbar = 'jet_r'\n",
    "Cscale_EQ = MlibCscale_to_Plotly(cbar)"
   ]
  },
  {
   "cell_type": "code",
   "execution_count": 32,
   "id": "korean-drain",
   "metadata": {},
   "outputs": [
    {
     "ename": "NameError",
     "evalue": "name 'evDepth' is not defined",
     "output_type": "error",
     "traceback": [
      "\u001b[1;31m---------------------------------------------------------------------------\u001b[0m",
      "\u001b[1;31mNameError\u001b[0m                                 Traceback (most recent call last)",
      "\u001b[1;32m<ipython-input-32-2762531c5ea2>\u001b[0m in \u001b[0;36m<module>\u001b[1;34m\u001b[0m\n\u001b[0;32m      1\u001b[0m \u001b[1;31m# Create three-dimensional effect\u001b[0m\u001b[1;33m\u001b[0m\u001b[1;33m\u001b[0m\u001b[1;33m\u001b[0m\u001b[0m\n\u001b[1;32m----> 2\u001b[1;33m \u001b[0mratio\u001b[0m \u001b[1;33m=\u001b[0m \u001b[1;36m1.\u001b[0m \u001b[1;33m-\u001b[0m \u001b[0mevDepth\u001b[0m\u001b[1;33m*\u001b[0m\u001b[1;36m2e-4\u001b[0m\u001b[1;33m\u001b[0m\u001b[1;33m\u001b[0m\u001b[0m\n\u001b[0m\u001b[0;32m      3\u001b[0m \u001b[0mxs_ev\u001b[0m \u001b[1;33m=\u001b[0m \u001b[0mxs_ev_org\u001b[0m\u001b[1;33m*\u001b[0m\u001b[0mratio\u001b[0m\u001b[1;33m\u001b[0m\u001b[1;33m\u001b[0m\u001b[0m\n\u001b[0;32m      4\u001b[0m \u001b[0mys_ev\u001b[0m \u001b[1;33m=\u001b[0m \u001b[0mys_ev_org\u001b[0m\u001b[1;33m*\u001b[0m\u001b[0mratio\u001b[0m\u001b[1;33m\u001b[0m\u001b[1;33m\u001b[0m\u001b[0m\n\u001b[0;32m      5\u001b[0m \u001b[0mzs_ev\u001b[0m \u001b[1;33m=\u001b[0m \u001b[0mzs_ev_org\u001b[0m\u001b[1;33m*\u001b[0m\u001b[0mratio\u001b[0m\u001b[1;33m\u001b[0m\u001b[1;33m\u001b[0m\u001b[0m\n",
      "\u001b[1;31mNameError\u001b[0m: name 'evDepth' is not defined"
     ]
    }
   ],
   "source": [
    "# Create three-dimensional effect\n",
    "ratio = 1. - evDepth*2e-4\n",
    "xs_ev = xs_ev_org*ratio\n",
    "ys_ev = ys_ev_org*ratio\n",
    "zs_ev = zs_ev_org*ratio\n",
    "\n",
    "ratio = 1.15 - evDepth*2e-4\n",
    "xs_ev_up = xs_ev_org*ratio\n",
    "ys_ev_up = ys_ev_org*ratio\n",
    "zs_ev_up = zs_ev_org*ratio"
   ]
  },
  {
   "cell_type": "code",
   "execution_count": 33,
   "id": "mobile-combat",
   "metadata": {},
   "outputs": [
    {
     "ename": "ModuleNotFoundError",
     "evalue": "No module named 'mpl_toolkits'",
     "output_type": "error",
     "traceback": [
      "\u001b[1;31m---------------------------------------------------------------------------\u001b[0m",
      "\u001b[1;31mModuleNotFoundError\u001b[0m                       Traceback (most recent call last)",
      "\u001b[1;32m<ipython-input-33-669fdee58bdf>\u001b[0m in \u001b[0;36m<module>\u001b[1;34m\u001b[0m\n\u001b[0;32m      4\u001b[0m \u001b[1;31m# Make shortcut to Basemap object,\u001b[0m\u001b[1;33m\u001b[0m\u001b[1;33m\u001b[0m\u001b[1;33m\u001b[0m\u001b[0m\n\u001b[0;32m      5\u001b[0m \u001b[1;31m# not specifying projection type for this example\u001b[0m\u001b[1;33m\u001b[0m\u001b[1;33m\u001b[0m\u001b[1;33m\u001b[0m\u001b[0m\n\u001b[1;32m----> 6\u001b[1;33m \u001b[1;32mfrom\u001b[0m \u001b[0mmpl_toolkits\u001b[0m\u001b[1;33m.\u001b[0m\u001b[0mbasemap\u001b[0m \u001b[1;32mimport\u001b[0m \u001b[0mBasemap\u001b[0m\u001b[1;33m\u001b[0m\u001b[1;33m\u001b[0m\u001b[0m\n\u001b[0m\u001b[0;32m      7\u001b[0m \u001b[0mm\u001b[0m \u001b[1;33m=\u001b[0m \u001b[0mBasemap\u001b[0m\u001b[1;33m(\u001b[0m\u001b[0mresolution\u001b[0m\u001b[1;33m=\u001b[0m\u001b[1;34m'i'\u001b[0m\u001b[1;33m)\u001b[0m\u001b[1;33m\u001b[0m\u001b[1;33m\u001b[0m\u001b[0m\n\u001b[0;32m      8\u001b[0m \u001b[1;33m\u001b[0m\u001b[0m\n",
      "\u001b[1;31mModuleNotFoundError\u001b[0m: No module named 'mpl_toolkits'"
     ]
    }
   ],
   "source": [
    "# Draw coast line\n",
    "# Reference: https://plot.ly/~Dreamshot/9152\n",
    "\n",
    "# Make shortcut to Basemap object, \n",
    "# not specifying projection type for this example\n",
    "from mpl_toolkits.basemap import Basemap\n",
    "m = Basemap(resolution='i') \n",
    "\n",
    "# Functions converting coastline/country polygons to lon/lat traces\n",
    "def polygons_to_traces(poly_paths, N_poly):\n",
    "    ''' \n",
    "    pos arg 1. (poly_paths): paths to polygons\n",
    "    pos arg 2. (N_poly): number of polygon to convert\n",
    "    '''\n",
    "    # init. plotting list\n",
    "    lons=[]\n",
    "    lats=[]\n",
    "\n",
    "    for i_poly in range(N_poly):\n",
    "        poly_path = poly_paths[i_poly]\n",
    "        \n",
    "        # get the Basemap coordinates of each segment\n",
    "        coords_cc = np.array(\n",
    "            [(vertex[0],vertex[1]) \n",
    "             for (vertex,code) in poly_path.iter_segments(simplify=False)]\n",
    "        )\n",
    "        \n",
    "        # convert coordinates to lon/lat by 'inverting' the Basemap projection\n",
    "        lon_cc, lat_cc = m(coords_cc[:,0],coords_cc[:,1], inverse=True)\n",
    "    \n",
    "        \n",
    "        lats.extend(lat_cc.tolist()+[None]) \n",
    "        lons.extend(lon_cc.tolist()+[None])\n",
    "        \n",
    "    return lons, lats\n",
    "\n",
    "# Function generating coastline lon/lat \n",
    "def get_coastline_traces():\n",
    "    poly_paths = m.drawcoastlines().get_paths() # coastline polygon paths\n",
    "    N_poly = 91  # use only the 91st biggest coastlines (i.e. no rivers)\n",
    "    cc_lons, cc_lats= polygons_to_traces(poly_paths, N_poly)\n",
    "    return cc_lons, cc_lats\n",
    "\n",
    "# Function generating country lon/lat \n",
    "def get_country_traces():\n",
    "    poly_paths = m.drawcountries().get_paths() # country polygon paths\n",
    "    N_poly = len(poly_paths)  # use all countries\n",
    "    country_lons, country_lats= polygons_to_traces(poly_paths, N_poly)\n",
    "    return country_lons, country_lats\n",
    "  \n",
    "# Get list of of coastline, country, and state lon/lat \n",
    "cc_lons, cc_lats=get_coastline_traces()\n",
    "country_lons, country_lats=get_country_traces()\n",
    "\n",
    "#concatenate the lon/lat for coastlines and country boundaries:\n",
    "lons=cc_lons+[None]+country_lons\n",
    "lats=cc_lats+[None]+country_lats\n",
    "\n",
    "xs_bd, ys_bd, zs_bd = mapping_map_to_sphere(lons, lats, radius=1.01)# here the radius is slightly greater than 1 \n",
    "                                                         #to ensure lines visibility; otherwise (with radius=1)\n",
    "                                                         # some lines are hidden by contours colors\n",
    "        \n",
    "boundaries=dict(type='scatter3d',\n",
    "               x=xs_bd,\n",
    "               y=ys_bd,\n",
    "               z=zs_bd,\n",
    "               mode='lines',\n",
    "               line=dict(color='gray', width=4)\n",
    "              )"
   ]
  },
  {
   "cell_type": "code",
   "execution_count": 34,
   "id": "blond-kinase",
   "metadata": {},
   "outputs": [
    {
     "ename": "SyntaxError",
     "evalue": "unexpected EOF while parsing (<ipython-input-34-91567b112ce0>, line 38)",
     "output_type": "error",
     "traceback": [
      "\u001b[1;36m  File \u001b[1;32m\"<ipython-input-34-91567b112ce0>\"\u001b[1;36m, line \u001b[1;32m38\u001b[0m\n\u001b[1;33m    hoverinfo='skip'\u001b[0m\n\u001b[1;37m                    ^\u001b[0m\n\u001b[1;31mSyntaxError\u001b[0m\u001b[1;31m:\u001b[0m unexpected EOF while parsing\n"
     ]
    }
   ],
   "source": [
    "depmax = 700.\n",
    "depmin = 0.\n",
    "depbin = 50.\n",
    "\n",
    "cmin = depmin\n",
    "cmax = depmax\n",
    "cbin = depbin\n",
    "\n",
    "seis_3D_depth_up = go.Scatter3d(x = xs_ev_up,\n",
    "                      y = ys_ev_up,\n",
    "                      z = zs_ev_up,\n",
    "                      mode='markers',\n",
    "                      name='measured',\n",
    "                      marker = dict(\n",
    "                          size = 1.*evMag,\n",
    "                          cmax = cmax,\n",
    "                          cmin = cmin,\n",
    "                          colorbar = dict(\n",
    "                              title = 'Source Depth',\n",
    "                              titleside = 'right',\n",
    "                              titlefont = dict(size = 16, \n",
    "                                               color = titlecolor, \n",
    "                                               family='Courier New'),\n",
    "                              tickmode = 'array',\n",
    "                              ticks = 'outside',\n",
    "                              ticktext = list(np.arange(cmin,cmax+cbin,cbin)),\n",
    "                              tickvals = list(np.arange(cmin,cmax+cbin,cbin)),\n",
    "                              tickcolor = titlecolor,\n",
    "                              tickfont = dict(size=14, color = titlecolor,\n",
    "                                             family='Courier New')\n",
    "                          ),\n",
    "                          ### choose color option\n",
    "                          color = evDepth,\n",
    "                          ### choose color option\n",
    "                          colorscale = Cscale_EQ,\n",
    "                          showscale = True,\n",
    "                          opacity=1.),\n",
    "                      hoverinfo='skip'"
   ]
  },
  {
   "cell_type": "code",
   "execution_count": null,
   "id": "comfortable-conviction",
   "metadata": {},
   "outputs": [],
   "source": []
  }
 ],
 "metadata": {
  "kernelspec": {
   "display_name": "Python 3",
   "language": "python",
   "name": "python3"
  },
  "language_info": {
   "codemirror_mode": {
    "name": "ipython",
    "version": 3
   },
   "file_extension": ".py",
   "mimetype": "text/x-python",
   "name": "python",
   "nbconvert_exporter": "python",
   "pygments_lexer": "ipython3",
   "version": "3.9.1"
  }
 },
 "nbformat": 4,
 "nbformat_minor": 5
}
