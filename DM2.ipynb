{
 "cells": [
  {
   "cell_type": "code",
   "execution_count": 4,
   "metadata": {
    "slideshow": {
     "slide_type": "slide"
    }
   },
   "outputs": [],
   "source": [
    "import numpy as np #call numpy as np\n",
    "import matplotlib.pyplot as plt #call plotting as plt\n"
   ]
  },
  {
   "cell_type": "markdown",
   "metadata": {},
   "source": [
    "Numpy: Numpy is the core library for scientific computing in Python. It provides a high-performance multidimensional array object, and tools for working with these arrays. If you are already familiar with MATLAB, you might find this tutorial useful to get started with Numpy."
   ]
  },
  {
   "cell_type": "code",
   "execution_count": 5,
   "metadata": {
    "slideshow": {
     "slide_type": "slide"
    }
   },
   "outputs": [
    {
     "data": {
      "text/plain": [
       "array([ 0,  1,  2,  3,  4,  5,  6,  7,  8,  9, 10, 11, 12, 13, 14, 15, 16,\n",
       "       17, 18, 19, 20, 21, 22, 23, 24, 25, 26, 27, 28, 29, 30, 31, 32, 33,\n",
       "       34, 35, 36, 37, 38, 39, 40, 41, 42, 43, 44, 45, 46, 47, 48, 49, 50,\n",
       "       51, 52, 53, 54, 55, 56, 57, 58, 59, 60, 61, 62, 63, 64, 65, 66, 67,\n",
       "       68, 69, 70, 71, 72, 73, 74, 75, 76, 77, 78, 79, 80, 81, 82, 83, 84,\n",
       "       85, 86, 87, 88, 89, 90, 91, 92, 93, 94, 95, 96, 97, 98, 99])"
      ]
     },
     "execution_count": 5,
     "metadata": {},
     "output_type": "execute_result"
    }
   ],
   "source": [
    "np.arange(100) #generate numbers from zero to n"
   ]
  },
  {
   "cell_type": "code",
   "execution_count": 227,
   "metadata": {
    "slideshow": {
     "slide_type": "slide"
    }
   },
   "outputs": [
    {
     "data": {
      "text/plain": [
       "array([ 0, 10, 20, 30, 40])"
      ]
     },
     "execution_count": 227,
     "metadata": {},
     "output_type": "execute_result"
    }
   ],
   "source": [
    "# np.arange(9,50) #generate numbers between 9 and 50\n",
    "np.arange(0,50,10)"
   ]
  },
  {
   "cell_type": "markdown",
   "metadata": {},
   "source": [
    "#### np.random.random(size)\n",
    "generates Return random floats "
   ]
  },
  {
   "cell_type": "code",
   "execution_count": 6,
   "metadata": {
    "slideshow": {
     "slide_type": "slide"
    }
   },
   "outputs": [
    {
     "name": "stdout",
     "output_type": "stream",
     "text": [
      "44\n",
      "[0.9754553069684028, 0.7646904743801849, 0.9513503538137247, 0.9449608562492793, 0.9369070783995196, 0.9099811583960369, 0.9584442090145733, 0.8289012098890897, 0.7082187217352652, 0.7194131145919713, 0.7114957143360898, 0.7073501975476176, 0.8168664578298049, 0.7532831961302188, 0.7488504554128954, 0.7583506262753292, 0.9018998983083633, 0.7238136961701372, 0.760389876429483, 0.969551099264931, 0.7479815141209378, 0.751393917612665, 0.8462946295682187, 0.86622352880809, 0.9017453355133105, 0.9199298161850181, 0.9253825418899482, 0.9890656192752159, 0.8519633081945124, 0.7927667696144796, 0.7900214972004453, 0.7180482875065588, 0.8031096094505336, 0.8627068790929734, 0.7300833553670967, 0.9090297848671812, 0.826588487384279, 0.9879478339224682, 0.8311885496755372, 0.9683057163685429, 0.9109700381490702, 0.958564969007941, 0.8549634529765249, 0.916342697289978]\n"
     ]
    }
   ],
   "source": [
    "asd=np.random.random(100)# gernerate random values between 0 and 1\n",
    "f=[]\n",
    "for i in asd:\n",
    "    if i>0.7:  #append only values greater than 0.7\n",
    "        f.append(i)\n",
    "print(len(f))\n",
    "print(f)"
   ]
  },
  {
   "cell_type": "code",
   "execution_count": 11,
   "metadata": {
    "slideshow": {
     "slide_type": "slide"
    }
   },
   "outputs": [
    {
     "data": {
      "text/plain": [
       "array([[0.23066404, 0.29062687],\n",
       "       [0.75760097, 0.30598445]])"
      ]
     },
     "execution_count": 11,
     "metadata": {},
     "output_type": "execute_result"
    }
   ],
   "source": [
    "table=np.random.random((10,3)) #generate random 10x3 dimensional matrix\n",
    "# table*100 bitwise multiplication\n",
    "table[:2,:2] # get only certain column and rows\n",
    "\n"
   ]
  },
  {
   "cell_type": "code",
   "execution_count": 4,
   "metadata": {
    "slideshow": {
     "slide_type": "slide"
    }
   },
   "outputs": [
    {
     "data": {
      "text/plain": [
       "array([[0.68264429, 0.9790675 ],\n",
       "       [0.916223  , 0.33327359],\n",
       "       [0.01105043, 0.26342318],\n",
       "       [0.49221329, 0.79510708],\n",
       "       [0.04086154, 0.92855321]])"
      ]
     },
     "execution_count": 4,
     "metadata": {},
     "output_type": "execute_result"
    }
   ],
   "source": [
    "table1=np.random.random((5,2))\n",
    "table1"
   ]
  },
  {
   "cell_type": "code",
   "execution_count": 17,
   "metadata": {
    "slideshow": {
     "slide_type": "slide"
    }
   },
   "outputs": [
    {
     "data": {
      "text/plain": [
       "[1, 2, 1, 2, 1, 2, 1, 2, 1, 2, 1, 2, 1, 2, 1, 2, 1, 2, 1, 2]"
      ]
     },
     "execution_count": 17,
     "metadata": {},
     "output_type": "execute_result"
    }
   ],
   "source": [
    "list1=[1,2]\n",
    "list2=[3]\n",
    "\n",
    "list1*10 #list multiplication"
   ]
  },
  {
   "cell_type": "code",
   "execution_count": 20,
   "metadata": {
    "slideshow": {
     "slide_type": "slide"
    }
   },
   "outputs": [
    {
     "data": {
      "text/plain": [
       "array([[70.71742386, 31.07622938],\n",
       "       [75.12582405, 71.64993112],\n",
       "       [75.83771697, 24.72472637],\n",
       "       [80.34217961,  6.3019174 ],\n",
       "       [72.96958876, 40.27027222]])"
      ]
     },
     "execution_count": 20,
     "metadata": {},
     "output_type": "execute_result"
    }
   ],
   "source": [
    "table*100 #numpy array multiplication"
   ]
  },
  {
   "cell_type": "markdown",
   "metadata": {},
   "source": [
    "### np.random.randint(start,stop,size)\n",
    "\n",
    "generate random integer values"
   ]
  },
  {
   "cell_type": "code",
   "execution_count": 107,
   "metadata": {
    "slideshow": {
     "slide_type": "slide"
    }
   },
   "outputs": [
    {
     "name": "stdout",
     "output_type": "stream",
     "text": [
      "30000 [694 617 521 397 451 388 521 977 177 208]\n"
     ]
    }
   ],
   "source": [
    "b=np.random.randint(100,1000,30000) #generate random 30k integers between 10 and 1000\n",
    "print(len(b),b[:10]) #show length and first 10 elements"
   ]
  },
  {
   "cell_type": "code",
   "execution_count": 103,
   "metadata": {},
   "outputs": [],
   "source": [
    "### pythonic way of getting unique values "
   ]
  },
  {
   "cell_type": "code",
   "execution_count": 104,
   "metadata": {
    "slideshow": {
     "slide_type": "slide"
    }
   },
   "outputs": [
    {
     "name": "stdout",
     "output_type": "stream",
     "text": [
      "764\n",
      "[666, 648, 618, 555, 593, 187, 190, 542, 786, 979]\n"
     ]
    }
   ],
   "source": [
    "b=np.random.randint(50,1000,1500)\n",
    "c=[]\n",
    "for i in b:\n",
    "    if i not in c: #get only unique values from randomly generated 1500 numbers\n",
    "        c.append(i)\n",
    "print(len(c))\n",
    "print(c[:10]) #show first 10\n",
    "    "
   ]
  },
  {
   "cell_type": "code",
   "execution_count": 109,
   "metadata": {
    "slideshow": {
     "slide_type": "slide"
    }
   },
   "outputs": [
    {
     "name": "stdout",
     "output_type": "stream",
     "text": [
      "[ 0  1  2  3  4  5  6  7  8  9 10 11 12 13 14 15 16 17 18 19 20 21 22 23\n",
      " 24 25 26 27 28 29]\n",
      "\n",
      "[229 180  55 178  94 217 157 154  22 263  77 147  84 149 258  47 101 219\n",
      " 129 167 122 228 197  63  41  94 134 284  46 293]\n"
     ]
    }
   ],
   "source": [
    "a=np.arange(30)\n",
    "b=np.random.randint(20,300,size=30)\n",
    "print(a)\n",
    "print()\n",
    "print(b)"
   ]
  },
  {
   "cell_type": "markdown",
   "metadata": {},
   "source": [
    "#### Matplotlib :\n",
    "matplotlib.pyplot is a collection of command style functions that make matplotlib work like MATLAB. Each pyplot function makes some change to a figure: e.g., creates a figure, creates a plotting area in a figure, plots some lines in a plotting area, decorates the plot with labels, etc"
   ]
  },
  {
   "cell_type": "markdown",
   "metadata": {},
   "source": [
    "plt.scatter(x_axis,y_axis)"
   ]
  },
  {
   "cell_type": "code",
   "execution_count": 112,
   "metadata": {
    "slideshow": {
     "slide_type": "slide"
    }
   },
   "outputs": [
    {
     "data": {
      "image/png": "[encoded data removed]",
      "text/plain": [
       "<Figure size 720x432 with 1 Axes>"
      ]
     },
     "metadata": {
      "needs_background": "light"
     },
     "output_type": "display_data"
    }
   ],
   "source": [
    "\n",
    "plt.figure(figsize=(10,6)) #set figure size\n",
    "plt.scatter(a,b) #scatter plot of two arrays, or lists, \n",
    "plt.title('Salary distribution')\n",
    "plt.xlabel('Index')\n",
    "plt.ylabel('Amount')\n",
    "plt.grid()\n",
    "plt.show()"
   ]
  },
  {
   "cell_type": "markdown",
   "metadata": {},
   "source": [
    "### built in numpy functions for getting mean, min max of list and arrays"
   ]
  },
  {
   "cell_type": "code",
   "execution_count": 113,
   "metadata": {
    "slideshow": {
     "slide_type": "slide"
    }
   },
   "outputs": [
    {
     "name": "stdout",
     "output_type": "stream",
     "text": [
      "102.75 22 299\n"
     ]
    }
   ],
   "source": [
    "b=[24,89,100,34,22,45,209,299]\n",
    "print( np.mean(b),np.min(b),np.max(b)) \n",
    "\n"
   ]
  },
  {
   "cell_type": "markdown",
   "metadata": {},
   "source": [
    "#### Finding mean, min and max with python algorithms "
   ]
  },
  {
   "cell_type": "code",
   "execution_count": 56,
   "metadata": {},
   "outputs": [
    {
     "name": "stdout",
     "output_type": "stream",
     "text": [
      "minimum is:  21 \tmaximum is: 105 \taverage is: 64.6\n"
     ]
    }
   ],
   "source": [
    "\n",
    "def findminmaxmean(array):\n",
    "    c=array[0]\n",
    "    d=array[0]\n",
    "    g=0\n",
    "    for i in array:\n",
    "        if i<c:\n",
    "            c=i\n",
    "        if i>d:\n",
    "            d=i\n",
    "        g=g+i\n",
    "    print('minimum is: ', c,'\\tmaximum is:',d,'\\taverage is:',g/len(b))\n",
    "    \n",
    "b=np.random.randint(20,107,20)\n",
    "findminmaxmean(b)"
   ]
  },
  {
   "cell_type": "code",
   "execution_count": 59,
   "metadata": {
    "slideshow": {
     "slide_type": "slide"
    }
   },
   "outputs": [
    {
     "data": {
      "text/plain": [
       "array([105,  26,  21,  89])"
      ]
     },
     "execution_count": 59,
     "metadata": {},
     "output_type": "execute_result"
    }
   ],
   "source": [
    "b[:4]  #slicing"
   ]
  },
  {
   "cell_type": "markdown",
   "metadata": {
    "slideshow": {
     "slide_type": "slide"
    }
   },
   "source": [
    "### Pandas creating Data Frames"
   ]
  },
  {
   "cell_type": "markdown",
   "metadata": {
    "slideshow": {
     "slide_type": "slide"
    }
   },
   "source": [
    "The pandas package is the most important tool at the disposal of Data Scientists and Analysts working in Python today. The powerful machine learning and glamorous visualization tools may get all the attention, but pandas is the backbone of most data projects."
   ]
  },
  {
   "cell_type": "markdown",
   "metadata": {
    "slideshow": {
     "slide_type": "slide"
    }
   },
   "source": [
    "If you're thinking about data science as a career, then it is imperative that one of the first things you do is learn pandas. "
   ]
  },
  {
   "cell_type": "markdown",
   "metadata": {
    "slideshow": {
     "slide_type": "slide"
    }
   },
   "source": [
    "For example, say you want to explore a dataset stored in a CSV on your computer. Pandas will extract the data from that CSV into a DataFrame — a table, basically — then let you do things like:\n",
    "\n",
    "    Calculate statistics and answer questions about the data, like\n",
    "        What's the average, median, max, or min of each column?\n",
    "        Does column A correlate with column B?\n",
    "        What does the distribution of data in column C look like?\n",
    "    Clean the data by doing things like removing missing values and filtering rows or columns by some criteria\n",
    "    Visualize the data with help from Matplotlib. Plot bars, lines, histograms, bubbles, and more.\n",
    "    Store the cleaned, transformed data back into a CSV, other file or database"
   ]
  },
  {
   "cell_type": "code",
   "execution_count": 115,
   "metadata": {},
   "outputs": [],
   "source": [
    "#importing pandas library\n",
    "import pandas as pd"
   ]
  },
  {
   "cell_type": "code",
   "execution_count": 116,
   "metadata": {
    "slideshow": {
     "slide_type": "slide"
    }
   },
   "outputs": [
    {
     "data": {
      "text/plain": [
       "{'apples': [3, 2, 0, 1], 'oranges': [0, 3, 7, 2]}"
      ]
     },
     "execution_count": 116,
     "metadata": {},
     "output_type": "execute_result"
    }
   ],
   "source": [
    "data = {'apples': [3, 2, 0, 1],'oranges': [0, 3, 7, 2]}\n",
    "data"
   ]
  },
  {
   "cell_type": "code",
   "execution_count": 117,
   "metadata": {
    "slideshow": {
     "slide_type": "slide"
    }
   },
   "outputs": [
    {
     "data": {
      "text/html": [
       "<div>\n",
       "<style scoped>\n",
       "    .dataframe tbody tr th:only-of-type {\n",
       "        vertical-align: middle;\n",
       "    }\n",
       "\n",
       "    .dataframe tbody tr th {\n",
       "        vertical-align: top;\n",
       "    }\n",
       "\n",
       "    .dataframe thead th {\n",
       "        text-align: right;\n",
       "    }\n",
       "</style>\n",
       "<table border=\"1\" class=\"dataframe\">\n",
       "  <thead>\n",
       "    <tr style=\"text-align: right;\">\n",
       "      <th></th>\n",
       "      <th>apples</th>\n",
       "      <th>oranges</th>\n",
       "    </tr>\n",
       "  </thead>\n",
       "  <tbody>\n",
       "    <tr>\n",
       "      <th>0</th>\n",
       "      <td>3</td>\n",
       "      <td>0</td>\n",
       "    </tr>\n",
       "    <tr>\n",
       "      <th>1</th>\n",
       "      <td>2</td>\n",
       "      <td>3</td>\n",
       "    </tr>\n",
       "    <tr>\n",
       "      <th>2</th>\n",
       "      <td>0</td>\n",
       "      <td>7</td>\n",
       "    </tr>\n",
       "    <tr>\n",
       "      <th>3</th>\n",
       "      <td>1</td>\n",
       "      <td>2</td>\n",
       "    </tr>\n",
       "  </tbody>\n",
       "</table>\n",
       "</div>"
      ],
      "text/plain": [
       "   apples  oranges\n",
       "0       3        0\n",
       "1       2        3\n",
       "2       0        7\n",
       "3       1        2"
      ]
     },
     "execution_count": 117,
     "metadata": {},
     "output_type": "execute_result"
    }
   ],
   "source": [
    "purchases = pd.DataFrame(data)\n",
    "purchases"
   ]
  },
  {
   "cell_type": "code",
   "execution_count": 118,
   "metadata": {
    "slideshow": {
     "slide_type": "slide"
    }
   },
   "outputs": [
    {
     "data": {
      "text/html": [
       "<div>\n",
       "<style scoped>\n",
       "    .dataframe tbody tr th:only-of-type {\n",
       "        vertical-align: middle;\n",
       "    }\n",
       "\n",
       "    .dataframe tbody tr th {\n",
       "        vertical-align: top;\n",
       "    }\n",
       "\n",
       "    .dataframe thead th {\n",
       "        text-align: right;\n",
       "    }\n",
       "</style>\n",
       "<table border=\"1\" class=\"dataframe\">\n",
       "  <thead>\n",
       "    <tr style=\"text-align: right;\">\n",
       "      <th></th>\n",
       "      <th>apples</th>\n",
       "      <th>oranges</th>\n",
       "    </tr>\n",
       "  </thead>\n",
       "  <tbody>\n",
       "    <tr>\n",
       "      <th>june</th>\n",
       "      <td>3</td>\n",
       "      <td>0</td>\n",
       "    </tr>\n",
       "    <tr>\n",
       "      <th>Robert</th>\n",
       "      <td>2</td>\n",
       "      <td>3</td>\n",
       "    </tr>\n",
       "    <tr>\n",
       "      <th>Lily</th>\n",
       "      <td>0</td>\n",
       "      <td>7</td>\n",
       "    </tr>\n",
       "    <tr>\n",
       "      <th>David</th>\n",
       "      <td>1</td>\n",
       "      <td>2</td>\n",
       "    </tr>\n",
       "  </tbody>\n",
       "</table>\n",
       "</div>"
      ],
      "text/plain": [
       "        apples  oranges\n",
       "june         3        0\n",
       "Robert       2        3\n",
       "Lily         0        7\n",
       "David        1        2"
      ]
     },
     "execution_count": 118,
     "metadata": {},
     "output_type": "execute_result"
    }
   ],
   "source": [
    "purchases = pd.DataFrame(data, index=['june', 'Robert', 'Lily', 'David']) #creating index of names\n",
    "purchases"
   ]
  },
  {
   "cell_type": "code",
   "execution_count": 119,
   "metadata": {
    "slideshow": {
     "slide_type": "slide"
    }
   },
   "outputs": [
    {
     "data": {
      "text/html": [
       "<div>\n",
       "<style scoped>\n",
       "    .dataframe tbody tr th:only-of-type {\n",
       "        vertical-align: middle;\n",
       "    }\n",
       "\n",
       "    .dataframe tbody tr th {\n",
       "        vertical-align: top;\n",
       "    }\n",
       "\n",
       "    .dataframe thead th {\n",
       "        text-align: right;\n",
       "    }\n",
       "</style>\n",
       "<table border=\"1\" class=\"dataframe\">\n",
       "  <thead>\n",
       "    <tr style=\"text-align: right;\">\n",
       "      <th></th>\n",
       "      <th>a</th>\n",
       "      <th>b</th>\n",
       "      <th>c</th>\n",
       "      <th>d</th>\n",
       "      <th>e</th>\n",
       "    </tr>\n",
       "  </thead>\n",
       "  <tbody>\n",
       "    <tr>\n",
       "      <th>0</th>\n",
       "      <td>0.537566</td>\n",
       "      <td>0.311385</td>\n",
       "      <td>0.145421</td>\n",
       "      <td>0.067906</td>\n",
       "      <td>0.775623</td>\n",
       "    </tr>\n",
       "    <tr>\n",
       "      <th>1</th>\n",
       "      <td>0.273142</td>\n",
       "      <td>0.637941</td>\n",
       "      <td>0.612510</td>\n",
       "      <td>0.961231</td>\n",
       "      <td>0.362451</td>\n",
       "    </tr>\n",
       "    <tr>\n",
       "      <th>2</th>\n",
       "      <td>0.686966</td>\n",
       "      <td>0.520999</td>\n",
       "      <td>0.256163</td>\n",
       "      <td>0.962066</td>\n",
       "      <td>0.183091</td>\n",
       "    </tr>\n",
       "    <tr>\n",
       "      <th>3</th>\n",
       "      <td>0.480072</td>\n",
       "      <td>0.824852</td>\n",
       "      <td>0.204359</td>\n",
       "      <td>0.833833</td>\n",
       "      <td>0.466838</td>\n",
       "    </tr>\n",
       "    <tr>\n",
       "      <th>4</th>\n",
       "      <td>0.582031</td>\n",
       "      <td>0.082373</td>\n",
       "      <td>0.749255</td>\n",
       "      <td>0.561176</td>\n",
       "      <td>0.857692</td>\n",
       "    </tr>\n",
       "    <tr>\n",
       "      <th>5</th>\n",
       "      <td>0.398723</td>\n",
       "      <td>0.156866</td>\n",
       "      <td>0.956979</td>\n",
       "      <td>0.733153</td>\n",
       "      <td>0.385239</td>\n",
       "    </tr>\n",
       "    <tr>\n",
       "      <th>6</th>\n",
       "      <td>0.412634</td>\n",
       "      <td>0.751311</td>\n",
       "      <td>0.278501</td>\n",
       "      <td>0.810735</td>\n",
       "      <td>0.919550</td>\n",
       "    </tr>\n",
       "    <tr>\n",
       "      <th>7</th>\n",
       "      <td>0.511969</td>\n",
       "      <td>0.327086</td>\n",
       "      <td>0.066548</td>\n",
       "      <td>0.460698</td>\n",
       "      <td>0.985682</td>\n",
       "    </tr>\n",
       "    <tr>\n",
       "      <th>8</th>\n",
       "      <td>0.947819</td>\n",
       "      <td>0.551411</td>\n",
       "      <td>0.516986</td>\n",
       "      <td>0.412264</td>\n",
       "      <td>0.872750</td>\n",
       "    </tr>\n",
       "    <tr>\n",
       "      <th>9</th>\n",
       "      <td>0.118721</td>\n",
       "      <td>0.778245</td>\n",
       "      <td>0.303847</td>\n",
       "      <td>0.864660</td>\n",
       "      <td>0.623777</td>\n",
       "    </tr>\n",
       "    <tr>\n",
       "      <th>10</th>\n",
       "      <td>0.591880</td>\n",
       "      <td>0.055351</td>\n",
       "      <td>0.082942</td>\n",
       "      <td>0.012275</td>\n",
       "      <td>0.835092</td>\n",
       "    </tr>\n",
       "    <tr>\n",
       "      <th>11</th>\n",
       "      <td>0.768398</td>\n",
       "      <td>0.745504</td>\n",
       "      <td>0.910039</td>\n",
       "      <td>0.002737</td>\n",
       "      <td>0.893284</td>\n",
       "    </tr>\n",
       "    <tr>\n",
       "      <th>12</th>\n",
       "      <td>0.001312</td>\n",
       "      <td>0.827775</td>\n",
       "      <td>0.110050</td>\n",
       "      <td>0.901996</td>\n",
       "      <td>0.554892</td>\n",
       "    </tr>\n",
       "    <tr>\n",
       "      <th>13</th>\n",
       "      <td>0.784804</td>\n",
       "      <td>0.869005</td>\n",
       "      <td>0.396170</td>\n",
       "      <td>0.187070</td>\n",
       "      <td>0.075892</td>\n",
       "    </tr>\n",
       "    <tr>\n",
       "      <th>14</th>\n",
       "      <td>0.247773</td>\n",
       "      <td>0.342491</td>\n",
       "      <td>0.559005</td>\n",
       "      <td>0.355063</td>\n",
       "      <td>0.760640</td>\n",
       "    </tr>\n",
       "    <tr>\n",
       "      <th>15</th>\n",
       "      <td>0.287592</td>\n",
       "      <td>0.751788</td>\n",
       "      <td>0.818879</td>\n",
       "      <td>0.137656</td>\n",
       "      <td>0.604027</td>\n",
       "    </tr>\n",
       "    <tr>\n",
       "      <th>16</th>\n",
       "      <td>0.882248</td>\n",
       "      <td>0.898659</td>\n",
       "      <td>0.401516</td>\n",
       "      <td>0.765589</td>\n",
       "      <td>0.547705</td>\n",
       "    </tr>\n",
       "    <tr>\n",
       "      <th>17</th>\n",
       "      <td>0.851600</td>\n",
       "      <td>0.412318</td>\n",
       "      <td>0.833138</td>\n",
       "      <td>0.487513</td>\n",
       "      <td>0.152279</td>\n",
       "    </tr>\n",
       "    <tr>\n",
       "      <th>18</th>\n",
       "      <td>0.992509</td>\n",
       "      <td>0.256294</td>\n",
       "      <td>0.106514</td>\n",
       "      <td>0.699036</td>\n",
       "      <td>0.373498</td>\n",
       "    </tr>\n",
       "    <tr>\n",
       "      <th>19</th>\n",
       "      <td>0.546340</td>\n",
       "      <td>0.673780</td>\n",
       "      <td>0.683189</td>\n",
       "      <td>0.789805</td>\n",
       "      <td>0.229611</td>\n",
       "    </tr>\n",
       "    <tr>\n",
       "      <th>20</th>\n",
       "      <td>0.473195</td>\n",
       "      <td>0.691121</td>\n",
       "      <td>0.244867</td>\n",
       "      <td>0.401659</td>\n",
       "      <td>0.653568</td>\n",
       "    </tr>\n",
       "    <tr>\n",
       "      <th>21</th>\n",
       "      <td>0.115630</td>\n",
       "      <td>0.420313</td>\n",
       "      <td>0.409640</td>\n",
       "      <td>0.368330</td>\n",
       "      <td>0.998272</td>\n",
       "    </tr>\n",
       "    <tr>\n",
       "      <th>22</th>\n",
       "      <td>0.055520</td>\n",
       "      <td>0.595455</td>\n",
       "      <td>0.351542</td>\n",
       "      <td>0.221020</td>\n",
       "      <td>0.008207</td>\n",
       "    </tr>\n",
       "    <tr>\n",
       "      <th>23</th>\n",
       "      <td>0.960629</td>\n",
       "      <td>0.767417</td>\n",
       "      <td>0.405903</td>\n",
       "      <td>0.447568</td>\n",
       "      <td>0.007267</td>\n",
       "    </tr>\n",
       "    <tr>\n",
       "      <th>24</th>\n",
       "      <td>0.249463</td>\n",
       "      <td>0.811566</td>\n",
       "      <td>0.909314</td>\n",
       "      <td>0.901434</td>\n",
       "      <td>0.208681</td>\n",
       "    </tr>\n",
       "    <tr>\n",
       "      <th>25</th>\n",
       "      <td>0.378153</td>\n",
       "      <td>0.988025</td>\n",
       "      <td>0.192571</td>\n",
       "      <td>0.405287</td>\n",
       "      <td>0.380349</td>\n",
       "    </tr>\n",
       "    <tr>\n",
       "      <th>26</th>\n",
       "      <td>0.520493</td>\n",
       "      <td>0.820600</td>\n",
       "      <td>0.703070</td>\n",
       "      <td>0.227274</td>\n",
       "      <td>0.730409</td>\n",
       "    </tr>\n",
       "    <tr>\n",
       "      <th>27</th>\n",
       "      <td>0.496667</td>\n",
       "      <td>0.526580</td>\n",
       "      <td>0.026050</td>\n",
       "      <td>0.520589</td>\n",
       "      <td>0.878885</td>\n",
       "    </tr>\n",
       "    <tr>\n",
       "      <th>28</th>\n",
       "      <td>0.803636</td>\n",
       "      <td>0.839359</td>\n",
       "      <td>0.950102</td>\n",
       "      <td>0.342339</td>\n",
       "      <td>0.134541</td>\n",
       "    </tr>\n",
       "    <tr>\n",
       "      <th>29</th>\n",
       "      <td>0.209090</td>\n",
       "      <td>0.630492</td>\n",
       "      <td>0.888678</td>\n",
       "      <td>0.854182</td>\n",
       "      <td>0.153024</td>\n",
       "    </tr>\n",
       "  </tbody>\n",
       "</table>\n",
       "</div>"
      ],
      "text/plain": [
       "           a         b         c         d         e\n",
       "0   0.537566  0.311385  0.145421  0.067906  0.775623\n",
       "1   0.273142  0.637941  0.612510  0.961231  0.362451\n",
       "2   0.686966  0.520999  0.256163  0.962066  0.183091\n",
       "3   0.480072  0.824852  0.204359  0.833833  0.466838\n",
       "4   0.582031  0.082373  0.749255  0.561176  0.857692\n",
       "5   0.398723  0.156866  0.956979  0.733153  0.385239\n",
       "6   0.412634  0.751311  0.278501  0.810735  0.919550\n",
       "7   0.511969  0.327086  0.066548  0.460698  0.985682\n",
       "8   0.947819  0.551411  0.516986  0.412264  0.872750\n",
       "9   0.118721  0.778245  0.303847  0.864660  0.623777\n",
       "10  0.591880  0.055351  0.082942  0.012275  0.835092\n",
       "11  0.768398  0.745504  0.910039  0.002737  0.893284\n",
       "12  0.001312  0.827775  0.110050  0.901996  0.554892\n",
       "13  0.784804  0.869005  0.396170  0.187070  0.075892\n",
       "14  0.247773  0.342491  0.559005  0.355063  0.760640\n",
       "15  0.287592  0.751788  0.818879  0.137656  0.604027\n",
       "16  0.882248  0.898659  0.401516  0.765589  0.547705\n",
       "17  0.851600  0.412318  0.833138  0.487513  0.152279\n",
       "18  0.992509  0.256294  0.106514  0.699036  0.373498\n",
       "19  0.546340  0.673780  0.683189  0.789805  0.229611\n",
       "20  0.473195  0.691121  0.244867  0.401659  0.653568\n",
       "21  0.115630  0.420313  0.409640  0.368330  0.998272\n",
       "22  0.055520  0.595455  0.351542  0.221020  0.008207\n",
       "23  0.960629  0.767417  0.405903  0.447568  0.007267\n",
       "24  0.249463  0.811566  0.909314  0.901434  0.208681\n",
       "25  0.378153  0.988025  0.192571  0.405287  0.380349\n",
       "26  0.520493  0.820600  0.703070  0.227274  0.730409\n",
       "27  0.496667  0.526580  0.026050  0.520589  0.878885\n",
       "28  0.803636  0.839359  0.950102  0.342339  0.134541\n",
       "29  0.209090  0.630492  0.888678  0.854182  0.153024"
      ]
     },
     "execution_count": 119,
     "metadata": {},
     "output_type": "execute_result"
    }
   ],
   "source": [
    "a=np.random.rand(30,5) #generate random 30x5 matrix then convert to pandas dataframe\n",
    "table=pd.DataFrame(a,columns=['a','b','c','d','e']) #assign five column names\n",
    "table"
   ]
  },
  {
   "cell_type": "code",
   "execution_count": 120,
   "metadata": {
    "slideshow": {
     "slide_type": "slide"
    }
   },
   "outputs": [
    {
     "data": {
      "text/plain": [
       "Index(['a', 'b', 'c', 'd', 'e'], dtype='object')"
      ]
     },
     "execution_count": 120,
     "metadata": {},
     "output_type": "execute_result"
    }
   ],
   "source": [
    "table.columns #get column names"
   ]
  },
  {
   "cell_type": "code",
   "execution_count": 121,
   "metadata": {
    "slideshow": {
     "slide_type": "slide"
    }
   },
   "outputs": [
    {
     "data": {
      "text/html": [
       "<div>\n",
       "<style scoped>\n",
       "    .dataframe tbody tr th:only-of-type {\n",
       "        vertical-align: middle;\n",
       "    }\n",
       "\n",
       "    .dataframe tbody tr th {\n",
       "        vertical-align: top;\n",
       "    }\n",
       "\n",
       "    .dataframe thead th {\n",
       "        text-align: right;\n",
       "    }\n",
       "</style>\n",
       "<table border=\"1\" class=\"dataframe\">\n",
       "  <thead>\n",
       "    <tr style=\"text-align: right;\">\n",
       "      <th></th>\n",
       "      <th>a</th>\n",
       "      <th>b</th>\n",
       "      <th>c</th>\n",
       "      <th>d</th>\n",
       "      <th>e</th>\n",
       "    </tr>\n",
       "  </thead>\n",
       "  <tbody>\n",
       "    <tr>\n",
       "      <th>0</th>\n",
       "      <td>0.537566</td>\n",
       "      <td>0.311385</td>\n",
       "      <td>0.145421</td>\n",
       "      <td>0.067906</td>\n",
       "      <td>0.775623</td>\n",
       "    </tr>\n",
       "    <tr>\n",
       "      <th>1</th>\n",
       "      <td>0.273142</td>\n",
       "      <td>0.637941</td>\n",
       "      <td>0.612510</td>\n",
       "      <td>0.961231</td>\n",
       "      <td>0.362451</td>\n",
       "    </tr>\n",
       "  </tbody>\n",
       "</table>\n",
       "</div>"
      ],
      "text/plain": [
       "          a         b         c         d         e\n",
       "0  0.537566  0.311385  0.145421  0.067906  0.775623\n",
       "1  0.273142  0.637941  0.612510  0.961231  0.362451"
      ]
     },
     "execution_count": 121,
     "metadata": {},
     "output_type": "execute_result"
    }
   ],
   "source": [
    "table.head(2) #by default gives first 5 rows"
   ]
  },
  {
   "cell_type": "code",
   "execution_count": 122,
   "metadata": {
    "slideshow": {
     "slide_type": "slide"
    }
   },
   "outputs": [
    {
     "data": {
      "text/html": [
       "<div>\n",
       "<style scoped>\n",
       "    .dataframe tbody tr th:only-of-type {\n",
       "        vertical-align: middle;\n",
       "    }\n",
       "\n",
       "    .dataframe tbody tr th {\n",
       "        vertical-align: top;\n",
       "    }\n",
       "\n",
       "    .dataframe thead th {\n",
       "        text-align: right;\n",
       "    }\n",
       "</style>\n",
       "<table border=\"1\" class=\"dataframe\">\n",
       "  <thead>\n",
       "    <tr style=\"text-align: right;\">\n",
       "      <th></th>\n",
       "      <th>a</th>\n",
       "      <th>b</th>\n",
       "      <th>c</th>\n",
       "      <th>d</th>\n",
       "      <th>e</th>\n",
       "    </tr>\n",
       "  </thead>\n",
       "  <tbody>\n",
       "    <tr>\n",
       "      <th>25</th>\n",
       "      <td>0.378153</td>\n",
       "      <td>0.988025</td>\n",
       "      <td>0.192571</td>\n",
       "      <td>0.405287</td>\n",
       "      <td>0.380349</td>\n",
       "    </tr>\n",
       "    <tr>\n",
       "      <th>26</th>\n",
       "      <td>0.520493</td>\n",
       "      <td>0.820600</td>\n",
       "      <td>0.703070</td>\n",
       "      <td>0.227274</td>\n",
       "      <td>0.730409</td>\n",
       "    </tr>\n",
       "    <tr>\n",
       "      <th>27</th>\n",
       "      <td>0.496667</td>\n",
       "      <td>0.526580</td>\n",
       "      <td>0.026050</td>\n",
       "      <td>0.520589</td>\n",
       "      <td>0.878885</td>\n",
       "    </tr>\n",
       "    <tr>\n",
       "      <th>28</th>\n",
       "      <td>0.803636</td>\n",
       "      <td>0.839359</td>\n",
       "      <td>0.950102</td>\n",
       "      <td>0.342339</td>\n",
       "      <td>0.134541</td>\n",
       "    </tr>\n",
       "    <tr>\n",
       "      <th>29</th>\n",
       "      <td>0.209090</td>\n",
       "      <td>0.630492</td>\n",
       "      <td>0.888678</td>\n",
       "      <td>0.854182</td>\n",
       "      <td>0.153024</td>\n",
       "    </tr>\n",
       "  </tbody>\n",
       "</table>\n",
       "</div>"
      ],
      "text/plain": [
       "           a         b         c         d         e\n",
       "25  0.378153  0.988025  0.192571  0.405287  0.380349\n",
       "26  0.520493  0.820600  0.703070  0.227274  0.730409\n",
       "27  0.496667  0.526580  0.026050  0.520589  0.878885\n",
       "28  0.803636  0.839359  0.950102  0.342339  0.134541\n",
       "29  0.209090  0.630492  0.888678  0.854182  0.153024"
      ]
     },
     "execution_count": 122,
     "metadata": {},
     "output_type": "execute_result"
    }
   ],
   "source": [
    "table.tail() #gives last five rows"
   ]
  },
  {
   "cell_type": "code",
   "execution_count": 123,
   "metadata": {
    "slideshow": {
     "slide_type": "slide"
    }
   },
   "outputs": [
    {
     "data": {
      "text/plain": [
       "(30, 5)"
      ]
     },
     "execution_count": 123,
     "metadata": {},
     "output_type": "execute_result"
    }
   ],
   "source": [
    "table.shape #gives shape of the data"
   ]
  },
  {
   "cell_type": "code",
   "execution_count": 124,
   "metadata": {
    "slideshow": {
     "slide_type": "slide"
    }
   },
   "outputs": [],
   "source": [
    "table['new_1']=(table['a']+table['b'])*table['c'] #apply math operations and add new_col1\n",
    "table['new-2']=table['b']*100 #create new col_2 multiply values from b with 100 then put to new_2"
   ]
  },
  {
   "cell_type": "code",
   "execution_count": 125,
   "metadata": {
    "slideshow": {
     "slide_type": "slide"
    }
   },
   "outputs": [
    {
     "data": {
      "text/html": [
       "<div>\n",
       "<style scoped>\n",
       "    .dataframe tbody tr th:only-of-type {\n",
       "        vertical-align: middle;\n",
       "    }\n",
       "\n",
       "    .dataframe tbody tr th {\n",
       "        vertical-align: top;\n",
       "    }\n",
       "\n",
       "    .dataframe thead th {\n",
       "        text-align: right;\n",
       "    }\n",
       "</style>\n",
       "<table border=\"1\" class=\"dataframe\">\n",
       "  <thead>\n",
       "    <tr style=\"text-align: right;\">\n",
       "      <th></th>\n",
       "      <th>a</th>\n",
       "      <th>b</th>\n",
       "      <th>c</th>\n",
       "      <th>d</th>\n",
       "      <th>e</th>\n",
       "      <th>new_1</th>\n",
       "      <th>new-2</th>\n",
       "    </tr>\n",
       "  </thead>\n",
       "  <tbody>\n",
       "    <tr>\n",
       "      <th>0</th>\n",
       "      <td>0.537566</td>\n",
       "      <td>0.311385</td>\n",
       "      <td>0.145421</td>\n",
       "      <td>0.067906</td>\n",
       "      <td>0.775623</td>\n",
       "      <td>0.123455</td>\n",
       "      <td>0.848951</td>\n",
       "    </tr>\n",
       "    <tr>\n",
       "      <th>1</th>\n",
       "      <td>0.273142</td>\n",
       "      <td>0.637941</td>\n",
       "      <td>0.612510</td>\n",
       "      <td>0.961231</td>\n",
       "      <td>0.362451</td>\n",
       "      <td>0.558048</td>\n",
       "      <td>0.911084</td>\n",
       "    </tr>\n",
       "    <tr>\n",
       "      <th>2</th>\n",
       "      <td>0.686966</td>\n",
       "      <td>0.520999</td>\n",
       "      <td>0.256163</td>\n",
       "      <td>0.962066</td>\n",
       "      <td>0.183091</td>\n",
       "      <td>0.309436</td>\n",
       "      <td>1.207965</td>\n",
       "    </tr>\n",
       "    <tr>\n",
       "      <th>3</th>\n",
       "      <td>0.480072</td>\n",
       "      <td>0.824852</td>\n",
       "      <td>0.204359</td>\n",
       "      <td>0.833833</td>\n",
       "      <td>0.466838</td>\n",
       "      <td>0.266673</td>\n",
       "      <td>1.304925</td>\n",
       "    </tr>\n",
       "    <tr>\n",
       "      <th>4</th>\n",
       "      <td>0.582031</td>\n",
       "      <td>0.082373</td>\n",
       "      <td>0.749255</td>\n",
       "      <td>0.561176</td>\n",
       "      <td>0.857692</td>\n",
       "      <td>0.497808</td>\n",
       "      <td>0.664404</td>\n",
       "    </tr>\n",
       "    <tr>\n",
       "      <th>5</th>\n",
       "      <td>0.398723</td>\n",
       "      <td>0.156866</td>\n",
       "      <td>0.956979</td>\n",
       "      <td>0.733153</td>\n",
       "      <td>0.385239</td>\n",
       "      <td>0.531687</td>\n",
       "      <td>0.555589</td>\n",
       "    </tr>\n",
       "    <tr>\n",
       "      <th>6</th>\n",
       "      <td>0.412634</td>\n",
       "      <td>0.751311</td>\n",
       "      <td>0.278501</td>\n",
       "      <td>0.810735</td>\n",
       "      <td>0.919550</td>\n",
       "      <td>0.324160</td>\n",
       "      <td>1.163946</td>\n",
       "    </tr>\n",
       "    <tr>\n",
       "      <th>7</th>\n",
       "      <td>0.511969</td>\n",
       "      <td>0.327086</td>\n",
       "      <td>0.066548</td>\n",
       "      <td>0.460698</td>\n",
       "      <td>0.985682</td>\n",
       "      <td>0.055838</td>\n",
       "      <td>0.839055</td>\n",
       "    </tr>\n",
       "    <tr>\n",
       "      <th>8</th>\n",
       "      <td>0.947819</td>\n",
       "      <td>0.551411</td>\n",
       "      <td>0.516986</td>\n",
       "      <td>0.412264</td>\n",
       "      <td>0.872750</td>\n",
       "      <td>0.775080</td>\n",
       "      <td>1.499230</td>\n",
       "    </tr>\n",
       "    <tr>\n",
       "      <th>9</th>\n",
       "      <td>0.118721</td>\n",
       "      <td>0.778245</td>\n",
       "      <td>0.303847</td>\n",
       "      <td>0.864660</td>\n",
       "      <td>0.623777</td>\n",
       "      <td>0.272541</td>\n",
       "      <td>0.896965</td>\n",
       "    </tr>\n",
       "    <tr>\n",
       "      <th>10</th>\n",
       "      <td>0.591880</td>\n",
       "      <td>0.055351</td>\n",
       "      <td>0.082942</td>\n",
       "      <td>0.012275</td>\n",
       "      <td>0.835092</td>\n",
       "      <td>0.053683</td>\n",
       "      <td>0.647230</td>\n",
       "    </tr>\n",
       "    <tr>\n",
       "      <th>11</th>\n",
       "      <td>0.768398</td>\n",
       "      <td>0.745504</td>\n",
       "      <td>0.910039</td>\n",
       "      <td>0.002737</td>\n",
       "      <td>0.893284</td>\n",
       "      <td>1.377710</td>\n",
       "      <td>1.513902</td>\n",
       "    </tr>\n",
       "    <tr>\n",
       "      <th>12</th>\n",
       "      <td>0.001312</td>\n",
       "      <td>0.827775</td>\n",
       "      <td>0.110050</td>\n",
       "      <td>0.901996</td>\n",
       "      <td>0.554892</td>\n",
       "      <td>0.091241</td>\n",
       "      <td>0.829087</td>\n",
       "    </tr>\n",
       "    <tr>\n",
       "      <th>13</th>\n",
       "      <td>0.784804</td>\n",
       "      <td>0.869005</td>\n",
       "      <td>0.396170</td>\n",
       "      <td>0.187070</td>\n",
       "      <td>0.075892</td>\n",
       "      <td>0.655189</td>\n",
       "      <td>1.653809</td>\n",
       "    </tr>\n",
       "    <tr>\n",
       "      <th>14</th>\n",
       "      <td>0.247773</td>\n",
       "      <td>0.342491</td>\n",
       "      <td>0.559005</td>\n",
       "      <td>0.355063</td>\n",
       "      <td>0.760640</td>\n",
       "      <td>0.329960</td>\n",
       "      <td>0.590264</td>\n",
       "    </tr>\n",
       "    <tr>\n",
       "      <th>15</th>\n",
       "      <td>0.287592</td>\n",
       "      <td>0.751788</td>\n",
       "      <td>0.818879</td>\n",
       "      <td>0.137656</td>\n",
       "      <td>0.604027</td>\n",
       "      <td>0.851126</td>\n",
       "      <td>1.039380</td>\n",
       "    </tr>\n",
       "    <tr>\n",
       "      <th>16</th>\n",
       "      <td>0.882248</td>\n",
       "      <td>0.898659</td>\n",
       "      <td>0.401516</td>\n",
       "      <td>0.765589</td>\n",
       "      <td>0.547705</td>\n",
       "      <td>0.715063</td>\n",
       "      <td>1.780907</td>\n",
       "    </tr>\n",
       "    <tr>\n",
       "      <th>17</th>\n",
       "      <td>0.851600</td>\n",
       "      <td>0.412318</td>\n",
       "      <td>0.833138</td>\n",
       "      <td>0.487513</td>\n",
       "      <td>0.152279</td>\n",
       "      <td>1.053018</td>\n",
       "      <td>1.263917</td>\n",
       "    </tr>\n",
       "    <tr>\n",
       "      <th>18</th>\n",
       "      <td>0.992509</td>\n",
       "      <td>0.256294</td>\n",
       "      <td>0.106514</td>\n",
       "      <td>0.699036</td>\n",
       "      <td>0.373498</td>\n",
       "      <td>0.133015</td>\n",
       "      <td>1.248804</td>\n",
       "    </tr>\n",
       "    <tr>\n",
       "      <th>19</th>\n",
       "      <td>0.546340</td>\n",
       "      <td>0.673780</td>\n",
       "      <td>0.683189</td>\n",
       "      <td>0.789805</td>\n",
       "      <td>0.229611</td>\n",
       "      <td>0.833572</td>\n",
       "      <td>1.220119</td>\n",
       "    </tr>\n",
       "    <tr>\n",
       "      <th>20</th>\n",
       "      <td>0.473195</td>\n",
       "      <td>0.691121</td>\n",
       "      <td>0.244867</td>\n",
       "      <td>0.401659</td>\n",
       "      <td>0.653568</td>\n",
       "      <td>0.285102</td>\n",
       "      <td>1.164316</td>\n",
       "    </tr>\n",
       "    <tr>\n",
       "      <th>21</th>\n",
       "      <td>0.115630</td>\n",
       "      <td>0.420313</td>\n",
       "      <td>0.409640</td>\n",
       "      <td>0.368330</td>\n",
       "      <td>0.998272</td>\n",
       "      <td>0.219544</td>\n",
       "      <td>0.535943</td>\n",
       "    </tr>\n",
       "    <tr>\n",
       "      <th>22</th>\n",
       "      <td>0.055520</td>\n",
       "      <td>0.595455</td>\n",
       "      <td>0.351542</td>\n",
       "      <td>0.221020</td>\n",
       "      <td>0.008207</td>\n",
       "      <td>0.228845</td>\n",
       "      <td>0.650975</td>\n",
       "    </tr>\n",
       "    <tr>\n",
       "      <th>23</th>\n",
       "      <td>0.960629</td>\n",
       "      <td>0.767417</td>\n",
       "      <td>0.405903</td>\n",
       "      <td>0.447568</td>\n",
       "      <td>0.007267</td>\n",
       "      <td>0.701419</td>\n",
       "      <td>1.728046</td>\n",
       "    </tr>\n",
       "    <tr>\n",
       "      <th>24</th>\n",
       "      <td>0.249463</td>\n",
       "      <td>0.811566</td>\n",
       "      <td>0.909314</td>\n",
       "      <td>0.901434</td>\n",
       "      <td>0.208681</td>\n",
       "      <td>0.964809</td>\n",
       "      <td>1.061029</td>\n",
       "    </tr>\n",
       "    <tr>\n",
       "      <th>25</th>\n",
       "      <td>0.378153</td>\n",
       "      <td>0.988025</td>\n",
       "      <td>0.192571</td>\n",
       "      <td>0.405287</td>\n",
       "      <td>0.380349</td>\n",
       "      <td>0.263087</td>\n",
       "      <td>1.366177</td>\n",
       "    </tr>\n",
       "    <tr>\n",
       "      <th>26</th>\n",
       "      <td>0.520493</td>\n",
       "      <td>0.820600</td>\n",
       "      <td>0.703070</td>\n",
       "      <td>0.227274</td>\n",
       "      <td>0.730409</td>\n",
       "      <td>0.942882</td>\n",
       "      <td>1.341093</td>\n",
       "    </tr>\n",
       "    <tr>\n",
       "      <th>27</th>\n",
       "      <td>0.496667</td>\n",
       "      <td>0.526580</td>\n",
       "      <td>0.026050</td>\n",
       "      <td>0.520589</td>\n",
       "      <td>0.878885</td>\n",
       "      <td>0.026656</td>\n",
       "      <td>1.023247</td>\n",
       "    </tr>\n",
       "    <tr>\n",
       "      <th>28</th>\n",
       "      <td>0.803636</td>\n",
       "      <td>0.839359</td>\n",
       "      <td>0.950102</td>\n",
       "      <td>0.342339</td>\n",
       "      <td>0.134541</td>\n",
       "      <td>1.561013</td>\n",
       "      <td>1.642995</td>\n",
       "    </tr>\n",
       "    <tr>\n",
       "      <th>29</th>\n",
       "      <td>0.209090</td>\n",
       "      <td>0.630492</td>\n",
       "      <td>0.888678</td>\n",
       "      <td>0.854182</td>\n",
       "      <td>0.153024</td>\n",
       "      <td>0.746118</td>\n",
       "      <td>0.839582</td>\n",
       "    </tr>\n",
       "  </tbody>\n",
       "</table>\n",
       "</div>"
      ],
      "text/plain": [
       "           a         b         c         d         e     new_1     new-2\n",
       "0   0.537566  0.311385  0.145421  0.067906  0.775623  0.123455  0.848951\n",
       "1   0.273142  0.637941  0.612510  0.961231  0.362451  0.558048  0.911084\n",
       "2   0.686966  0.520999  0.256163  0.962066  0.183091  0.309436  1.207965\n",
       "3   0.480072  0.824852  0.204359  0.833833  0.466838  0.266673  1.304925\n",
       "4   0.582031  0.082373  0.749255  0.561176  0.857692  0.497808  0.664404\n",
       "5   0.398723  0.156866  0.956979  0.733153  0.385239  0.531687  0.555589\n",
       "6   0.412634  0.751311  0.278501  0.810735  0.919550  0.324160  1.163946\n",
       "7   0.511969  0.327086  0.066548  0.460698  0.985682  0.055838  0.839055\n",
       "8   0.947819  0.551411  0.516986  0.412264  0.872750  0.775080  1.499230\n",
       "9   0.118721  0.778245  0.303847  0.864660  0.623777  0.272541  0.896965\n",
       "10  0.591880  0.055351  0.082942  0.012275  0.835092  0.053683  0.647230\n",
       "11  0.768398  0.745504  0.910039  0.002737  0.893284  1.377710  1.513902\n",
       "12  0.001312  0.827775  0.110050  0.901996  0.554892  0.091241  0.829087\n",
       "13  0.784804  0.869005  0.396170  0.187070  0.075892  0.655189  1.653809\n",
       "14  0.247773  0.342491  0.559005  0.355063  0.760640  0.329960  0.590264\n",
       "15  0.287592  0.751788  0.818879  0.137656  0.604027  0.851126  1.039380\n",
       "16  0.882248  0.898659  0.401516  0.765589  0.547705  0.715063  1.780907\n",
       "17  0.851600  0.412318  0.833138  0.487513  0.152279  1.053018  1.263917\n",
       "18  0.992509  0.256294  0.106514  0.699036  0.373498  0.133015  1.248804\n",
       "19  0.546340  0.673780  0.683189  0.789805  0.229611  0.833572  1.220119\n",
       "20  0.473195  0.691121  0.244867  0.401659  0.653568  0.285102  1.164316\n",
       "21  0.115630  0.420313  0.409640  0.368330  0.998272  0.219544  0.535943\n",
       "22  0.055520  0.595455  0.351542  0.221020  0.008207  0.228845  0.650975\n",
       "23  0.960629  0.767417  0.405903  0.447568  0.007267  0.701419  1.728046\n",
       "24  0.249463  0.811566  0.909314  0.901434  0.208681  0.964809  1.061029\n",
       "25  0.378153  0.988025  0.192571  0.405287  0.380349  0.263087  1.366177\n",
       "26  0.520493  0.820600  0.703070  0.227274  0.730409  0.942882  1.341093\n",
       "27  0.496667  0.526580  0.026050  0.520589  0.878885  0.026656  1.023247\n",
       "28  0.803636  0.839359  0.950102  0.342339  0.134541  1.561013  1.642995\n",
       "29  0.209090  0.630492  0.888678  0.854182  0.153024  0.746118  0.839582"
      ]
     },
     "execution_count": 125,
     "metadata": {},
     "output_type": "execute_result"
    }
   ],
   "source": [
    "table['new-2']=table['a']+table['b'] # add column a and b then put values to new-2\n",
    "table"
   ]
  },
  {
   "cell_type": "markdown",
   "metadata": {},
   "source": [
    "#### column deletion"
   ]
  },
  {
   "cell_type": "code",
   "execution_count": 126,
   "metadata": {
    "slideshow": {
     "slide_type": "slide"
    }
   },
   "outputs": [
    {
     "data": {
      "text/plain": [
       "Index(['c', 'd', 'e', 'new_1', 'new-2'], dtype='object')"
      ]
     },
     "execution_count": 126,
     "metadata": {},
     "output_type": "execute_result"
    }
   ],
   "source": [
    "del table['a']\n",
    "del table['b']\n",
    "table.columns"
   ]
  },
  {
   "cell_type": "code",
   "execution_count": 127,
   "metadata": {
    "slideshow": {
     "slide_type": "slide"
    }
   },
   "outputs": [
    {
     "data": {
      "text/html": [
       "<div>\n",
       "<style scoped>\n",
       "    .dataframe tbody tr th:only-of-type {\n",
       "        vertical-align: middle;\n",
       "    }\n",
       "\n",
       "    .dataframe tbody tr th {\n",
       "        vertical-align: top;\n",
       "    }\n",
       "\n",
       "    .dataframe thead th {\n",
       "        text-align: right;\n",
       "    }\n",
       "</style>\n",
       "<table border=\"1\" class=\"dataframe\">\n",
       "  <thead>\n",
       "    <tr style=\"text-align: right;\">\n",
       "      <th></th>\n",
       "      <th>c</th>\n",
       "      <th>d</th>\n",
       "      <th>e</th>\n",
       "      <th>new_1</th>\n",
       "      <th>new-2</th>\n",
       "      <th>salary</th>\n",
       "    </tr>\n",
       "  </thead>\n",
       "  <tbody>\n",
       "    <tr>\n",
       "      <th>0</th>\n",
       "      <td>0.145421</td>\n",
       "      <td>0.067906</td>\n",
       "      <td>0.775623</td>\n",
       "      <td>0.123455</td>\n",
       "      <td>0.848951</td>\n",
       "      <td>51995</td>\n",
       "    </tr>\n",
       "    <tr>\n",
       "      <th>1</th>\n",
       "      <td>0.612510</td>\n",
       "      <td>0.961231</td>\n",
       "      <td>0.362451</td>\n",
       "      <td>0.558048</td>\n",
       "      <td>0.911084</td>\n",
       "      <td>33283</td>\n",
       "    </tr>\n",
       "    <tr>\n",
       "      <th>2</th>\n",
       "      <td>0.256163</td>\n",
       "      <td>0.962066</td>\n",
       "      <td>0.183091</td>\n",
       "      <td>0.309436</td>\n",
       "      <td>1.207965</td>\n",
       "      <td>59304</td>\n",
       "    </tr>\n",
       "    <tr>\n",
       "      <th>3</th>\n",
       "      <td>0.204359</td>\n",
       "      <td>0.833833</td>\n",
       "      <td>0.466838</td>\n",
       "      <td>0.266673</td>\n",
       "      <td>1.304925</td>\n",
       "      <td>99775</td>\n",
       "    </tr>\n",
       "    <tr>\n",
       "      <th>4</th>\n",
       "      <td>0.749255</td>\n",
       "      <td>0.561176</td>\n",
       "      <td>0.857692</td>\n",
       "      <td>0.497808</td>\n",
       "      <td>0.664404</td>\n",
       "      <td>39472</td>\n",
       "    </tr>\n",
       "    <tr>\n",
       "      <th>5</th>\n",
       "      <td>0.956979</td>\n",
       "      <td>0.733153</td>\n",
       "      <td>0.385239</td>\n",
       "      <td>0.531687</td>\n",
       "      <td>0.555589</td>\n",
       "      <td>53027</td>\n",
       "    </tr>\n",
       "    <tr>\n",
       "      <th>6</th>\n",
       "      <td>0.278501</td>\n",
       "      <td>0.810735</td>\n",
       "      <td>0.919550</td>\n",
       "      <td>0.324160</td>\n",
       "      <td>1.163946</td>\n",
       "      <td>34309</td>\n",
       "    </tr>\n",
       "    <tr>\n",
       "      <th>7</th>\n",
       "      <td>0.066548</td>\n",
       "      <td>0.460698</td>\n",
       "      <td>0.985682</td>\n",
       "      <td>0.055838</td>\n",
       "      <td>0.839055</td>\n",
       "      <td>99322</td>\n",
       "    </tr>\n",
       "    <tr>\n",
       "      <th>8</th>\n",
       "      <td>0.516986</td>\n",
       "      <td>0.412264</td>\n",
       "      <td>0.872750</td>\n",
       "      <td>0.775080</td>\n",
       "      <td>1.499230</td>\n",
       "      <td>64371</td>\n",
       "    </tr>\n",
       "    <tr>\n",
       "      <th>9</th>\n",
       "      <td>0.303847</td>\n",
       "      <td>0.864660</td>\n",
       "      <td>0.623777</td>\n",
       "      <td>0.272541</td>\n",
       "      <td>0.896965</td>\n",
       "      <td>30868</td>\n",
       "    </tr>\n",
       "    <tr>\n",
       "      <th>10</th>\n",
       "      <td>0.082942</td>\n",
       "      <td>0.012275</td>\n",
       "      <td>0.835092</td>\n",
       "      <td>0.053683</td>\n",
       "      <td>0.647230</td>\n",
       "      <td>66661</td>\n",
       "    </tr>\n",
       "    <tr>\n",
       "      <th>11</th>\n",
       "      <td>0.910039</td>\n",
       "      <td>0.002737</td>\n",
       "      <td>0.893284</td>\n",
       "      <td>1.377710</td>\n",
       "      <td>1.513902</td>\n",
       "      <td>58144</td>\n",
       "    </tr>\n",
       "    <tr>\n",
       "      <th>12</th>\n",
       "      <td>0.110050</td>\n",
       "      <td>0.901996</td>\n",
       "      <td>0.554892</td>\n",
       "      <td>0.091241</td>\n",
       "      <td>0.829087</td>\n",
       "      <td>92352</td>\n",
       "    </tr>\n",
       "    <tr>\n",
       "      <th>13</th>\n",
       "      <td>0.396170</td>\n",
       "      <td>0.187070</td>\n",
       "      <td>0.075892</td>\n",
       "      <td>0.655189</td>\n",
       "      <td>1.653809</td>\n",
       "      <td>56380</td>\n",
       "    </tr>\n",
       "    <tr>\n",
       "      <th>14</th>\n",
       "      <td>0.559005</td>\n",
       "      <td>0.355063</td>\n",
       "      <td>0.760640</td>\n",
       "      <td>0.329960</td>\n",
       "      <td>0.590264</td>\n",
       "      <td>67495</td>\n",
       "    </tr>\n",
       "    <tr>\n",
       "      <th>15</th>\n",
       "      <td>0.818879</td>\n",
       "      <td>0.137656</td>\n",
       "      <td>0.604027</td>\n",
       "      <td>0.851126</td>\n",
       "      <td>1.039380</td>\n",
       "      <td>55985</td>\n",
       "    </tr>\n",
       "    <tr>\n",
       "      <th>16</th>\n",
       "      <td>0.401516</td>\n",
       "      <td>0.765589</td>\n",
       "      <td>0.547705</td>\n",
       "      <td>0.715063</td>\n",
       "      <td>1.780907</td>\n",
       "      <td>86279</td>\n",
       "    </tr>\n",
       "    <tr>\n",
       "      <th>17</th>\n",
       "      <td>0.833138</td>\n",
       "      <td>0.487513</td>\n",
       "      <td>0.152279</td>\n",
       "      <td>1.053018</td>\n",
       "      <td>1.263917</td>\n",
       "      <td>74319</td>\n",
       "    </tr>\n",
       "    <tr>\n",
       "      <th>18</th>\n",
       "      <td>0.106514</td>\n",
       "      <td>0.699036</td>\n",
       "      <td>0.373498</td>\n",
       "      <td>0.133015</td>\n",
       "      <td>1.248804</td>\n",
       "      <td>49618</td>\n",
       "    </tr>\n",
       "    <tr>\n",
       "      <th>19</th>\n",
       "      <td>0.683189</td>\n",
       "      <td>0.789805</td>\n",
       "      <td>0.229611</td>\n",
       "      <td>0.833572</td>\n",
       "      <td>1.220119</td>\n",
       "      <td>88640</td>\n",
       "    </tr>\n",
       "    <tr>\n",
       "      <th>20</th>\n",
       "      <td>0.244867</td>\n",
       "      <td>0.401659</td>\n",
       "      <td>0.653568</td>\n",
       "      <td>0.285102</td>\n",
       "      <td>1.164316</td>\n",
       "      <td>64521</td>\n",
       "    </tr>\n",
       "    <tr>\n",
       "      <th>21</th>\n",
       "      <td>0.409640</td>\n",
       "      <td>0.368330</td>\n",
       "      <td>0.998272</td>\n",
       "      <td>0.219544</td>\n",
       "      <td>0.535943</td>\n",
       "      <td>43378</td>\n",
       "    </tr>\n",
       "    <tr>\n",
       "      <th>22</th>\n",
       "      <td>0.351542</td>\n",
       "      <td>0.221020</td>\n",
       "      <td>0.008207</td>\n",
       "      <td>0.228845</td>\n",
       "      <td>0.650975</td>\n",
       "      <td>86794</td>\n",
       "    </tr>\n",
       "    <tr>\n",
       "      <th>23</th>\n",
       "      <td>0.405903</td>\n",
       "      <td>0.447568</td>\n",
       "      <td>0.007267</td>\n",
       "      <td>0.701419</td>\n",
       "      <td>1.728046</td>\n",
       "      <td>47578</td>\n",
       "    </tr>\n",
       "    <tr>\n",
       "      <th>24</th>\n",
       "      <td>0.909314</td>\n",
       "      <td>0.901434</td>\n",
       "      <td>0.208681</td>\n",
       "      <td>0.964809</td>\n",
       "      <td>1.061029</td>\n",
       "      <td>78984</td>\n",
       "    </tr>\n",
       "    <tr>\n",
       "      <th>25</th>\n",
       "      <td>0.192571</td>\n",
       "      <td>0.405287</td>\n",
       "      <td>0.380349</td>\n",
       "      <td>0.263087</td>\n",
       "      <td>1.366177</td>\n",
       "      <td>52241</td>\n",
       "    </tr>\n",
       "    <tr>\n",
       "      <th>26</th>\n",
       "      <td>0.703070</td>\n",
       "      <td>0.227274</td>\n",
       "      <td>0.730409</td>\n",
       "      <td>0.942882</td>\n",
       "      <td>1.341093</td>\n",
       "      <td>36819</td>\n",
       "    </tr>\n",
       "    <tr>\n",
       "      <th>27</th>\n",
       "      <td>0.026050</td>\n",
       "      <td>0.520589</td>\n",
       "      <td>0.878885</td>\n",
       "      <td>0.026656</td>\n",
       "      <td>1.023247</td>\n",
       "      <td>32890</td>\n",
       "    </tr>\n",
       "    <tr>\n",
       "      <th>28</th>\n",
       "      <td>0.950102</td>\n",
       "      <td>0.342339</td>\n",
       "      <td>0.134541</td>\n",
       "      <td>1.561013</td>\n",
       "      <td>1.642995</td>\n",
       "      <td>32697</td>\n",
       "    </tr>\n",
       "    <tr>\n",
       "      <th>29</th>\n",
       "      <td>0.888678</td>\n",
       "      <td>0.854182</td>\n",
       "      <td>0.153024</td>\n",
       "      <td>0.746118</td>\n",
       "      <td>0.839582</td>\n",
       "      <td>91703</td>\n",
       "    </tr>\n",
       "  </tbody>\n",
       "</table>\n",
       "</div>"
      ],
      "text/plain": [
       "           c         d         e     new_1     new-2  salary\n",
       "0   0.145421  0.067906  0.775623  0.123455  0.848951   51995\n",
       "1   0.612510  0.961231  0.362451  0.558048  0.911084   33283\n",
       "2   0.256163  0.962066  0.183091  0.309436  1.207965   59304\n",
       "3   0.204359  0.833833  0.466838  0.266673  1.304925   99775\n",
       "4   0.749255  0.561176  0.857692  0.497808  0.664404   39472\n",
       "5   0.956979  0.733153  0.385239  0.531687  0.555589   53027\n",
       "6   0.278501  0.810735  0.919550  0.324160  1.163946   34309\n",
       "7   0.066548  0.460698  0.985682  0.055838  0.839055   99322\n",
       "8   0.516986  0.412264  0.872750  0.775080  1.499230   64371\n",
       "9   0.303847  0.864660  0.623777  0.272541  0.896965   30868\n",
       "10  0.082942  0.012275  0.835092  0.053683  0.647230   66661\n",
       "11  0.910039  0.002737  0.893284  1.377710  1.513902   58144\n",
       "12  0.110050  0.901996  0.554892  0.091241  0.829087   92352\n",
       "13  0.396170  0.187070  0.075892  0.655189  1.653809   56380\n",
       "14  0.559005  0.355063  0.760640  0.329960  0.590264   67495\n",
       "15  0.818879  0.137656  0.604027  0.851126  1.039380   55985\n",
       "16  0.401516  0.765589  0.547705  0.715063  1.780907   86279\n",
       "17  0.833138  0.487513  0.152279  1.053018  1.263917   74319\n",
       "18  0.106514  0.699036  0.373498  0.133015  1.248804   49618\n",
       "19  0.683189  0.789805  0.229611  0.833572  1.220119   88640\n",
       "20  0.244867  0.401659  0.653568  0.285102  1.164316   64521\n",
       "21  0.409640  0.368330  0.998272  0.219544  0.535943   43378\n",
       "22  0.351542  0.221020  0.008207  0.228845  0.650975   86794\n",
       "23  0.405903  0.447568  0.007267  0.701419  1.728046   47578\n",
       "24  0.909314  0.901434  0.208681  0.964809  1.061029   78984\n",
       "25  0.192571  0.405287  0.380349  0.263087  1.366177   52241\n",
       "26  0.703070  0.227274  0.730409  0.942882  1.341093   36819\n",
       "27  0.026050  0.520589  0.878885  0.026656  1.023247   32890\n",
       "28  0.950102  0.342339  0.134541  1.561013  1.642995   32697\n",
       "29  0.888678  0.854182  0.153024  0.746118  0.839582   91703"
      ]
     },
     "execution_count": 127,
     "metadata": {},
     "output_type": "execute_result"
    }
   ],
   "source": [
    "table['salary']=np.random.randint(30000,100000,30) #generate 30 integers between 30k and 100k\n",
    "table                                               # create new column name salary"
   ]
  },
  {
   "cell_type": "code",
   "execution_count": 128,
   "metadata": {
    "slideshow": {
     "slide_type": "slide"
    }
   },
   "outputs": [
    {
     "data": {
      "text/html": [
       "<div>\n",
       "<style scoped>\n",
       "    .dataframe tbody tr th:only-of-type {\n",
       "        vertical-align: middle;\n",
       "    }\n",
       "\n",
       "    .dataframe tbody tr th {\n",
       "        vertical-align: top;\n",
       "    }\n",
       "\n",
       "    .dataframe thead th {\n",
       "        text-align: right;\n",
       "    }\n",
       "</style>\n",
       "<table border=\"1\" class=\"dataframe\">\n",
       "  <thead>\n",
       "    <tr style=\"text-align: right;\">\n",
       "      <th></th>\n",
       "      <th>c</th>\n",
       "      <th>d</th>\n",
       "      <th>e</th>\n",
       "      <th>new_1</th>\n",
       "      <th>new-2</th>\n",
       "      <th>salary</th>\n",
       "      <th>gender</th>\n",
       "      <th>size</th>\n",
       "    </tr>\n",
       "  </thead>\n",
       "  <tbody>\n",
       "    <tr>\n",
       "      <th>0</th>\n",
       "      <td>0.145421</td>\n",
       "      <td>0.067906</td>\n",
       "      <td>0.775623</td>\n",
       "      <td>0.123455</td>\n",
       "      <td>0.848951</td>\n",
       "      <td>51995</td>\n",
       "      <td>male</td>\n",
       "      <td>high</td>\n",
       "    </tr>\n",
       "    <tr>\n",
       "      <th>1</th>\n",
       "      <td>0.612510</td>\n",
       "      <td>0.961231</td>\n",
       "      <td>0.362451</td>\n",
       "      <td>0.558048</td>\n",
       "      <td>0.911084</td>\n",
       "      <td>33283</td>\n",
       "      <td>female</td>\n",
       "      <td>high</td>\n",
       "    </tr>\n",
       "    <tr>\n",
       "      <th>2</th>\n",
       "      <td>0.256163</td>\n",
       "      <td>0.962066</td>\n",
       "      <td>0.183091</td>\n",
       "      <td>0.309436</td>\n",
       "      <td>1.207965</td>\n",
       "      <td>59304</td>\n",
       "      <td>female</td>\n",
       "      <td>high</td>\n",
       "    </tr>\n",
       "    <tr>\n",
       "      <th>3</th>\n",
       "      <td>0.204359</td>\n",
       "      <td>0.833833</td>\n",
       "      <td>0.466838</td>\n",
       "      <td>0.266673</td>\n",
       "      <td>1.304925</td>\n",
       "      <td>99775</td>\n",
       "      <td>male</td>\n",
       "      <td>medium</td>\n",
       "    </tr>\n",
       "    <tr>\n",
       "      <th>4</th>\n",
       "      <td>0.749255</td>\n",
       "      <td>0.561176</td>\n",
       "      <td>0.857692</td>\n",
       "      <td>0.497808</td>\n",
       "      <td>0.664404</td>\n",
       "      <td>39472</td>\n",
       "      <td>male</td>\n",
       "      <td>medium</td>\n",
       "    </tr>\n",
       "  </tbody>\n",
       "</table>\n",
       "</div>"
      ],
      "text/plain": [
       "          c         d         e     new_1     new-2  salary  gender    size\n",
       "0  0.145421  0.067906  0.775623  0.123455  0.848951   51995    male    high\n",
       "1  0.612510  0.961231  0.362451  0.558048  0.911084   33283  female    high\n",
       "2  0.256163  0.962066  0.183091  0.309436  1.207965   59304  female    high\n",
       "3  0.204359  0.833833  0.466838  0.266673  1.304925   99775    male  medium\n",
       "4  0.749255  0.561176  0.857692  0.497808  0.664404   39472    male  medium"
      ]
     },
     "execution_count": 128,
     "metadata": {},
     "output_type": "execute_result"
    }
   ],
   "source": [
    "d=np.random.choice(a=['male', 'female'],  size=30 )     #generate 30 random categorical values\n",
    "e=np.random.choice(a=['high','medium','low'],  size=30 ) #generate 30 random categorical values\n",
    "table['gender']=d #create new column assign values from d\n",
    "table['size']=e\n",
    "table.head() #get first five rows"
   ]
  },
  {
   "cell_type": "code",
   "execution_count": 129,
   "metadata": {
    "slideshow": {
     "slide_type": "slide"
    }
   },
   "outputs": [
    {
     "name": "stdout",
     "output_type": "stream",
     "text": [
      "<class 'pandas.core.frame.DataFrame'>\n",
      "RangeIndex: 30 entries, 0 to 29\n",
      "Data columns (total 8 columns):\n",
      "c         30 non-null float64\n",
      "d         30 non-null float64\n",
      "e         30 non-null float64\n",
      "new_1     30 non-null float64\n",
      "new-2     30 non-null float64\n",
      "salary    30 non-null int32\n",
      "gender    30 non-null object\n",
      "size      30 non-null object\n",
      "dtypes: float64(5), int32(1), object(2)\n",
      "memory usage: 1.8+ KB\n"
     ]
    }
   ],
   "source": [
    "table.info() #get info and data types of column values"
   ]
  },
  {
   "cell_type": "code",
   "execution_count": 130,
   "metadata": {
    "slideshow": {
     "slide_type": "slide"
    }
   },
   "outputs": [
    {
     "data": {
      "text/html": [
       "<div>\n",
       "<style scoped>\n",
       "    .dataframe tbody tr th:only-of-type {\n",
       "        vertical-align: middle;\n",
       "    }\n",
       "\n",
       "    .dataframe tbody tr th {\n",
       "        vertical-align: top;\n",
       "    }\n",
       "\n",
       "    .dataframe thead th {\n",
       "        text-align: right;\n",
       "    }\n",
       "</style>\n",
       "<table border=\"1\" class=\"dataframe\">\n",
       "  <thead>\n",
       "    <tr style=\"text-align: right;\">\n",
       "      <th></th>\n",
       "      <th>c</th>\n",
       "      <th>d</th>\n",
       "      <th>e</th>\n",
       "      <th>new_1</th>\n",
       "      <th>new-2</th>\n",
       "      <th>salary</th>\n",
       "      <th>gender</th>\n",
       "      <th>size</th>\n",
       "    </tr>\n",
       "  </thead>\n",
       "  <tbody>\n",
       "    <tr>\n",
       "      <th>count</th>\n",
       "      <td>30.000000</td>\n",
       "      <td>30.000000</td>\n",
       "      <td>30.000000</td>\n",
       "      <td>30.000000</td>\n",
       "      <td>30.000000</td>\n",
       "      <td>30.000000</td>\n",
       "      <td>30</td>\n",
       "      <td>30</td>\n",
       "    </tr>\n",
       "    <tr>\n",
       "      <th>unique</th>\n",
       "      <td>NaN</td>\n",
       "      <td>NaN</td>\n",
       "      <td>NaN</td>\n",
       "      <td>NaN</td>\n",
       "      <td>NaN</td>\n",
       "      <td>NaN</td>\n",
       "      <td>2</td>\n",
       "      <td>3</td>\n",
       "    </tr>\n",
       "    <tr>\n",
       "      <th>top</th>\n",
       "      <td>NaN</td>\n",
       "      <td>NaN</td>\n",
       "      <td>NaN</td>\n",
       "      <td>NaN</td>\n",
       "      <td>NaN</td>\n",
       "      <td>NaN</td>\n",
       "      <td>female</td>\n",
       "      <td>high</td>\n",
       "    </tr>\n",
       "    <tr>\n",
       "      <th>freq</th>\n",
       "      <td>NaN</td>\n",
       "      <td>NaN</td>\n",
       "      <td>NaN</td>\n",
       "      <td>NaN</td>\n",
       "      <td>NaN</td>\n",
       "      <td>NaN</td>\n",
       "      <td>16</td>\n",
       "      <td>12</td>\n",
       "    </tr>\n",
       "    <tr>\n",
       "      <th>mean</th>\n",
       "      <td>0.469125</td>\n",
       "      <td>0.523205</td>\n",
       "      <td>0.520427</td>\n",
       "      <td>0.524926</td>\n",
       "      <td>1.101098</td>\n",
       "      <td>60973.466667</td>\n",
       "      <td>NaN</td>\n",
       "      <td>NaN</td>\n",
       "    </tr>\n",
       "    <tr>\n",
       "      <th>std</th>\n",
       "      <td>0.305591</td>\n",
       "      <td>0.299378</td>\n",
       "      <td>0.318313</td>\n",
       "      <td>0.398380</td>\n",
       "      <td>0.365572</td>\n",
       "      <td>21569.411751</td>\n",
       "      <td>NaN</td>\n",
       "      <td>NaN</td>\n",
       "    </tr>\n",
       "    <tr>\n",
       "      <th>min</th>\n",
       "      <td>0.026050</td>\n",
       "      <td>0.002737</td>\n",
       "      <td>0.007267</td>\n",
       "      <td>0.026656</td>\n",
       "      <td>0.535943</td>\n",
       "      <td>30868.000000</td>\n",
       "      <td>NaN</td>\n",
       "      <td>NaN</td>\n",
       "    </tr>\n",
       "    <tr>\n",
       "      <th>25%</th>\n",
       "      <td>0.214486</td>\n",
       "      <td>0.345520</td>\n",
       "      <td>0.213914</td>\n",
       "      <td>0.237405</td>\n",
       "      <td>0.839187</td>\n",
       "      <td>44428.000000</td>\n",
       "      <td>NaN</td>\n",
       "      <td>NaN</td>\n",
       "    </tr>\n",
       "    <tr>\n",
       "      <th>50%</th>\n",
       "      <td>0.403710</td>\n",
       "      <td>0.474105</td>\n",
       "      <td>0.551298</td>\n",
       "      <td>0.413884</td>\n",
       "      <td>1.112487</td>\n",
       "      <td>57262.000000</td>\n",
       "      <td>NaN</td>\n",
       "      <td>NaN</td>\n",
       "    </tr>\n",
       "    <tr>\n",
       "      <th>75%</th>\n",
       "      <td>0.737709</td>\n",
       "      <td>0.805503</td>\n",
       "      <td>0.820224</td>\n",
       "      <td>0.767840</td>\n",
       "      <td>1.332051</td>\n",
       "      <td>77817.750000</td>\n",
       "      <td>NaN</td>\n",
       "      <td>NaN</td>\n",
       "    </tr>\n",
       "    <tr>\n",
       "      <th>max</th>\n",
       "      <td>0.956979</td>\n",
       "      <td>0.962066</td>\n",
       "      <td>0.998272</td>\n",
       "      <td>1.561013</td>\n",
       "      <td>1.780907</td>\n",
       "      <td>99775.000000</td>\n",
       "      <td>NaN</td>\n",
       "      <td>NaN</td>\n",
       "    </tr>\n",
       "  </tbody>\n",
       "</table>\n",
       "</div>"
      ],
      "text/plain": [
       "                c          d          e      new_1      new-2        salary  \\\n",
       "count   30.000000  30.000000  30.000000  30.000000  30.000000     30.000000   \n",
       "unique        NaN        NaN        NaN        NaN        NaN           NaN   \n",
       "top           NaN        NaN        NaN        NaN        NaN           NaN   \n",
       "freq          NaN        NaN        NaN        NaN        NaN           NaN   \n",
       "mean     0.469125   0.523205   0.520427   0.524926   1.101098  60973.466667   \n",
       "std      0.305591   0.299378   0.318313   0.398380   0.365572  21569.411751   \n",
       "min      0.026050   0.002737   0.007267   0.026656   0.535943  30868.000000   \n",
       "25%      0.214486   0.345520   0.213914   0.237405   0.839187  44428.000000   \n",
       "50%      0.403710   0.474105   0.551298   0.413884   1.112487  57262.000000   \n",
       "75%      0.737709   0.805503   0.820224   0.767840   1.332051  77817.750000   \n",
       "max      0.956979   0.962066   0.998272   1.561013   1.780907  99775.000000   \n",
       "\n",
       "        gender  size  \n",
       "count       30    30  \n",
       "unique       2     3  \n",
       "top     female  high  \n",
       "freq        16    12  \n",
       "mean       NaN   NaN  \n",
       "std        NaN   NaN  \n",
       "min        NaN   NaN  \n",
       "25%        NaN   NaN  \n",
       "50%        NaN   NaN  \n",
       "75%        NaN   NaN  \n",
       "max        NaN   NaN  "
      ]
     },
     "execution_count": 130,
     "metadata": {},
     "output_type": "execute_result"
    }
   ],
   "source": [
    "table.describe(include='all') #Gives stats description of columns"
   ]
  },
  {
   "cell_type": "code",
   "execution_count": 131,
   "metadata": {},
   "outputs": [],
   "source": [
    "### plotting size column in pie chart"
   ]
  },
  {
   "cell_type": "code",
   "execution_count": 132,
   "metadata": {
    "slideshow": {
     "slide_type": "slide"
    }
   },
   "outputs": [
    {
     "data": {
      "text/plain": [
       "<matplotlib.axes._subplots.AxesSubplot at 0x28e3fe3bb38>"
      ]
     },
     "execution_count": 132,
     "metadata": {},
     "output_type": "execute_result"
    },
    {
     "data": {
      "image/png": "[encoded data removed]",
      "text/plain": [
       "<Figure size 720x576 with 1 Axes>"
      ]
     },
     "metadata": {},
     "output_type": "display_data"
    }
   ],
   "source": [
    "table['size'].value_counts().plot(kind='pie',figsize=(10,8),explode=[0.10,0,0])"
   ]
  },
  {
   "cell_type": "code",
   "execution_count": 133,
   "metadata": {
    "slideshow": {
     "slide_type": "slide"
    }
   },
   "outputs": [
    {
     "name": "stdout",
     "output_type": "stream",
     "text": [
      "99322\n",
      "99775\n"
     ]
    }
   ],
   "source": [
    "#filter out female\n",
    "table2=table[table['gender']=='female']\n",
    "print(table2['salary'].max()) #look who gets maximum salary\n",
    "\n",
    "# filter out male \n",
    "table3=table[table['gender']=='male']\n",
    "print(table3['salary'].max()) #look who gets maximum salary\n"
   ]
  },
  {
   "cell_type": "markdown",
   "metadata": {},
   "source": [
    "##### Extract male female employees earning maximum salaries"
   ]
  },
  {
   "cell_type": "code",
   "execution_count": 138,
   "metadata": {},
   "outputs": [
    {
     "data": {
      "text/html": [
       "<div>\n",
       "<style scoped>\n",
       "    .dataframe tbody tr th:only-of-type {\n",
       "        vertical-align: middle;\n",
       "    }\n",
       "\n",
       "    .dataframe tbody tr th {\n",
       "        vertical-align: top;\n",
       "    }\n",
       "\n",
       "    .dataframe thead th {\n",
       "        text-align: right;\n",
       "    }\n",
       "</style>\n",
       "<table border=\"1\" class=\"dataframe\">\n",
       "  <thead>\n",
       "    <tr style=\"text-align: right;\">\n",
       "      <th></th>\n",
       "      <th>c</th>\n",
       "      <th>d</th>\n",
       "      <th>e</th>\n",
       "      <th>new_1</th>\n",
       "      <th>new-2</th>\n",
       "      <th>salary</th>\n",
       "      <th>gender</th>\n",
       "      <th>size</th>\n",
       "    </tr>\n",
       "  </thead>\n",
       "  <tbody>\n",
       "    <tr>\n",
       "      <th>3</th>\n",
       "      <td>0.204359</td>\n",
       "      <td>0.833833</td>\n",
       "      <td>0.466838</td>\n",
       "      <td>0.266673</td>\n",
       "      <td>1.304925</td>\n",
       "      <td>99775</td>\n",
       "      <td>male</td>\n",
       "      <td>medium</td>\n",
       "    </tr>\n",
       "    <tr>\n",
       "      <th>7</th>\n",
       "      <td>0.066548</td>\n",
       "      <td>0.460698</td>\n",
       "      <td>0.985682</td>\n",
       "      <td>0.055838</td>\n",
       "      <td>0.839055</td>\n",
       "      <td>99322</td>\n",
       "      <td>female</td>\n",
       "      <td>low</td>\n",
       "    </tr>\n",
       "  </tbody>\n",
       "</table>\n",
       "</div>"
      ],
      "text/plain": [
       "          c         d         e     new_1     new-2  salary  gender    size\n",
       "3  0.204359  0.833833  0.466838  0.266673  1.304925   99775    male  medium\n",
       "7  0.066548  0.460698  0.985682  0.055838  0.839055   99322  female     low"
      ]
     },
     "execution_count": 138,
     "metadata": {},
     "output_type": "execute_result"
    }
   ],
   "source": [
    "table[(table['salary']==99322) | (table['salary']==99775)] # "
   ]
  },
  {
   "cell_type": "code",
   "execution_count": 139,
   "metadata": {
    "slideshow": {
     "slide_type": "slide"
    }
   },
   "outputs": [
    {
     "data": {
      "text/html": [
       "<div>\n",
       "<style scoped>\n",
       "    .dataframe tbody tr th:only-of-type {\n",
       "        vertical-align: middle;\n",
       "    }\n",
       "\n",
       "    .dataframe tbody tr th {\n",
       "        vertical-align: top;\n",
       "    }\n",
       "\n",
       "    .dataframe thead th {\n",
       "        text-align: right;\n",
       "    }\n",
       "</style>\n",
       "<table border=\"1\" class=\"dataframe\">\n",
       "  <thead>\n",
       "    <tr style=\"text-align: right;\">\n",
       "      <th></th>\n",
       "      <th>c</th>\n",
       "      <th>d</th>\n",
       "      <th>e</th>\n",
       "      <th>new_1</th>\n",
       "      <th>new-2</th>\n",
       "      <th>salary</th>\n",
       "      <th>gender</th>\n",
       "      <th>size</th>\n",
       "    </tr>\n",
       "  </thead>\n",
       "  <tbody>\n",
       "    <tr>\n",
       "      <th>3</th>\n",
       "      <td>0.204359</td>\n",
       "      <td>0.833833</td>\n",
       "      <td>0.466838</td>\n",
       "      <td>0.266673</td>\n",
       "      <td>1.304925</td>\n",
       "      <td>99775</td>\n",
       "      <td>male</td>\n",
       "      <td>medium</td>\n",
       "    </tr>\n",
       "    <tr>\n",
       "      <th>12</th>\n",
       "      <td>0.110050</td>\n",
       "      <td>0.901996</td>\n",
       "      <td>0.554892</td>\n",
       "      <td>0.091241</td>\n",
       "      <td>0.829087</td>\n",
       "      <td>92352</td>\n",
       "      <td>male</td>\n",
       "      <td>medium</td>\n",
       "    </tr>\n",
       "    <tr>\n",
       "      <th>24</th>\n",
       "      <td>0.909314</td>\n",
       "      <td>0.901434</td>\n",
       "      <td>0.208681</td>\n",
       "      <td>0.964809</td>\n",
       "      <td>1.061029</td>\n",
       "      <td>78984</td>\n",
       "      <td>male</td>\n",
       "      <td>high</td>\n",
       "    </tr>\n",
       "    <tr>\n",
       "      <th>29</th>\n",
       "      <td>0.888678</td>\n",
       "      <td>0.854182</td>\n",
       "      <td>0.153024</td>\n",
       "      <td>0.746118</td>\n",
       "      <td>0.839582</td>\n",
       "      <td>91703</td>\n",
       "      <td>male</td>\n",
       "      <td>low</td>\n",
       "    </tr>\n",
       "  </tbody>\n",
       "</table>\n",
       "</div>"
      ],
      "text/plain": [
       "           c         d         e     new_1     new-2  salary gender    size\n",
       "3   0.204359  0.833833  0.466838  0.266673  1.304925   99775   male  medium\n",
       "12  0.110050  0.901996  0.554892  0.091241  0.829087   92352   male  medium\n",
       "24  0.909314  0.901434  0.208681  0.964809  1.061029   78984   male    high\n",
       "29  0.888678  0.854182  0.153024  0.746118  0.839582   91703   male     low"
      ]
     },
     "execution_count": 139,
     "metadata": {},
     "output_type": "execute_result"
    }
   ],
   "source": [
    "#filter by salary male female earning greater than certain amount\n",
    "table[(table['gender']=='male') & (table['salary']>70000)]"
   ]
  },
  {
   "cell_type": "code",
   "execution_count": null,
   "metadata": {},
   "outputs": [],
   "source": []
  }
 ],
 "metadata": {
  "celltoolbar": "Slideshow",
  "kernelspec": {
   "display_name": "Python 3",
   "language": "python",
   "name": "python3"
  },
  "language_info": {
   "codemirror_mode": {
    "name": "ipython",
    "version": 3
   },
   "file_extension": ".py",
   "mimetype": "text/x-python",
   "name": "python",
   "nbconvert_exporter": "python",
   "pygments_lexer": "ipython3",
   "version": "3.8.5"
  }
 },
 "nbformat": 4,
 "nbformat_minor": 2
}
