{
 "cells": [
  {
   "cell_type": "markdown",
   "metadata": {},
   "source": [
    "Objectives\n",
    "1. Data Preprocessing\n",
    "2. Data Cleaning\n",
    "3. Data Normalization\n",
    " "
   ]
  },
  {
   "cell_type": "code",
   "execution_count": 1,
   "metadata": {},
   "outputs": [],
   "source": [
    "import pandas as pd\n",
    "import numpy as np\n"
   ]
  },
  {
   "cell_type": "code",
   "execution_count": 127,
   "metadata": {},
   "outputs": [
    {
     "data": {
      "text/html": [
       "<div>\n",
       "<style scoped>\n",
       "    .dataframe tbody tr th:only-of-type {\n",
       "        vertical-align: middle;\n",
       "    }\n",
       "\n",
       "    .dataframe tbody tr th {\n",
       "        vertical-align: top;\n",
       "    }\n",
       "\n",
       "    .dataframe thead th {\n",
       "        text-align: right;\n",
       "    }\n",
       "</style>\n",
       "<table border=\"1\" class=\"dataframe\">\n",
       "  <thead>\n",
       "    <tr style=\"text-align: right;\">\n",
       "      <th></th>\n",
       "      <th>a</th>\n",
       "      <th>b</th>\n",
       "    </tr>\n",
       "  </thead>\n",
       "  <tbody>\n",
       "    <tr>\n",
       "      <th>0</th>\n",
       "      <td>9247</td>\n",
       "      <td>1675</td>\n",
       "    </tr>\n",
       "    <tr>\n",
       "      <th>1</th>\n",
       "      <td>3685</td>\n",
       "      <td>1771</td>\n",
       "    </tr>\n",
       "    <tr>\n",
       "      <th>2</th>\n",
       "      <td>2711</td>\n",
       "      <td>113</td>\n",
       "    </tr>\n",
       "    <tr>\n",
       "      <th>3</th>\n",
       "      <td>6000</td>\n",
       "      <td>7921</td>\n",
       "    </tr>\n",
       "    <tr>\n",
       "      <th>4</th>\n",
       "      <td>309</td>\n",
       "      <td>8035</td>\n",
       "    </tr>\n",
       "    <tr>\n",
       "      <th>5</th>\n",
       "      <td>656</td>\n",
       "      <td>7895</td>\n",
       "    </tr>\n",
       "    <tr>\n",
       "      <th>6</th>\n",
       "      <td>7528</td>\n",
       "      <td>802</td>\n",
       "    </tr>\n",
       "    <tr>\n",
       "      <th>7</th>\n",
       "      <td>7746</td>\n",
       "      <td>2845</td>\n",
       "    </tr>\n",
       "    <tr>\n",
       "      <th>8</th>\n",
       "      <td>5015</td>\n",
       "      <td>4007</td>\n",
       "    </tr>\n",
       "    <tr>\n",
       "      <th>9</th>\n",
       "      <td>1782</td>\n",
       "      <td>333</td>\n",
       "    </tr>\n",
       "  </tbody>\n",
       "</table>\n",
       "</div>"
      ],
      "text/plain": [
       "      a     b\n",
       "0  9247  1675\n",
       "1  3685  1771\n",
       "2  2711   113\n",
       "3  6000  7921\n",
       "4   309  8035\n",
       "5   656  7895\n",
       "6  7528   802\n",
       "7  7746  2845\n",
       "8  5015  4007\n",
       "9  1782   333"
      ]
     },
     "execution_count": 127,
     "metadata": {},
     "output_type": "execute_result"
    }
   ],
   "source": [
    "# Create random dataframe\n",
    "df=pd.DataFrame({'a':np.random.randint(10,10000,10),'b':np.random.randint(10,10000,10)})\n",
    "df"
   ]
  },
  {
   "cell_type": "code",
   "execution_count": 126,
   "metadata": {},
   "outputs": [
    {
     "data": {
      "text/plain": [
       "7610.5"
      ]
     },
     "execution_count": 126,
     "metadata": {},
     "output_type": "execute_result"
    }
   ],
   "source": [
    "# Simple manhattan distance between two observations\n",
    "a=df.iloc[5:6,:].values\n",
    "b=df.iloc[8:9,:].values\n",
    "\n",
    "abs(a-b).sum()\n"
   ]
  },
  {
   "cell_type": "code",
   "execution_count": 128,
   "metadata": {},
   "outputs": [],
   "source": [
    "# library for getting distance matrix for entire data\n",
    "from sklearn.metrics import pairwise_distances\n",
    "X_precomputed = pairwise_distances(df, metric='euclidean')"
   ]
  },
  {
   "cell_type": "code",
   "execution_count": 81,
   "metadata": {},
   "outputs": [
    {
     "data": {
      "text/html": [
       "<div>\n",
       "<style scoped>\n",
       "    .dataframe tbody tr th:only-of-type {\n",
       "        vertical-align: middle;\n",
       "    }\n",
       "\n",
       "    .dataframe tbody tr th {\n",
       "        vertical-align: top;\n",
       "    }\n",
       "\n",
       "    .dataframe thead th {\n",
       "        text-align: right;\n",
       "    }\n",
       "</style>\n",
       "<table border=\"1\" class=\"dataframe\">\n",
       "  <thead>\n",
       "    <tr style=\"text-align: right;\">\n",
       "      <th></th>\n",
       "      <th>a</th>\n",
       "      <th>b</th>\n",
       "    </tr>\n",
       "  </thead>\n",
       "  <tbody>\n",
       "    <tr>\n",
       "      <th>0</th>\n",
       "      <td>1670</td>\n",
       "      <td>1467</td>\n",
       "    </tr>\n",
       "    <tr>\n",
       "      <th>1</th>\n",
       "      <td>3991</td>\n",
       "      <td>5965</td>\n",
       "    </tr>\n",
       "    <tr>\n",
       "      <th>2</th>\n",
       "      <td>1775</td>\n",
       "      <td>7350</td>\n",
       "    </tr>\n",
       "    <tr>\n",
       "      <th>3</th>\n",
       "      <td>6899</td>\n",
       "      <td>5708</td>\n",
       "    </tr>\n",
       "    <tr>\n",
       "      <th>4</th>\n",
       "      <td>965</td>\n",
       "      <td>4298</td>\n",
       "    </tr>\n",
       "  </tbody>\n",
       "</table>\n",
       "</div>"
      ],
      "text/plain": [
       "      a     b\n",
       "0  1670  1467\n",
       "1  3991  5965\n",
       "2  1775  7350\n",
       "3  6899  5708\n",
       "4   965  4298"
      ]
     },
     "execution_count": 81,
     "metadata": {},
     "output_type": "execute_result"
    }
   ],
   "source": [
    "df.head()"
   ]
  },
  {
   "cell_type": "code",
   "execution_count": 82,
   "metadata": {},
   "outputs": [
    {
     "data": {
      "text/html": [
       "<div>\n",
       "<style scoped>\n",
       "    .dataframe tbody tr th:only-of-type {\n",
       "        vertical-align: middle;\n",
       "    }\n",
       "\n",
       "    .dataframe tbody tr th {\n",
       "        vertical-align: top;\n",
       "    }\n",
       "\n",
       "    .dataframe thead th {\n",
       "        text-align: right;\n",
       "    }\n",
       "</style>\n",
       "<table border=\"1\" class=\"dataframe\">\n",
       "  <thead>\n",
       "    <tr style=\"text-align: right;\">\n",
       "      <th></th>\n",
       "      <th>0</th>\n",
       "      <th>1</th>\n",
       "      <th>2</th>\n",
       "      <th>3</th>\n",
       "      <th>4</th>\n",
       "      <th>5</th>\n",
       "      <th>6</th>\n",
       "      <th>7</th>\n",
       "      <th>8</th>\n",
       "      <th>9</th>\n",
       "    </tr>\n",
       "  </thead>\n",
       "  <tbody>\n",
       "    <tr>\n",
       "      <th>0</th>\n",
       "      <td>0.000000</td>\n",
       "      <td>5061.525956</td>\n",
       "      <td>5883.936947</td>\n",
       "      <td>6732.645988</td>\n",
       "      <td>2917.462253</td>\n",
       "      <td>5104.739464</td>\n",
       "      <td>11547.518695</td>\n",
       "      <td>2019.041852</td>\n",
       "      <td>6746.760556</td>\n",
       "      <td>10172.594605</td>\n",
       "    </tr>\n",
       "    <tr>\n",
       "      <th>1</th>\n",
       "      <td>5061.525956</td>\n",
       "      <td>0.000000</td>\n",
       "      <td>2613.212774</td>\n",
       "      <td>2919.334342</td>\n",
       "      <td>3454.788706</td>\n",
       "      <td>5581.067998</td>\n",
       "      <td>6840.190714</td>\n",
       "      <td>4907.391262</td>\n",
       "      <td>2788.064741</td>\n",
       "      <td>6002.041153</td>\n",
       "    </tr>\n",
       "    <tr>\n",
       "      <th>2</th>\n",
       "      <td>5883.936947</td>\n",
       "      <td>2613.212774</td>\n",
       "      <td>0.000000</td>\n",
       "      <td>5380.663528</td>\n",
       "      <td>3157.657993</td>\n",
       "      <td>7980.011591</td>\n",
       "      <td>8243.324208</td>\n",
       "      <td>4767.994966</td>\n",
       "      <td>987.086622</td>\n",
       "      <td>7984.341238</td>\n",
       "    </tr>\n",
       "    <tr>\n",
       "      <th>3</th>\n",
       "      <td>6732.645988</td>\n",
       "      <td>2919.334342</td>\n",
       "      <td>5380.663528</td>\n",
       "      <td>0.000000</td>\n",
       "      <td>6099.217655</td>\n",
       "      <td>4589.015690</td>\n",
       "      <td>4944.877147</td>\n",
       "      <td>7284.103514</td>\n",
       "      <td>5220.516450</td>\n",
       "      <td>3448.388174</td>\n",
       "    </tr>\n",
       "    <tr>\n",
       "      <th>4</th>\n",
       "      <td>2917.462253</td>\n",
       "      <td>3454.788706</td>\n",
       "      <td>3157.657993</td>\n",
       "      <td>6099.217655</td>\n",
       "      <td>0.000000</td>\n",
       "      <td>6611.363929</td>\n",
       "      <td>10284.389044</td>\n",
       "      <td>1638.126979</td>\n",
       "      <td>4109.895376</td>\n",
       "      <td>9403.661893</td>\n",
       "    </tr>\n",
       "    <tr>\n",
       "      <th>5</th>\n",
       "      <td>5104.739464</td>\n",
       "      <td>5581.067998</td>\n",
       "      <td>7980.011591</td>\n",
       "      <td>4589.015690</td>\n",
       "      <td>6611.363929</td>\n",
       "      <td>0.000000</td>\n",
       "      <td>9166.528296</td>\n",
       "      <td>6787.896360</td>\n",
       "      <td>8353.296894</td>\n",
       "      <td>7174.226230</td>\n",
       "    </tr>\n",
       "    <tr>\n",
       "      <th>6</th>\n",
       "      <td>11547.518695</td>\n",
       "      <td>6840.190714</td>\n",
       "      <td>8243.324208</td>\n",
       "      <td>4944.877147</td>\n",
       "      <td>10284.389044</td>\n",
       "      <td>9166.528296</td>\n",
       "      <td>0.000000</td>\n",
       "      <td>11736.496326</td>\n",
       "      <td>7516.322638</td>\n",
       "      <td>2186.079825</td>\n",
       "    </tr>\n",
       "    <tr>\n",
       "      <th>7</th>\n",
       "      <td>2019.041852</td>\n",
       "      <td>4907.391262</td>\n",
       "      <td>4767.994966</td>\n",
       "      <td>7284.103514</td>\n",
       "      <td>1638.126979</td>\n",
       "      <td>6787.896360</td>\n",
       "      <td>11736.496326</td>\n",
       "      <td>0.000000</td>\n",
       "      <td>5733.966515</td>\n",
       "      <td>10689.307227</td>\n",
       "    </tr>\n",
       "    <tr>\n",
       "      <th>8</th>\n",
       "      <td>6746.760556</td>\n",
       "      <td>2788.064741</td>\n",
       "      <td>987.086622</td>\n",
       "      <td>5220.516450</td>\n",
       "      <td>4109.895376</td>\n",
       "      <td>8353.296894</td>\n",
       "      <td>7516.322638</td>\n",
       "      <td>5733.966515</td>\n",
       "      <td>0.000000</td>\n",
       "      <td>7470.687050</td>\n",
       "    </tr>\n",
       "    <tr>\n",
       "      <th>9</th>\n",
       "      <td>10172.594605</td>\n",
       "      <td>6002.041153</td>\n",
       "      <td>7984.341238</td>\n",
       "      <td>3448.388174</td>\n",
       "      <td>9403.661893</td>\n",
       "      <td>7174.226230</td>\n",
       "      <td>2186.079825</td>\n",
       "      <td>10689.307227</td>\n",
       "      <td>7470.687050</td>\n",
       "      <td>0.000000</td>\n",
       "    </tr>\n",
       "  </tbody>\n",
       "</table>\n",
       "</div>"
      ],
      "text/plain": [
       "              0            1            2            3             4  \\\n",
       "0      0.000000  5061.525956  5883.936947  6732.645988   2917.462253   \n",
       "1   5061.525956     0.000000  2613.212774  2919.334342   3454.788706   \n",
       "2   5883.936947  2613.212774     0.000000  5380.663528   3157.657993   \n",
       "3   6732.645988  2919.334342  5380.663528     0.000000   6099.217655   \n",
       "4   2917.462253  3454.788706  3157.657993  6099.217655      0.000000   \n",
       "5   5104.739464  5581.067998  7980.011591  4589.015690   6611.363929   \n",
       "6  11547.518695  6840.190714  8243.324208  4944.877147  10284.389044   \n",
       "7   2019.041852  4907.391262  4767.994966  7284.103514   1638.126979   \n",
       "8   6746.760556  2788.064741   987.086622  5220.516450   4109.895376   \n",
       "9  10172.594605  6002.041153  7984.341238  3448.388174   9403.661893   \n",
       "\n",
       "             5             6             7            8             9  \n",
       "0  5104.739464  11547.518695   2019.041852  6746.760556  10172.594605  \n",
       "1  5581.067998   6840.190714   4907.391262  2788.064741   6002.041153  \n",
       "2  7980.011591   8243.324208   4767.994966   987.086622   7984.341238  \n",
       "3  4589.015690   4944.877147   7284.103514  5220.516450   3448.388174  \n",
       "4  6611.363929  10284.389044   1638.126979  4109.895376   9403.661893  \n",
       "5     0.000000   9166.528296   6787.896360  8353.296894   7174.226230  \n",
       "6  9166.528296      0.000000  11736.496326  7516.322638   2186.079825  \n",
       "7  6787.896360  11736.496326      0.000000  5733.966515  10689.307227  \n",
       "8  8353.296894   7516.322638   5733.966515     0.000000   7470.687050  \n",
       "9  7174.226230   2186.079825  10689.307227  7470.687050      0.000000  "
      ]
     },
     "execution_count": 82,
     "metadata": {},
     "output_type": "execute_result"
    }
   ],
   "source": [
    "df2=pd.DataFrame(X_precomputed)\n",
    "df2\n"
   ]
  },
  {
   "cell_type": "code",
   "execution_count": 84,
   "metadata": {},
   "outputs": [
    {
     "data": {
      "text/html": [
       "<div>\n",
       "<style scoped>\n",
       "    .dataframe tbody tr th:only-of-type {\n",
       "        vertical-align: middle;\n",
       "    }\n",
       "\n",
       "    .dataframe tbody tr th {\n",
       "        vertical-align: top;\n",
       "    }\n",
       "\n",
       "    .dataframe thead th {\n",
       "        text-align: right;\n",
       "    }\n",
       "</style>\n",
       "<table border=\"1\" class=\"dataframe\">\n",
       "  <thead>\n",
       "    <tr style=\"text-align: right;\">\n",
       "      <th></th>\n",
       "      <th>0</th>\n",
       "      <th>1</th>\n",
       "      <th>2</th>\n",
       "      <th>3</th>\n",
       "      <th>4</th>\n",
       "      <th>5</th>\n",
       "      <th>6</th>\n",
       "      <th>7</th>\n",
       "      <th>8</th>\n",
       "      <th>9</th>\n",
       "    </tr>\n",
       "  </thead>\n",
       "  <tbody>\n",
       "    <tr>\n",
       "      <th>0</th>\n",
       "      <td>0.0</td>\n",
       "      <td>6819.0</td>\n",
       "      <td>5988.0</td>\n",
       "      <td>9470.0</td>\n",
       "      <td>3536.0</td>\n",
       "      <td>5439.0</td>\n",
       "      <td>16326.0</td>\n",
       "      <td>2854.0</td>\n",
       "      <td>7350.0</td>\n",
       "      <td>14259.0</td>\n",
       "    </tr>\n",
       "    <tr>\n",
       "      <th>1</th>\n",
       "      <td>6819.0</td>\n",
       "      <td>0.0</td>\n",
       "      <td>3601.0</td>\n",
       "      <td>3165.0</td>\n",
       "      <td>4693.0</td>\n",
       "      <td>7616.0</td>\n",
       "      <td>9507.0</td>\n",
       "      <td>6907.0</td>\n",
       "      <td>3907.0</td>\n",
       "      <td>7440.0</td>\n",
       "    </tr>\n",
       "    <tr>\n",
       "      <th>2</th>\n",
       "      <td>5988.0</td>\n",
       "      <td>3601.0</td>\n",
       "      <td>0.0</td>\n",
       "      <td>6766.0</td>\n",
       "      <td>3862.0</td>\n",
       "      <td>11217.0</td>\n",
       "      <td>10338.0</td>\n",
       "      <td>6076.0</td>\n",
       "      <td>1362.0</td>\n",
       "      <td>8271.0</td>\n",
       "    </tr>\n",
       "    <tr>\n",
       "      <th>3</th>\n",
       "      <td>9470.0</td>\n",
       "      <td>3165.0</td>\n",
       "      <td>6766.0</td>\n",
       "      <td>0.0</td>\n",
       "      <td>7344.0</td>\n",
       "      <td>4723.0</td>\n",
       "      <td>6856.0</td>\n",
       "      <td>9558.0</td>\n",
       "      <td>7072.0</td>\n",
       "      <td>4789.0</td>\n",
       "    </tr>\n",
       "    <tr>\n",
       "      <th>4</th>\n",
       "      <td>3536.0</td>\n",
       "      <td>4693.0</td>\n",
       "      <td>3862.0</td>\n",
       "      <td>7344.0</td>\n",
       "      <td>0.0</td>\n",
       "      <td>8975.0</td>\n",
       "      <td>14200.0</td>\n",
       "      <td>2214.0</td>\n",
       "      <td>5224.0</td>\n",
       "      <td>12133.0</td>\n",
       "    </tr>\n",
       "    <tr>\n",
       "      <th>5</th>\n",
       "      <td>5439.0</td>\n",
       "      <td>7616.0</td>\n",
       "      <td>11217.0</td>\n",
       "      <td>4723.0</td>\n",
       "      <td>8975.0</td>\n",
       "      <td>0.0</td>\n",
       "      <td>11579.0</td>\n",
       "      <td>8293.0</td>\n",
       "      <td>11523.0</td>\n",
       "      <td>9512.0</td>\n",
       "    </tr>\n",
       "    <tr>\n",
       "      <th>6</th>\n",
       "      <td>16326.0</td>\n",
       "      <td>9507.0</td>\n",
       "      <td>10338.0</td>\n",
       "      <td>6856.0</td>\n",
       "      <td>14200.0</td>\n",
       "      <td>11579.0</td>\n",
       "      <td>0.0</td>\n",
       "      <td>16414.0</td>\n",
       "      <td>8976.0</td>\n",
       "      <td>2299.0</td>\n",
       "    </tr>\n",
       "    <tr>\n",
       "      <th>7</th>\n",
       "      <td>2854.0</td>\n",
       "      <td>6907.0</td>\n",
       "      <td>6076.0</td>\n",
       "      <td>9558.0</td>\n",
       "      <td>2214.0</td>\n",
       "      <td>8293.0</td>\n",
       "      <td>16414.0</td>\n",
       "      <td>0.0</td>\n",
       "      <td>7438.0</td>\n",
       "      <td>14347.0</td>\n",
       "    </tr>\n",
       "    <tr>\n",
       "      <th>8</th>\n",
       "      <td>7350.0</td>\n",
       "      <td>3907.0</td>\n",
       "      <td>1362.0</td>\n",
       "      <td>7072.0</td>\n",
       "      <td>5224.0</td>\n",
       "      <td>11523.0</td>\n",
       "      <td>8976.0</td>\n",
       "      <td>7438.0</td>\n",
       "      <td>0.0</td>\n",
       "      <td>7993.0</td>\n",
       "    </tr>\n",
       "    <tr>\n",
       "      <th>9</th>\n",
       "      <td>14259.0</td>\n",
       "      <td>7440.0</td>\n",
       "      <td>8271.0</td>\n",
       "      <td>4789.0</td>\n",
       "      <td>12133.0</td>\n",
       "      <td>9512.0</td>\n",
       "      <td>2299.0</td>\n",
       "      <td>14347.0</td>\n",
       "      <td>7993.0</td>\n",
       "      <td>0.0</td>\n",
       "    </tr>\n",
       "  </tbody>\n",
       "</table>\n",
       "</div>"
      ],
      "text/plain": [
       "         0       1        2       3        4        5        6        7  \\\n",
       "0      0.0  6819.0   5988.0  9470.0   3536.0   5439.0  16326.0   2854.0   \n",
       "1   6819.0     0.0   3601.0  3165.0   4693.0   7616.0   9507.0   6907.0   \n",
       "2   5988.0  3601.0      0.0  6766.0   3862.0  11217.0  10338.0   6076.0   \n",
       "3   9470.0  3165.0   6766.0     0.0   7344.0   4723.0   6856.0   9558.0   \n",
       "4   3536.0  4693.0   3862.0  7344.0      0.0   8975.0  14200.0   2214.0   \n",
       "5   5439.0  7616.0  11217.0  4723.0   8975.0      0.0  11579.0   8293.0   \n",
       "6  16326.0  9507.0  10338.0  6856.0  14200.0  11579.0      0.0  16414.0   \n",
       "7   2854.0  6907.0   6076.0  9558.0   2214.0   8293.0  16414.0      0.0   \n",
       "8   7350.0  3907.0   1362.0  7072.0   5224.0  11523.0   8976.0   7438.0   \n",
       "9  14259.0  7440.0   8271.0  4789.0  12133.0   9512.0   2299.0  14347.0   \n",
       "\n",
       "         8        9  \n",
       "0   7350.0  14259.0  \n",
       "1   3907.0   7440.0  \n",
       "2   1362.0   8271.0  \n",
       "3   7072.0   4789.0  \n",
       "4   5224.0  12133.0  \n",
       "5  11523.0   9512.0  \n",
       "6   8976.0   2299.0  \n",
       "7   7438.0  14347.0  \n",
       "8      0.0   7993.0  \n",
       "9   7993.0      0.0  "
      ]
     },
     "execution_count": 84,
     "metadata": {},
     "output_type": "execute_result"
    }
   ],
   "source": [
    "X_precomputed2 = pairwise_distances(df, metric='manhattan')\n",
    "df3=pd.DataFrame(X_precomputed2)\n",
    "df3"
   ]
  },
  {
   "cell_type": "markdown",
   "metadata": {},
   "source": [
    "#### above matrix shows distance from every single sample(observation ) against all observations\n",
    "#### for instance for the point number 7 the closest observation is row number 4, because they have smallest distance from each other"
   ]
  },
  {
   "cell_type": "code",
   "execution_count": 86,
   "metadata": {},
   "outputs": [
    {
     "data": {
      "text/plain": [
       "a    False\n",
       "b    False\n",
       "dtype: bool"
      ]
     },
     "execution_count": 86,
     "metadata": {},
     "output_type": "execute_result"
    }
   ],
   "source": [
    "#check for missing values\n",
    "df.isnull().any() "
   ]
  },
  {
   "cell_type": "code",
   "execution_count": 129,
   "metadata": {},
   "outputs": [],
   "source": [
    "#assigining nan values manually"
   ]
  },
  {
   "cell_type": "code",
   "execution_count": 137,
   "metadata": {},
   "outputs": [
    {
     "data": {
      "text/html": [
       "<div>\n",
       "<style scoped>\n",
       "    .dataframe tbody tr th:only-of-type {\n",
       "        vertical-align: middle;\n",
       "    }\n",
       "\n",
       "    .dataframe tbody tr th {\n",
       "        vertical-align: top;\n",
       "    }\n",
       "\n",
       "    .dataframe thead th {\n",
       "        text-align: right;\n",
       "    }\n",
       "</style>\n",
       "<table border=\"1\" class=\"dataframe\">\n",
       "  <thead>\n",
       "    <tr style=\"text-align: right;\">\n",
       "      <th></th>\n",
       "      <th>a</th>\n",
       "      <th>b</th>\n",
       "    </tr>\n",
       "  </thead>\n",
       "  <tbody>\n",
       "    <tr>\n",
       "      <th>0</th>\n",
       "      <td>9247</td>\n",
       "      <td>NaN</td>\n",
       "    </tr>\n",
       "    <tr>\n",
       "      <th>1</th>\n",
       "      <td>3685</td>\n",
       "      <td>1771.0</td>\n",
       "    </tr>\n",
       "    <tr>\n",
       "      <th>2</th>\n",
       "      <td>2711</td>\n",
       "      <td>113.0</td>\n",
       "    </tr>\n",
       "    <tr>\n",
       "      <th>3</th>\n",
       "      <td>6000</td>\n",
       "      <td>NaN</td>\n",
       "    </tr>\n",
       "    <tr>\n",
       "      <th>4</th>\n",
       "      <td>309</td>\n",
       "      <td>8035.0</td>\n",
       "    </tr>\n",
       "    <tr>\n",
       "      <th>5</th>\n",
       "      <td>656</td>\n",
       "      <td>NaN</td>\n",
       "    </tr>\n",
       "    <tr>\n",
       "      <th>6</th>\n",
       "      <td>7528</td>\n",
       "      <td>NaN</td>\n",
       "    </tr>\n",
       "    <tr>\n",
       "      <th>7</th>\n",
       "      <td>7746</td>\n",
       "      <td>2845.0</td>\n",
       "    </tr>\n",
       "    <tr>\n",
       "      <th>8</th>\n",
       "      <td>5015</td>\n",
       "      <td>4007.0</td>\n",
       "    </tr>\n",
       "    <tr>\n",
       "      <th>9</th>\n",
       "      <td>1782</td>\n",
       "      <td>NaN</td>\n",
       "    </tr>\n",
       "  </tbody>\n",
       "</table>\n",
       "</div>"
      ],
      "text/plain": [
       "      a       b\n",
       "0  9247     NaN\n",
       "1  3685  1771.0\n",
       "2  2711   113.0\n",
       "3  6000     NaN\n",
       "4   309  8035.0\n",
       "5   656     NaN\n",
       "6  7528     NaN\n",
       "7  7746  2845.0\n",
       "8  5015  4007.0\n",
       "9  1782     NaN"
      ]
     },
     "execution_count": 137,
     "metadata": {},
     "output_type": "execute_result"
    }
   ],
   "source": [
    "df.iloc[::3,1]=np.nan # assign nan values for the column index 1 every after 3 rows\n",
    "df"
   ]
  },
  {
   "cell_type": "code",
   "execution_count": 138,
   "metadata": {},
   "outputs": [
    {
     "data": {
      "text/plain": [
       "a    False\n",
       "b     True\n",
       "dtype: bool"
      ]
     },
     "execution_count": 138,
     "metadata": {},
     "output_type": "execute_result"
    }
   ],
   "source": [
    "df.isnull().any() #check again"
   ]
  },
  {
   "cell_type": "code",
   "execution_count": 139,
   "metadata": {},
   "outputs": [
    {
     "data": {
      "text/plain": [
       "a    0\n",
       "b    5\n",
       "dtype: int64"
      ]
     },
     "execution_count": 139,
     "metadata": {},
     "output_type": "execute_result"
    }
   ],
   "source": [
    "df.isnull().sum() #look for the total nan values on every single column"
   ]
  },
  {
   "cell_type": "markdown",
   "metadata": {},
   "source": [
    "### Handling Missing values"
   ]
  },
  {
   "cell_type": "markdown",
   "metadata": {},
   "source": [
    "1. By filling with mean \n",
    "2. filling with median\n",
    "3. Dropping\n",
    "4. Forward and Backward filling\n"
   ]
  },
  {
   "cell_type": "code",
   "execution_count": 98,
   "metadata": {},
   "outputs": [
    {
     "data": {
      "text/html": [
       "<div>\n",
       "<style scoped>\n",
       "    .dataframe tbody tr th:only-of-type {\n",
       "        vertical-align: middle;\n",
       "    }\n",
       "\n",
       "    .dataframe tbody tr th {\n",
       "        vertical-align: top;\n",
       "    }\n",
       "\n",
       "    .dataframe thead th {\n",
       "        text-align: right;\n",
       "    }\n",
       "</style>\n",
       "<table border=\"1\" class=\"dataframe\">\n",
       "  <thead>\n",
       "    <tr style=\"text-align: right;\">\n",
       "      <th></th>\n",
       "      <th>a</th>\n",
       "      <th>b</th>\n",
       "    </tr>\n",
       "  </thead>\n",
       "  <tbody>\n",
       "    <tr>\n",
       "      <th>0</th>\n",
       "      <td>2783</td>\n",
       "      <td>3431.5</td>\n",
       "    </tr>\n",
       "    <tr>\n",
       "      <th>1</th>\n",
       "      <td>3151</td>\n",
       "      <td>1388.0</td>\n",
       "    </tr>\n",
       "    <tr>\n",
       "      <th>2</th>\n",
       "      <td>2287</td>\n",
       "      <td>64.0</td>\n",
       "    </tr>\n",
       "    <tr>\n",
       "      <th>3</th>\n",
       "      <td>7843</td>\n",
       "      <td>5151.0</td>\n",
       "    </tr>\n",
       "    <tr>\n",
       "      <th>4</th>\n",
       "      <td>4141</td>\n",
       "      <td>6731.0</td>\n",
       "    </tr>\n",
       "    <tr>\n",
       "      <th>5</th>\n",
       "      <td>1427</td>\n",
       "      <td>3431.5</td>\n",
       "    </tr>\n",
       "    <tr>\n",
       "      <th>6</th>\n",
       "      <td>5256</td>\n",
       "      <td>2202.0</td>\n",
       "    </tr>\n",
       "    <tr>\n",
       "      <th>7</th>\n",
       "      <td>1256</td>\n",
       "      <td>5781.0</td>\n",
       "    </tr>\n",
       "    <tr>\n",
       "      <th>8</th>\n",
       "      <td>7916</td>\n",
       "      <td>4553.0</td>\n",
       "    </tr>\n",
       "    <tr>\n",
       "      <th>9</th>\n",
       "      <td>1955</td>\n",
       "      <td>1582.0</td>\n",
       "    </tr>\n",
       "  </tbody>\n",
       "</table>\n",
       "</div>"
      ],
      "text/plain": [
       "      a       b\n",
       "0  2783  3431.5\n",
       "1  3151  1388.0\n",
       "2  2287    64.0\n",
       "3  7843  5151.0\n",
       "4  4141  6731.0\n",
       "5  1427  3431.5\n",
       "6  5256  2202.0\n",
       "7  1256  5781.0\n",
       "8  7916  4553.0\n",
       "9  1955  1582.0"
      ]
     },
     "execution_count": 98,
     "metadata": {},
     "output_type": "execute_result"
    }
   ],
   "source": [
    "df.fillna(df['b'].mean(),inplace=True)  #Filling with mean\n",
    "df"
   ]
  },
  {
   "cell_type": "code",
   "execution_count": null,
   "metadata": {},
   "outputs": [],
   "source": []
  },
  {
   "cell_type": "code",
   "execution_count": null,
   "metadata": {},
   "outputs": [],
   "source": [
    "df.fillna(df['b'].median(),inplace=True)  #Filling with median\n",
    "df.fillna(method='ffill') #Forward filling\n",
    "df.fillna(method='ffill') #Backward filling"
   ]
  },
  {
   "cell_type": "markdown",
   "metadata": {},
   "source": [
    "### REading CSV files in Pandas"
   ]
  },
  {
   "cell_type": "code",
   "execution_count": 111,
   "metadata": {},
   "outputs": [
    {
     "data": {
      "text/html": [
       "<div>\n",
       "<style scoped>\n",
       "    .dataframe tbody tr th:only-of-type {\n",
       "        vertical-align: middle;\n",
       "    }\n",
       "\n",
       "    .dataframe tbody tr th {\n",
       "        vertical-align: top;\n",
       "    }\n",
       "\n",
       "    .dataframe thead th {\n",
       "        text-align: right;\n",
       "    }\n",
       "</style>\n",
       "<table border=\"1\" class=\"dataframe\">\n",
       "  <thead>\n",
       "    <tr style=\"text-align: right;\">\n",
       "      <th></th>\n",
       "      <th>R&amp;D Spend</th>\n",
       "      <th>Administration</th>\n",
       "      <th>Marketing Spend</th>\n",
       "      <th>State</th>\n",
       "      <th>Profit</th>\n",
       "    </tr>\n",
       "  </thead>\n",
       "  <tbody>\n",
       "    <tr>\n",
       "      <th>0</th>\n",
       "      <td>165349.20</td>\n",
       "      <td>136897.80</td>\n",
       "      <td>471784.1</td>\n",
       "      <td>New York</td>\n",
       "      <td>192261.83</td>\n",
       "    </tr>\n",
       "    <tr>\n",
       "      <th>1</th>\n",
       "      <td>162597.70</td>\n",
       "      <td>151377.59</td>\n",
       "      <td>443898.53</td>\n",
       "      <td>California</td>\n",
       "      <td>191792.06</td>\n",
       "    </tr>\n",
       "    <tr>\n",
       "      <th>2</th>\n",
       "      <td>153441.51</td>\n",
       "      <td>101145.55</td>\n",
       "      <td>407934.54</td>\n",
       "      <td>Florida</td>\n",
       "      <td>191050.39</td>\n",
       "    </tr>\n",
       "    <tr>\n",
       "      <th>3</th>\n",
       "      <td>144372.41</td>\n",
       "      <td>118671.85</td>\n",
       "      <td>383199.62</td>\n",
       "      <td>New York</td>\n",
       "      <td>182901.99</td>\n",
       "    </tr>\n",
       "    <tr>\n",
       "      <th>4</th>\n",
       "      <td>142107.34</td>\n",
       "      <td>91391.77</td>\n",
       "      <td>366168.42</td>\n",
       "      <td>Florida</td>\n",
       "      <td>166187.94</td>\n",
       "    </tr>\n",
       "  </tbody>\n",
       "</table>\n",
       "</div>"
      ],
      "text/plain": [
       "   R&D Spend  Administration Marketing Spend       State     Profit\n",
       "0  165349.20       136897.80        471784.1    New York  192261.83\n",
       "1  162597.70       151377.59       443898.53  California  191792.06\n",
       "2  153441.51       101145.55       407934.54     Florida  191050.39\n",
       "3  144372.41       118671.85       383199.62    New York  182901.99\n",
       "4  142107.34        91391.77       366168.42     Florida  166187.94"
      ]
     },
     "execution_count": 111,
     "metadata": {},
     "output_type": "execute_result"
    }
   ],
   "source": [
    "data=pd.read_csv(r'C:\\Users\\kduisheev\\Documents\\pythohn bc IL\\50_Startups.csv')\n",
    "data.head()"
   ]
  },
  {
   "cell_type": "code",
   "execution_count": 100,
   "metadata": {},
   "outputs": [
    {
     "data": {
      "text/html": [
       "<div>\n",
       "<style scoped>\n",
       "    .dataframe tbody tr th:only-of-type {\n",
       "        vertical-align: middle;\n",
       "    }\n",
       "\n",
       "    .dataframe tbody tr th {\n",
       "        vertical-align: top;\n",
       "    }\n",
       "\n",
       "    .dataframe thead th {\n",
       "        text-align: right;\n",
       "    }\n",
       "</style>\n",
       "<table border=\"1\" class=\"dataframe\">\n",
       "  <thead>\n",
       "    <tr style=\"text-align: right;\">\n",
       "      <th></th>\n",
       "      <th>R&amp;D Spend</th>\n",
       "      <th>Administration</th>\n",
       "      <th>Marketing Spend</th>\n",
       "      <th>State</th>\n",
       "      <th>Profit</th>\n",
       "    </tr>\n",
       "  </thead>\n",
       "  <tbody>\n",
       "    <tr>\n",
       "      <th>48</th>\n",
       "      <td>542.05</td>\n",
       "      <td>51743.15</td>\n",
       "      <td>0</td>\n",
       "      <td>New York</td>\n",
       "      <td>35673.41</td>\n",
       "    </tr>\n",
       "    <tr>\n",
       "      <th>49</th>\n",
       "      <td>0.00</td>\n",
       "      <td>116983.80</td>\n",
       "      <td>45173.06</td>\n",
       "      <td>California</td>\n",
       "      <td>14681.40</td>\n",
       "    </tr>\n",
       "  </tbody>\n",
       "</table>\n",
       "</div>"
      ],
      "text/plain": [
       "    R&D Spend  Administration Marketing Spend       State    Profit\n",
       "48     542.05        51743.15               0    New York  35673.41\n",
       "49       0.00       116983.80        45173.06  California  14681.40"
      ]
     },
     "execution_count": 100,
     "metadata": {},
     "output_type": "execute_result"
    }
   ],
   "source": [
    "data.tail(2)"
   ]
  },
  {
   "cell_type": "code",
   "execution_count": 112,
   "metadata": {},
   "outputs": [
    {
     "data": {
      "text/plain": [
       "California    17\n",
       "New York      17\n",
       "Florida       16\n",
       "Name: State, dtype: int64"
      ]
     },
     "execution_count": 112,
     "metadata": {},
     "output_type": "execute_result"
    }
   ],
   "source": [
    "data['State'].value_counts() #getting frequqncy distribution of unique values"
   ]
  },
  {
   "cell_type": "code",
   "execution_count": 106,
   "metadata": {},
   "outputs": [
    {
     "data": {
      "text/plain": [
       "<matplotlib.axes._subplots.AxesSubplot at 0x1fd6301c5f8>"
      ]
     },
     "execution_count": 106,
     "metadata": {},
     "output_type": "execute_result"
    },
    {
     "data": {
      "image/png": "[encoded data removed]",
      "text/plain": [
       "<Figure size 576x432 with 1 Axes>"
      ]
     },
     "metadata": {},
     "output_type": "display_data"
    }
   ],
   "source": [
    "import matplotlib.pyplot as plt #plotting categorical features\n",
    "data['State'].value_counts().plot(kind='pie',figsize=(8,6),explode=[0,0.1,0,])\n",
    "\n"
   ]
  },
  {
   "cell_type": "code",
   "execution_count": 113,
   "metadata": {},
   "outputs": [
    {
     "data": {
      "text/plain": [
       "1900384.39"
      ]
     },
     "execution_count": 113,
     "metadata": {},
     "output_type": "execute_result"
    }
   ],
   "source": [
    "data[data['State']=='Florida']['Profit'].sum() #get the total profit done by state Florida"
   ]
  },
  {
   "cell_type": "code",
   "execution_count": 108,
   "metadata": {},
   "outputs": [
    {
     "data": {
      "text/html": [
       "<div>\n",
       "<style scoped>\n",
       "    .dataframe tbody tr th:only-of-type {\n",
       "        vertical-align: middle;\n",
       "    }\n",
       "\n",
       "    .dataframe tbody tr th {\n",
       "        vertical-align: top;\n",
       "    }\n",
       "\n",
       "    .dataframe thead th {\n",
       "        text-align: right;\n",
       "    }\n",
       "</style>\n",
       "<table border=\"1\" class=\"dataframe\">\n",
       "  <thead>\n",
       "    <tr style=\"text-align: right;\">\n",
       "      <th></th>\n",
       "      <th>size</th>\n",
       "      <th>mean</th>\n",
       "      <th>min</th>\n",
       "      <th>max</th>\n",
       "      <th>sum</th>\n",
       "    </tr>\n",
       "    <tr>\n",
       "      <th>State</th>\n",
       "      <th></th>\n",
       "      <th></th>\n",
       "      <th></th>\n",
       "      <th></th>\n",
       "      <th></th>\n",
       "    </tr>\n",
       "  </thead>\n",
       "  <tbody>\n",
       "    <tr>\n",
       "      <th>California</th>\n",
       "      <td>17</td>\n",
       "      <td>103905.175294</td>\n",
       "      <td>14681.40</td>\n",
       "      <td>191792.06</td>\n",
       "      <td>1766387.98</td>\n",
       "    </tr>\n",
       "    <tr>\n",
       "      <th>Florida</th>\n",
       "      <td>16</td>\n",
       "      <td>118774.024375</td>\n",
       "      <td>49490.75</td>\n",
       "      <td>191050.39</td>\n",
       "      <td>1900384.39</td>\n",
       "    </tr>\n",
       "    <tr>\n",
       "      <th>New York</th>\n",
       "      <td>17</td>\n",
       "      <td>113756.446471</td>\n",
       "      <td>35673.41</td>\n",
       "      <td>192261.83</td>\n",
       "      <td>1933859.59</td>\n",
       "    </tr>\n",
       "  </tbody>\n",
       "</table>\n",
       "</div>"
      ],
      "text/plain": [
       "            size           mean       min        max         sum\n",
       "State                                                           \n",
       "California    17  103905.175294  14681.40  191792.06  1766387.98\n",
       "Florida       16  118774.024375  49490.75  191050.39  1900384.39\n",
       "New York      17  113756.446471  35673.41  192261.83  1933859.59"
      ]
     },
     "execution_count": 108,
     "metadata": {},
     "output_type": "execute_result"
    }
   ],
   "source": [
    "group=data.groupby('State')['Profit'].agg(['size','mean','min','max','sum']) #apply grouping\n",
    "group"
   ]
  },
  {
   "cell_type": "code",
   "execution_count": 109,
   "metadata": {},
   "outputs": [
    {
     "data": {
      "text/html": [
       "<div>\n",
       "<style scoped>\n",
       "    .dataframe tbody tr th:only-of-type {\n",
       "        vertical-align: middle;\n",
       "    }\n",
       "\n",
       "    .dataframe tbody tr th {\n",
       "        vertical-align: top;\n",
       "    }\n",
       "\n",
       "    .dataframe thead th {\n",
       "        text-align: right;\n",
       "    }\n",
       "</style>\n",
       "<table border=\"1\" class=\"dataframe\">\n",
       "  <thead>\n",
       "    <tr style=\"text-align: right;\">\n",
       "      <th></th>\n",
       "      <th>State</th>\n",
       "      <th>size</th>\n",
       "      <th>mean</th>\n",
       "      <th>min</th>\n",
       "      <th>max</th>\n",
       "      <th>sum</th>\n",
       "    </tr>\n",
       "  </thead>\n",
       "  <tbody>\n",
       "    <tr>\n",
       "      <th>0</th>\n",
       "      <td>California</td>\n",
       "      <td>17</td>\n",
       "      <td>103905.175294</td>\n",
       "      <td>14681.40</td>\n",
       "      <td>191792.06</td>\n",
       "      <td>1766387.98</td>\n",
       "    </tr>\n",
       "    <tr>\n",
       "      <th>1</th>\n",
       "      <td>Florida</td>\n",
       "      <td>16</td>\n",
       "      <td>118774.024375</td>\n",
       "      <td>49490.75</td>\n",
       "      <td>191050.39</td>\n",
       "      <td>1900384.39</td>\n",
       "    </tr>\n",
       "    <tr>\n",
       "      <th>2</th>\n",
       "      <td>New York</td>\n",
       "      <td>17</td>\n",
       "      <td>113756.446471</td>\n",
       "      <td>35673.41</td>\n",
       "      <td>192261.83</td>\n",
       "      <td>1933859.59</td>\n",
       "    </tr>\n",
       "  </tbody>\n",
       "</table>\n",
       "</div>"
      ],
      "text/plain": [
       "        State  size           mean       min        max         sum\n",
       "0  California    17  103905.175294  14681.40  191792.06  1766387.98\n",
       "1     Florida    16  118774.024375  49490.75  191050.39  1900384.39\n",
       "2    New York    17  113756.446471  35673.41  192261.83  1933859.59"
      ]
     },
     "execution_count": 109,
     "metadata": {},
     "output_type": "execute_result"
    }
   ],
   "source": [
    "group.reset_index(inplace=True) \n",
    "group"
   ]
  },
  {
   "cell_type": "code",
   "execution_count": 110,
   "metadata": {},
   "outputs": [
    {
     "data": {
      "image/png": "[encoded data removed]",
      "text/plain": [
       "<Figure size 432x288 with 1 Axes>"
      ]
     },
     "metadata": {
      "needs_background": "light"
     },
     "output_type": "display_data"
    }
   ],
   "source": [
    "\n",
    "group.plot('State', ['sum','mean','max','size'], kind=\"bar\")\n",
    "plt.grid()\n",
    "plt.show()"
   ]
  },
  {
   "cell_type": "code",
   "execution_count": 149,
   "metadata": {},
   "outputs": [
    {
     "data": {
      "image/png": "[encoded data removed]",
      "text/plain": [
       "<Figure size 432x288 with 1 Axes>"
      ]
     },
     "metadata": {
      "needs_background": "light"
     },
     "output_type": "display_data"
    }
   ],
   "source": [
    "#Profit and research Spending analysis\n",
    "plt.plot(data['R&D Spend'],data['Profit'],color='red')\n",
    "plt.grid()\n",
    "plt.show()"
   ]
  },
  {
   "cell_type": "code",
   "execution_count": 147,
   "metadata": {},
   "outputs": [
    {
     "data": {
      "text/plain": [
       "count        50.000000\n",
       "mean     112012.639200\n",
       "std       40306.180338\n",
       "min       14681.400000\n",
       "25%       90138.902500\n",
       "50%      107978.190000\n",
       "75%      139765.977500\n",
       "max      192261.830000\n",
       "Name: Profit, dtype: float64"
      ]
     },
     "execution_count": 147,
     "metadata": {},
     "output_type": "execute_result"
    }
   ],
   "source": [
    "data['Profit'].describe()"
   ]
  },
  {
   "cell_type": "code",
   "execution_count": 148,
   "metadata": {},
   "outputs": [
    {
     "data": {
      "image/png": "[encoded data removed]",
      "text/plain": [
       "<Figure size 432x288 with 1 Axes>"
      ]
     },
     "metadata": {
      "needs_background": "light"
     },
     "output_type": "display_data"
    }
   ],
   "source": [
    "plt.boxplot(data['Profit'])\n",
    "plt.grid()\n",
    "plt.show()"
   ]
  },
  {
   "cell_type": "markdown",
   "metadata": {},
   "source": [
    "#### Box plot has : orange line >> Median, Upper boundary Maximum, Lower line> min\n",
    "#### rectangular region contains 50% of entire data, upper whisker contains 25% of data,\n",
    "#### as well as lower whisker, bubbles on the graph are outliers"
   ]
  },
  {
   "cell_type": "code",
   "execution_count": null,
   "metadata": {},
   "outputs": [],
   "source": []
  },
  {
   "cell_type": "markdown",
   "metadata": {},
   "source": [
    "### plotting of boxes by states"
   ]
  },
  {
   "cell_type": "code",
   "execution_count": 117,
   "metadata": {},
   "outputs": [
    {
     "data": {
      "text/plain": [
       "<matplotlib.axes._subplots.AxesSubplot at 0x1fd63307b38>"
      ]
     },
     "execution_count": 117,
     "metadata": {},
     "output_type": "execute_result"
    },
    {
     "data": {
      "image/png": "[encoded data removed]",
      "text/plain": [
       "<Figure size 432x288 with 1 Axes>"
      ]
     },
     "metadata": {
      "needs_background": "light"
     },
     "output_type": "display_data"
    }
   ],
   "source": [
    "import seaborn as sns\n",
    "sns.boxplot(x='State',y='Profit',data=data)"
   ]
  },
  {
   "cell_type": "markdown",
   "metadata": {},
   "source": [
    "#### New York has three outliers"
   ]
  },
  {
   "cell_type": "markdown",
   "metadata": {},
   "source": [
    "### correlation analysis"
   ]
  },
  {
   "attachments": {
    "image.png": {
     "image/png": "[encoded data removed]"
    }
   },
   "cell_type": "markdown",
   "metadata": {},
   "source": [
    "![image.png](attachment:image.png)"
   ]
  },
  {
   "cell_type": "markdown",
   "metadata": {},
   "source": [
    "Correlation is a statistical technique that can show whether and how strongly pairs of variables are related. For example, height and weight are related; taller people tend to be heavier than shorter people. "
   ]
  },
  {
   "cell_type": "markdown",
   "metadata": {},
   "source": [
    "The main result of a correlation is called the correlation coefficient (or \"r\"). It ranges from -1.0 to +1.0. The closer r is to +1 or -1, the more closely the two variables are related."
   ]
  },
  {
   "cell_type": "code",
   "execution_count": 155,
   "metadata": {},
   "outputs": [
    {
     "data": {
      "text/html": [
       "<div>\n",
       "<style scoped>\n",
       "    .dataframe tbody tr th:only-of-type {\n",
       "        vertical-align: middle;\n",
       "    }\n",
       "\n",
       "    .dataframe tbody tr th {\n",
       "        vertical-align: top;\n",
       "    }\n",
       "\n",
       "    .dataframe thead th {\n",
       "        text-align: right;\n",
       "    }\n",
       "</style>\n",
       "<table border=\"1\" class=\"dataframe\">\n",
       "  <thead>\n",
       "    <tr style=\"text-align: right;\">\n",
       "      <th></th>\n",
       "      <th>R&amp;D Spend</th>\n",
       "      <th>Administration</th>\n",
       "      <th>Profit</th>\n",
       "    </tr>\n",
       "  </thead>\n",
       "  <tbody>\n",
       "    <tr>\n",
       "      <th>R&amp;D Spend</th>\n",
       "      <td>1.000000</td>\n",
       "      <td>0.241955</td>\n",
       "      <td>0.972900</td>\n",
       "    </tr>\n",
       "    <tr>\n",
       "      <th>Administration</th>\n",
       "      <td>0.241955</td>\n",
       "      <td>1.000000</td>\n",
       "      <td>0.200717</td>\n",
       "    </tr>\n",
       "    <tr>\n",
       "      <th>Profit</th>\n",
       "      <td>0.972900</td>\n",
       "      <td>0.200717</td>\n",
       "      <td>1.000000</td>\n",
       "    </tr>\n",
       "  </tbody>\n",
       "</table>\n",
       "</div>"
      ],
      "text/plain": [
       "                R&D Spend  Administration    Profit\n",
       "R&D Spend        1.000000        0.241955  0.972900\n",
       "Administration   0.241955        1.000000  0.200717\n",
       "Profit           0.972900        0.200717  1.000000"
      ]
     },
     "execution_count": 155,
     "metadata": {},
     "output_type": "execute_result"
    }
   ],
   "source": [
    "data.corr() #function for getting correlation matrix"
   ]
  },
  {
   "cell_type": "code",
   "execution_count": 154,
   "metadata": {},
   "outputs": [
    {
     "data": {
      "image/png": "[encoded data removed]",
      "text/plain": [
       "<Figure size 432x288 with 1 Axes>"
      ]
     },
     "metadata": {
      "needs_background": "light"
     },
     "output_type": "display_data"
    }
   ],
   "source": [
    "plt.scatter(data['R&D Spend'],data['Profit'])\n",
    "plt.show()"
   ]
  },
  {
   "cell_type": "markdown",
   "metadata": {},
   "source": [
    "##### Table and graph Shows High positive correlation btwn profit and Research spending"
   ]
  },
  {
   "cell_type": "markdown",
   "metadata": {},
   "source": []
  },
  {
   "cell_type": "markdown",
   "metadata": {},
   "source": [
    "## Assignment Problems: Data set 50_StartUps.csv file"
   ]
  },
  {
   "cell_type": "markdown",
   "metadata": {},
   "source": [
    "#### Normalize numeric columns using at least two normalization techniques mentioned in the chapter(Use your python skills)\n",
    "#### Apply at least 5 missing values on any one of the columns then fill with any of the filling techniques mentioned above(except mean() filling)\n",
    "#### show scatter plot of numeric columns against each other, apply labelings\n",
    "#### get manhattan and euclidean distance matrix for numeric columns, \n",
    "#### choose any observation and explain who is the closest observation for him\n",
    "#### describe briefly about the type of  States column. what kind of data is that column\n",
    "#### explain which column has the highest correaltion against profit after R& D Spendings\n",
    " "
   ]
  },
  {
   "cell_type": "code",
   "execution_count": null,
   "metadata": {},
   "outputs": [],
   "source": []
  }
 ],
 "metadata": {
  "kernelspec": {
   "display_name": "Python 3",
   "language": "python",
   "name": "python3"
  },
  "language_info": {
   "codemirror_mode": {
    "name": "ipython",
    "version": 3
   },
   "file_extension": ".py",
   "mimetype": "text/x-python",
   "name": "python",
   "nbconvert_exporter": "python",
   "pygments_lexer": "ipython3",
   "version": "3.8.5"
  }
 },
 "nbformat": 4,
 "nbformat_minor": 2
}
