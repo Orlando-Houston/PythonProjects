{
 "cells": [
  {
   "cell_type": "code",
   "execution_count": 2,
   "metadata": {},
   "outputs": [
    {
     "data": {
      "text/html": [
       "<div>\n",
       "<style scoped>\n",
       "    .dataframe tbody tr th:only-of-type {\n",
       "        vertical-align: middle;\n",
       "    }\n",
       "\n",
       "    .dataframe tbody tr th {\n",
       "        vertical-align: top;\n",
       "    }\n",
       "\n",
       "    .dataframe thead th {\n",
       "        text-align: right;\n",
       "    }\n",
       "</style>\n",
       "<table border=\"1\" class=\"dataframe\">\n",
       "  <thead>\n",
       "    <tr style=\"text-align: right;\">\n",
       "      <th></th>\n",
       "      <th>First_pokemon</th>\n",
       "      <th>Second_pokemon</th>\n",
       "      <th>Winner</th>\n",
       "    </tr>\n",
       "  </thead>\n",
       "  <tbody>\n",
       "    <tr>\n",
       "      <th>0</th>\n",
       "      <td>266</td>\n",
       "      <td>298</td>\n",
       "      <td>298</td>\n",
       "    </tr>\n",
       "    <tr>\n",
       "      <th>1</th>\n",
       "      <td>702</td>\n",
       "      <td>701</td>\n",
       "      <td>701</td>\n",
       "    </tr>\n",
       "    <tr>\n",
       "      <th>2</th>\n",
       "      <td>191</td>\n",
       "      <td>668</td>\n",
       "      <td>668</td>\n",
       "    </tr>\n",
       "    <tr>\n",
       "      <th>3</th>\n",
       "      <td>237</td>\n",
       "      <td>683</td>\n",
       "      <td>683</td>\n",
       "    </tr>\n",
       "    <tr>\n",
       "      <th>4</th>\n",
       "      <td>151</td>\n",
       "      <td>231</td>\n",
       "      <td>151</td>\n",
       "    </tr>\n",
       "  </tbody>\n",
       "</table>\n",
       "</div>"
      ],
      "text/plain": [
       "   First_pokemon  Second_pokemon  Winner\n",
       "0            266             298     298\n",
       "1            702             701     701\n",
       "2            191             668     668\n",
       "3            237             683     683\n",
       "4            151             231     151"
      ]
     },
     "execution_count": 2,
     "metadata": {},
     "output_type": "execute_result"
    }
   ],
   "source": [
    "import pandas as pd\n",
    "combats = pd.read_csv(\"combats.csv\")\n",
    "combats.head(5)"
   ]
  },
  {
   "cell_type": "markdown",
   "metadata": {},
   "source": [
    "First row is No.266 pokemon vs No.298 pokemon battle, and No.298 pokemon is Winner. What are No.266 pokemon and No.298 pokemon? Check on pokemon.csv."
   ]
  },
  {
   "cell_type": "code",
   "execution_count": 3,
   "metadata": {},
   "outputs": [
    {
     "data": {
      "text/html": [
       "<div>\n",
       "<style scoped>\n",
       "    .dataframe tbody tr th:only-of-type {\n",
       "        vertical-align: middle;\n",
       "    }\n",
       "\n",
       "    .dataframe tbody tr th {\n",
       "        vertical-align: top;\n",
       "    }\n",
       "\n",
       "    .dataframe thead th {\n",
       "        text-align: right;\n",
       "    }\n",
       "</style>\n",
       "<table border=\"1\" class=\"dataframe\">\n",
       "  <thead>\n",
       "    <tr style=\"text-align: right;\">\n",
       "      <th></th>\n",
       "      <th>#</th>\n",
       "      <th>Name</th>\n",
       "      <th>Type 1</th>\n",
       "      <th>Type 2</th>\n",
       "      <th>HP</th>\n",
       "      <th>Attack</th>\n",
       "      <th>Defense</th>\n",
       "      <th>Sp. Atk</th>\n",
       "      <th>Sp. Def</th>\n",
       "      <th>Speed</th>\n",
       "      <th>Generation</th>\n",
       "      <th>Legendary</th>\n",
       "    </tr>\n",
       "  </thead>\n",
       "  <tbody>\n",
       "    <tr>\n",
       "      <th>265</th>\n",
       "      <td>266</td>\n",
       "      <td>Larvitar</td>\n",
       "      <td>Rock</td>\n",
       "      <td>Ground</td>\n",
       "      <td>50</td>\n",
       "      <td>64</td>\n",
       "      <td>50</td>\n",
       "      <td>45</td>\n",
       "      <td>50</td>\n",
       "      <td>41</td>\n",
       "      <td>2</td>\n",
       "      <td>False</td>\n",
       "    </tr>\n",
       "    <tr>\n",
       "      <th>297</th>\n",
       "      <td>298</td>\n",
       "      <td>Nuzleaf</td>\n",
       "      <td>Grass</td>\n",
       "      <td>Dark</td>\n",
       "      <td>70</td>\n",
       "      <td>70</td>\n",
       "      <td>40</td>\n",
       "      <td>60</td>\n",
       "      <td>40</td>\n",
       "      <td>60</td>\n",
       "      <td>3</td>\n",
       "      <td>False</td>\n",
       "    </tr>\n",
       "  </tbody>\n",
       "</table>\n",
       "</div>"
      ],
      "text/plain": [
       "       #      Name Type 1  Type 2  HP  Attack  Defense  Sp. Atk  Sp. Def  \\\n",
       "265  266  Larvitar   Rock  Ground  50      64       50       45       50   \n",
       "297  298   Nuzleaf  Grass    Dark  70      70       40       60       40   \n",
       "\n",
       "     Speed  Generation  Legendary  \n",
       "265     41           2      False  \n",
       "297     60           3      False  "
      ]
     },
     "execution_count": 3,
     "metadata": {},
     "output_type": "execute_result"
    }
   ],
   "source": [
    "pokemon = pd.read_csv(\"pokemon.csv\")\n",
    "pokemon_266_298 = pokemon[pokemon['#'].isin([266, 298])]\n",
    "pokemon_266_298"
   ]
  },
  {
   "cell_type": "markdown",
   "metadata": {},
   "source": [
    "No.266 pokemon is Lavitar. No.298 pokemon is Nuzleaf"
   ]
  },
  {
   "cell_type": "markdown",
   "metadata": {},
   "source": [
    "Winner is Nuzleaf. Nuzleaf's type is Rock and Ground, and Lavitar's type is Grass and Dark. Pokemon Type Chart is a following figure. According to this type chart, Nuzleaf has type advantage."
   ]
  },
  {
   "cell_type": "code",
   "execution_count": 4,
   "metadata": {},
   "outputs": [
    {
     "data": {
      "text/html": [
       "<div>\n",
       "<style scoped>\n",
       "    .dataframe tbody tr th:only-of-type {\n",
       "        vertical-align: middle;\n",
       "    }\n",
       "\n",
       "    .dataframe tbody tr th {\n",
       "        vertical-align: top;\n",
       "    }\n",
       "\n",
       "    .dataframe thead th {\n",
       "        text-align: right;\n",
       "    }\n",
       "</style>\n",
       "<table border=\"1\" class=\"dataframe\">\n",
       "  <thead>\n",
       "    <tr style=\"text-align: right;\">\n",
       "      <th></th>\n",
       "      <th>First_pokemon</th>\n",
       "      <th>Second_pokemon</th>\n",
       "      <th>Winner</th>\n",
       "    </tr>\n",
       "  </thead>\n",
       "  <tbody>\n",
       "    <tr>\n",
       "      <th>0</th>\n",
       "      <td>Larvitar</td>\n",
       "      <td>Nuzleaf</td>\n",
       "      <td>Nuzleaf</td>\n",
       "    </tr>\n",
       "    <tr>\n",
       "      <th>1</th>\n",
       "      <td>Virizion</td>\n",
       "      <td>Terrakion</td>\n",
       "      <td>Terrakion</td>\n",
       "    </tr>\n",
       "    <tr>\n",
       "      <th>2</th>\n",
       "      <td>Togetic</td>\n",
       "      <td>Beheeyem</td>\n",
       "      <td>Beheeyem</td>\n",
       "    </tr>\n",
       "  </tbody>\n",
       "</table>\n",
       "</div>"
      ],
      "text/plain": [
       "  First_pokemon Second_pokemon     Winner\n",
       "0      Larvitar        Nuzleaf    Nuzleaf\n",
       "1      Virizion      Terrakion  Terrakion\n",
       "2       Togetic       Beheeyem   Beheeyem"
      ]
     },
     "execution_count": 4,
     "metadata": {},
     "output_type": "execute_result"
    }
   ],
   "source": [
    "names_dict = dict(zip(pokemon['#'], pokemon['Name']))\n",
    "cols = [\"First_pokemon\",\"Second_pokemon\",\"Winner\"]\n",
    "combats_name = combats[cols].replace(names_dict)\n",
    "combats_name.head(3)\n"
   ]
  },
  {
   "cell_type": "markdown",
   "metadata": {},
   "source": [
    "## In combats file, Head 3 Battles and Winners:\n",
    "\n",
    "* Larvitar (Rock/Ground) vs Nuzleaf (Grass/Dark) -> Winner: Nuzleaf\n",
    "* Virizion (Fighting/Grass) vs Terrakion (Fighting/Rock) -> Winner: Terrakion\n",
    "* Togetic (Fairly/Flying) vs Beheeyem (Psychic) -> Winner: Beheeyem\n"
   ]
  },
  {
   "cell_type": "markdown",
   "metadata": {},
   "source": [
    "* 1-2. Analysis on Base stats\n",
    "* In Pokemon Game, species's base stats are an important defining characteristic.\n",
    "* Pokemons with high base stat total are strong and popular on battle.\n",
    "* Check the base stats total distribution for all pokemons."
   ]
  },
  {
   "cell_type": "code",
   "execution_count": 5,
   "metadata": {},
   "outputs": [
    {
     "name": "stdout",
     "output_type": "stream",
     "text": [
      "count    800.00000\n",
      "mean     435.10250\n",
      "std      119.96304\n",
      "min      180.00000\n",
      "25%      330.00000\n",
      "50%      450.00000\n",
      "75%      515.00000\n",
      "max      780.00000\n",
      "Name: stats_sum, dtype: float64\n"
     ]
    },
    {
     "name": "stderr",
     "output_type": "stream",
     "text": [
      "C:\\ANACONDA\\lib\\site-packages\\seaborn\\distributions.py:2551: FutureWarning: `distplot` is a deprecated function and will be removed in a future version. Please adapt your code to use either `displot` (a figure-level function with similar flexibility) or `histplot` (an axes-level function for histograms).\n",
      "  warnings.warn(msg, FutureWarning)\n"
     ]
    },
    {
     "data": {
      "image/png": "[encoded data removed]",
      "text/plain": [
       "<Figure size 432x288 with 1 Axes>"
      ]
     },
     "metadata": {
      "needs_background": "light"
     },
     "output_type": "display_data"
    }
   ],
   "source": [
    "pokemon[\"stats_sum\"] = pokemon[\"HP\"] + pokemon[\"Attack\"] + pokemon[\"Defense\"] + pokemon[\"Sp. Atk\"] + pokemon[\"Sp. Def\"] + pokemon[\"Speed\"]\n",
    "import matplotlib.pyplot as plt\n",
    "import seaborn as sns\n",
    "%matplotlib inline\n",
    "print(pokemon[\"stats_sum\"].describe())\n",
    "sns.distplot(pokemon[\"stats_sum\"])\n",
    "plt.show()"
   ]
  },
  {
   "cell_type": "markdown",
   "metadata": {},
   "source": [
    "* This distribution histogram shows that base stat total's distribution has a bimodal distribution.\n",
    "* First modal is around 300 and the other is around 500. \n",
    "* Next, Check the difference distribution of total base stats between one pokemon and the other pokemon in each match.\n",
    "\n"
   ]
  },
  {
   "cell_type": "code",
   "execution_count": 6,
   "metadata": {},
   "outputs": [
    {
     "name": "stdout",
     "output_type": "stream",
     "text": [
      "count    50000.000000\n",
      "mean       136.551440\n",
      "std        101.221212\n",
      "min          0.000000\n",
      "25%         54.000000\n",
      "50%        118.000000\n",
      "75%        200.000000\n",
      "max        590.000000\n",
      "dtype: float64\n"
     ]
    },
    {
     "name": "stderr",
     "output_type": "stream",
     "text": [
      "C:\\ANACONDA\\lib\\site-packages\\seaborn\\distributions.py:2551: FutureWarning: `distplot` is a deprecated function and will be removed in a future version. Please adapt your code to use either `displot` (a figure-level function with similar flexibility) or `histplot` (an axes-level function for histograms).\n",
      "  warnings.warn(msg, FutureWarning)\n"
     ]
    },
    {
     "data": {
      "image/png": "[encoded data removed]",
      "text/plain": [
       "<Figure size 432x288 with 1 Axes>"
      ]
     },
     "metadata": {
      "needs_background": "light"
     },
     "output_type": "display_data"
    }
   ],
   "source": [
    "stats_sum_dict = dict(zip(pokemon['#'], pokemon['stats_sum']))\n",
    "combats_stats_sum = combats[cols].replace(stats_sum_dict)\n",
    "diff_stats_sum = abs(combats_stats_sum[\"First_pokemon\"]-combats_stats_sum[\"Second_pokemon\"])\n",
    "print(diff_stats_sum.describe())\n",
    "sns.distplot(diff_stats_sum)\n",
    "plt.xlabel(\"diff_stats_sum\")\n",
    "plt.show()"
   ]
  },
  {
   "cell_type": "markdown",
   "metadata": {},
   "source": [
    "* On this distribution, median is 118.\n",
    "* Around 50% match are the battle has the difference more than 100 values.\n",
    "* Then, did pokemon with higher total base stats win a battle against pokemon with lower total base stats?"
   ]
  },
  {
   "cell_type": "code",
   "execution_count": 7,
   "metadata": {},
   "outputs": [
    {
     "name": "stdout",
     "output_type": "stream",
     "text": [
      "count    50000.000000\n",
      "mean        79.776320\n",
      "std        150.093351\n",
      "min       -562.000000\n",
      "25%        -20.000000\n",
      "50%         80.000000\n",
      "75%        186.000000\n",
      "max        590.000000\n",
      "dtype: float64\n"
     ]
    },
    {
     "name": "stderr",
     "output_type": "stream",
     "text": [
      "C:\\ANACONDA\\lib\\site-packages\\seaborn\\distributions.py:2551: FutureWarning: `distplot` is a deprecated function and will be removed in a future version. Please adapt your code to use either `displot` (a figure-level function with similar flexibility) or `histplot` (an axes-level function for histograms).\n",
      "  warnings.warn(msg, FutureWarning)\n"
     ]
    },
    {
     "data": {
      "image/png": "[encoded data removed]",
      "text/plain": [
       "<Figure size 432x288 with 1 Axes>"
      ]
     },
     "metadata": {
      "needs_background": "light"
     },
     "output_type": "display_data"
    }
   ],
   "source": [
    "combats_stats_sum[\"Loser\"] = combats_stats_sum.apply(lambda x: x[\"First_pokemon\"] if x[\"First_pokemon\"] !=  x[\"Winner\"] else x[\"Second_pokemon\"], axis = 1)\n",
    "diff_win_lose_stats = combats_stats_sum[\"Winner\"] - combats_stats_sum[\"Loser\"]\n",
    "print(diff_win_lose_stats.describe())\n",
    "sns.distplot(diff_win_lose_stats)\n",
    "plt.xlabel(\"diff_win_lose_stats\")\n",
    "plt.show()\n"
   ]
  },
  {
   "cell_type": "markdown",
   "metadata": {},
   "source": [
    "This distribution shows there is a tendency that pokemon with higher total base stats win a battle against pokemon with lower total base stats. It looks like \"A base stats total is a main factor for winning\". On the other hand, there are battles pokemon with lower base stats surpasses one's superiors. Check the combination battles pokemon with lower base stats surpasses one's superiors with more than 100 values."
   ]
  },
  {
   "cell_type": "code",
   "execution_count": 8,
   "metadata": {},
   "outputs": [
    {
     "name": "stdout",
     "output_type": "stream",
     "text": [
      "Surpassing one's superiors Battle number : 5716\n"
     ]
    },
    {
     "data": {
      "text/html": [
       "<div>\n",
       "<style scoped>\n",
       "    .dataframe tbody tr th:only-of-type {\n",
       "        vertical-align: middle;\n",
       "    }\n",
       "\n",
       "    .dataframe tbody tr th {\n",
       "        vertical-align: top;\n",
       "    }\n",
       "\n",
       "    .dataframe thead th {\n",
       "        text-align: right;\n",
       "    }\n",
       "</style>\n",
       "<table border=\"1\" class=\"dataframe\">\n",
       "  <thead>\n",
       "    <tr style=\"text-align: right;\">\n",
       "      <th></th>\n",
       "      <th>First_pokemon</th>\n",
       "      <th>Second_pokemon</th>\n",
       "      <th>Winner</th>\n",
       "      <th>diff</th>\n",
       "    </tr>\n",
       "  </thead>\n",
       "  <tbody>\n",
       "    <tr>\n",
       "      <th>5</th>\n",
       "      <td>Joltik</td>\n",
       "      <td>Aegislash Shield Forme</td>\n",
       "      <td>Joltik</td>\n",
       "      <td>-201</td>\n",
       "    </tr>\n",
       "    <tr>\n",
       "      <th>36</th>\n",
       "      <td>Pancham</td>\n",
       "      <td>Whismur</td>\n",
       "      <td>Whismur</td>\n",
       "      <td>-108</td>\n",
       "    </tr>\n",
       "    <tr>\n",
       "      <th>37</th>\n",
       "      <td>Clauncher</td>\n",
       "      <td>Dusclops</td>\n",
       "      <td>Clauncher</td>\n",
       "      <td>-125</td>\n",
       "    </tr>\n",
       "    <tr>\n",
       "      <th>42</th>\n",
       "      <td>Goomy</td>\n",
       "      <td>Bouffalant</td>\n",
       "      <td>Goomy</td>\n",
       "      <td>-190</td>\n",
       "    </tr>\n",
       "    <tr>\n",
       "      <th>51</th>\n",
       "      <td>Mega Rayquaza</td>\n",
       "      <td>Aegislash Shield Forme</td>\n",
       "      <td>Aegislash Shield Forme</td>\n",
       "      <td>-260</td>\n",
       "    </tr>\n",
       "    <tr>\n",
       "      <th>158</th>\n",
       "      <td>Bouffalant</td>\n",
       "      <td>Vullaby</td>\n",
       "      <td>Vullaby</td>\n",
       "      <td>-120</td>\n",
       "    </tr>\n",
       "    <tr>\n",
       "      <th>168</th>\n",
       "      <td>Keldeo Resolute Forme</td>\n",
       "      <td>Arbok</td>\n",
       "      <td>Arbok</td>\n",
       "      <td>-142</td>\n",
       "    </tr>\n",
       "    <tr>\n",
       "      <th>174</th>\n",
       "      <td>Gothorita</td>\n",
       "      <td>Volcanion</td>\n",
       "      <td>Gothorita</td>\n",
       "      <td>-210</td>\n",
       "    </tr>\n",
       "  </tbody>\n",
       "</table>\n",
       "</div>"
      ],
      "text/plain": [
       "             First_pokemon          Second_pokemon                  Winner  \\\n",
       "5                   Joltik  Aegislash Shield Forme                  Joltik   \n",
       "36                 Pancham                 Whismur                 Whismur   \n",
       "37               Clauncher                Dusclops               Clauncher   \n",
       "42                   Goomy              Bouffalant                   Goomy   \n",
       "51           Mega Rayquaza  Aegislash Shield Forme  Aegislash Shield Forme   \n",
       "158             Bouffalant                 Vullaby                 Vullaby   \n",
       "168  Keldeo Resolute Forme                   Arbok                   Arbok   \n",
       "174              Gothorita               Volcanion               Gothorita   \n",
       "\n",
       "     diff  \n",
       "5    -201  \n",
       "36   -108  \n",
       "37   -125  \n",
       "42   -190  \n",
       "51   -260  \n",
       "158  -120  \n",
       "168  -142  \n",
       "174  -210  "
      ]
     },
     "execution_count": 8,
     "metadata": {},
     "output_type": "execute_result"
    }
   ],
   "source": [
    "stats_sum_dict_re = dict(zip(pokemon['stats_sum'], pokemon['#']))\n",
    "combats_stats_sum[\"diff\"] = diff_win_lose_stats\n",
    "surpassing_stats_sum = combats_stats_sum[combats_stats_sum[\"diff\"] < -100]\n",
    "print (\"Surpassing one's superiors Battle number : \" + str(len(surpassing_stats_sum)))\n",
    "surpassing_id = surpassing_stats_sum[cols].replace(stats_sum_dict_re)\n",
    "surpassing_name = surpassing_id[cols].replace(names_dict)\n",
    "surpassing_name.join(combats_stats_sum[\"diff\"]).head(8)"
   ]
  },
  {
   "cell_type": "markdown",
   "metadata": {},
   "source": [
    "The number of combination has the difference more than 100 total values is 5716 combinations. These combinations account for 10% of all battles. Head 8 combinations and winners are below."
   ]
  },
  {
   "cell_type": "markdown",
   "metadata": {},
   "source": [
    "I want to know the combination has max difference of total base stats."
   ]
  },
  {
   "cell_type": "code",
   "execution_count": 9,
   "metadata": {},
   "outputs": [
    {
     "data": {
      "text/html": [
       "<div>\n",
       "<style scoped>\n",
       "    .dataframe tbody tr th:only-of-type {\n",
       "        vertical-align: middle;\n",
       "    }\n",
       "\n",
       "    .dataframe tbody tr th {\n",
       "        vertical-align: top;\n",
       "    }\n",
       "\n",
       "    .dataframe thead th {\n",
       "        text-align: right;\n",
       "    }\n",
       "</style>\n",
       "<table border=\"1\" class=\"dataframe\">\n",
       "  <thead>\n",
       "    <tr style=\"text-align: right;\">\n",
       "      <th></th>\n",
       "      <th>First_pokemon</th>\n",
       "      <th>Second_pokemon</th>\n",
       "      <th>Winner</th>\n",
       "      <th>diff</th>\n",
       "    </tr>\n",
       "  </thead>\n",
       "  <tbody>\n",
       "    <tr>\n",
       "      <th>5861</th>\n",
       "      <td>Mega Rayquaza</td>\n",
       "      <td>Cleffa</td>\n",
       "      <td>Cleffa</td>\n",
       "      <td>-562</td>\n",
       "    </tr>\n",
       "    <tr>\n",
       "      <th>2480</th>\n",
       "      <td>Mega Rayquaza</td>\n",
       "      <td>Cleffa</td>\n",
       "      <td>Cleffa</td>\n",
       "      <td>-562</td>\n",
       "    </tr>\n",
       "    <tr>\n",
       "      <th>41824</th>\n",
       "      <td>Shedinja</td>\n",
       "      <td>Mega Rayquaza</td>\n",
       "      <td>Shedinja</td>\n",
       "      <td>-544</td>\n",
       "    </tr>\n",
       "    <tr>\n",
       "      <th>3506</th>\n",
       "      <td>Mega Rayquaza</td>\n",
       "      <td>Inkay</td>\n",
       "      <td>Inkay</td>\n",
       "      <td>-492</td>\n",
       "    </tr>\n",
       "  </tbody>\n",
       "</table>\n",
       "</div>"
      ],
      "text/plain": [
       "       First_pokemon Second_pokemon    Winner  diff\n",
       "5861   Mega Rayquaza         Cleffa    Cleffa  -562\n",
       "2480   Mega Rayquaza         Cleffa    Cleffa  -562\n",
       "41824       Shedinja  Mega Rayquaza  Shedinja  -544\n",
       "3506   Mega Rayquaza          Inkay     Inkay  -492"
      ]
     },
     "execution_count": 9,
     "metadata": {},
     "output_type": "execute_result"
    }
   ],
   "source": [
    "surpassing_name.join(combats_stats_sum[\"diff\"]).sort_values(by=\"diff\").head(4)"
   ]
  },
  {
   "cell_type": "markdown",
   "metadata": {},
   "source": [
    "Mega Rayquaza has lost to pokemons with much lower base stats. The difference between Mega Rayquaza and Clefa is 562.\n",
    "\n",
    "1-3. Why it happen superior pokemons lose to inferior pokemons?\n",
    "In my idea, there may be 2 factors.\n",
    "\n",
    "First Attack\n",
    "Type advantage\n",
    "Firstly, Check the effectiveness of first attack."
   ]
  },
  {
   "cell_type": "code",
   "execution_count": 10,
   "metadata": {},
   "outputs": [
    {
     "name": "stderr",
     "output_type": "stream",
     "text": [
      "C:\\ANACONDA\\lib\\site-packages\\seaborn\\distributions.py:2551: FutureWarning: `distplot` is a deprecated function and will be removed in a future version. Please adapt your code to use either `displot` (a figure-level function with similar flexibility) or `histplot` (an axes-level function for histograms).\n",
      "  warnings.warn(msg, FutureWarning)\n",
      "C:\\ANACONDA\\lib\\site-packages\\seaborn\\distributions.py:2551: FutureWarning: `distplot` is a deprecated function and will be removed in a future version. Please adapt your code to use either `displot` (a figure-level function with similar flexibility) or `histplot` (an axes-level function for histograms).\n",
      "  warnings.warn(msg, FutureWarning)\n"
     ]
    },
    {
     "data": {
      "image/png": "[encoded data removed]",
      "text/plain": [
       "<Figure size 432x288 with 1 Axes>"
      ]
     },
     "metadata": {
      "needs_background": "light"
     },
     "output_type": "display_data"
    }
   ],
   "source": [
    "combats_stats_sum[\"First_Win\"] =  combats_stats_sum.apply(lambda x: 1 if x[\"First_pokemon\"] ==  x[\"Winner\"] else 0, axis = 1)\n",
    "surpassing_stats_sum = combats_stats_sum[combats_stats_sum[\"diff\"] < -100]\n",
    "sns.distplot(surpassing_stats_sum[surpassing_stats_sum[\"First_Win\"]==0][\"diff\"], label=\"First_pokemon_win=0\")\n",
    "sns.distplot(surpassing_stats_sum[surpassing_stats_sum[\"First_Win\"]==1][\"diff\"], label=\"First_pokemon_win=1\")\n",
    "plt.legend()\n",
    "plt.show()"
   ]
  },
  {
   "cell_type": "markdown",
   "metadata": {},
   "source": [
    "No difference between First attacker win and lose based on the base stats difference.\n",
    "Is it same on all combination battles?"
   ]
  },
  {
   "cell_type": "code",
   "execution_count": 11,
   "metadata": {},
   "outputs": [
    {
     "name": "stderr",
     "output_type": "stream",
     "text": [
      "C:\\ANACONDA\\lib\\site-packages\\seaborn\\distributions.py:2551: FutureWarning: `distplot` is a deprecated function and will be removed in a future version. Please adapt your code to use either `displot` (a figure-level function with similar flexibility) or `histplot` (an axes-level function for histograms).\n",
      "  warnings.warn(msg, FutureWarning)\n",
      "C:\\ANACONDA\\lib\\site-packages\\seaborn\\distributions.py:2551: FutureWarning: `distplot` is a deprecated function and will be removed in a future version. Please adapt your code to use either `displot` (a figure-level function with similar flexibility) or `histplot` (an axes-level function for histograms).\n",
      "  warnings.warn(msg, FutureWarning)\n"
     ]
    },
    {
     "name": "stdout",
     "output_type": "stream",
     "text": [
      "-First_Win=0-\n",
      "count    26065.000000\n",
      "mean        76.155764\n",
      "std        152.292707\n",
      "min       -562.000000\n",
      "25%        -27.000000\n",
      "50%         79.000000\n",
      "75%        185.000000\n",
      "max        585.000000\n",
      "Name: diff, dtype: float64\n",
      "-First_Win=1-\n",
      "count    23935.000000\n",
      "mean        83.719072\n",
      "std        147.563182\n",
      "min       -544.000000\n",
      "25%        -13.000000\n",
      "50%         82.000000\n",
      "75%        190.000000\n",
      "max        590.000000\n",
      "Name: diff, dtype: float64\n"
     ]
    },
    {
     "data": {
      "image/png": "[encoded data removed]",
      "text/plain": [
       "<Figure size 432x288 with 1 Axes>"
      ]
     },
     "metadata": {
      "needs_background": "light"
     },
     "output_type": "display_data"
    }
   ],
   "source": [
    "sns.distplot(combats_stats_sum[combats_stats_sum[\"First_Win\"]==0][\"diff\"], label=\"First_Win=0\")\n",
    "sns.distplot(combats_stats_sum[combats_stats_sum[\"First_Win\"]==1][\"diff\"], label=\"First_Win=1\")\n",
    "print (\"-First_Win=0-\")\n",
    "print (combats_stats_sum[combats_stats_sum[\"First_Win\"]==0][\"diff\"].describe())\n",
    "print (\"-First_Win=1-\")\n",
    "print (combats_stats_sum[combats_stats_sum[\"First_Win\"]==1][\"diff\"].describe())\n",
    "plt.legend()\n",
    "plt.show()"
   ]
  },
  {
   "cell_type": "code",
   "execution_count": null,
   "metadata": {},
   "outputs": [],
   "source": []
  }
 ],
 "metadata": {
  "kernelspec": {
   "display_name": "Python 3",
   "language": "python",
   "name": "python3"
  },
  "language_info": {
   "codemirror_mode": {
    "name": "ipython",
    "version": 3
   },
   "file_extension": ".py",
   "mimetype": "text/x-python",
   "name": "python",
   "nbconvert_exporter": "python",
   "pygments_lexer": "ipython3",
   "version": "3.8.5"
  }
 },
 "nbformat": 4,
 "nbformat_minor": 4
}
